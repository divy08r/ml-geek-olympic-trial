{
 "cells": [
  {
   "cell_type": "code",
   "execution_count": 1,
   "metadata": {},
   "outputs": [],
   "source": [
    "import numpy as np \n",
    "import pandas as pd\n",
    "import matplotlib.pyplot as plt\n",
    "import seaborn as sns"
   ]
  },
  {
   "cell_type": "code",
   "execution_count": 2,
   "metadata": {},
   "outputs": [
    {
     "data": {
      "text/html": [
       "<div>\n",
       "<style scoped>\n",
       "    .dataframe tbody tr th:only-of-type {\n",
       "        vertical-align: middle;\n",
       "    }\n",
       "\n",
       "    .dataframe tbody tr th {\n",
       "        vertical-align: top;\n",
       "    }\n",
       "\n",
       "    .dataframe thead th {\n",
       "        text-align: right;\n",
       "    }\n",
       "</style>\n",
       "<table border=\"1\" class=\"dataframe\">\n",
       "  <thead>\n",
       "    <tr style=\"text-align: right;\">\n",
       "      <th></th>\n",
       "      <th>discipline_title</th>\n",
       "      <th>slug_game</th>\n",
       "      <th>event_title</th>\n",
       "      <th>event_gender</th>\n",
       "      <th>medal_type</th>\n",
       "      <th>participant_type</th>\n",
       "      <th>participant_title</th>\n",
       "      <th>athlete_url</th>\n",
       "      <th>athlete_full_name</th>\n",
       "      <th>country_name</th>\n",
       "      <th>country_code</th>\n",
       "      <th>country_3_letter_code</th>\n",
       "    </tr>\n",
       "  </thead>\n",
       "  <tbody>\n",
       "    <tr>\n",
       "      <th>0</th>\n",
       "      <td>Curling</td>\n",
       "      <td>beijing-2022</td>\n",
       "      <td>Mixed Doubles</td>\n",
       "      <td>Mixed</td>\n",
       "      <td>GOLD</td>\n",
       "      <td>GameTeam</td>\n",
       "      <td>Italy</td>\n",
       "      <td>https://olympics.com/en/athletes/stefania-cons...</td>\n",
       "      <td>Stefania CONSTANTINI</td>\n",
       "      <td>Italy</td>\n",
       "      <td>IT</td>\n",
       "      <td>ITA</td>\n",
       "    </tr>\n",
       "    <tr>\n",
       "      <th>1</th>\n",
       "      <td>Curling</td>\n",
       "      <td>beijing-2022</td>\n",
       "      <td>Mixed Doubles</td>\n",
       "      <td>Mixed</td>\n",
       "      <td>GOLD</td>\n",
       "      <td>GameTeam</td>\n",
       "      <td>Italy</td>\n",
       "      <td>https://olympics.com/en/athletes/amos-mosaner</td>\n",
       "      <td>Amos MOSANER</td>\n",
       "      <td>Italy</td>\n",
       "      <td>IT</td>\n",
       "      <td>ITA</td>\n",
       "    </tr>\n",
       "    <tr>\n",
       "      <th>2</th>\n",
       "      <td>Curling</td>\n",
       "      <td>beijing-2022</td>\n",
       "      <td>Mixed Doubles</td>\n",
       "      <td>Mixed</td>\n",
       "      <td>SILVER</td>\n",
       "      <td>GameTeam</td>\n",
       "      <td>Norway</td>\n",
       "      <td>https://olympics.com/en/athletes/kristin-skaslien</td>\n",
       "      <td>Kristin SKASLIEN</td>\n",
       "      <td>Norway</td>\n",
       "      <td>NO</td>\n",
       "      <td>NOR</td>\n",
       "    </tr>\n",
       "    <tr>\n",
       "      <th>3</th>\n",
       "      <td>Curling</td>\n",
       "      <td>beijing-2022</td>\n",
       "      <td>Mixed Doubles</td>\n",
       "      <td>Mixed</td>\n",
       "      <td>SILVER</td>\n",
       "      <td>GameTeam</td>\n",
       "      <td>Norway</td>\n",
       "      <td>https://olympics.com/en/athletes/magnus-nedreg...</td>\n",
       "      <td>Magnus NEDREGOTTEN</td>\n",
       "      <td>Norway</td>\n",
       "      <td>NO</td>\n",
       "      <td>NOR</td>\n",
       "    </tr>\n",
       "    <tr>\n",
       "      <th>4</th>\n",
       "      <td>Curling</td>\n",
       "      <td>beijing-2022</td>\n",
       "      <td>Mixed Doubles</td>\n",
       "      <td>Mixed</td>\n",
       "      <td>BRONZE</td>\n",
       "      <td>GameTeam</td>\n",
       "      <td>Sweden</td>\n",
       "      <td>https://olympics.com/en/athletes/almida-de-val</td>\n",
       "      <td>Almida DE VAL</td>\n",
       "      <td>Sweden</td>\n",
       "      <td>SE</td>\n",
       "      <td>SWE</td>\n",
       "    </tr>\n",
       "  </tbody>\n",
       "</table>\n",
       "</div>"
      ],
      "text/plain": [
       "  discipline_title     slug_game    event_title event_gender medal_type   \n",
       "0          Curling  beijing-2022  Mixed Doubles        Mixed       GOLD  \\\n",
       "1          Curling  beijing-2022  Mixed Doubles        Mixed       GOLD   \n",
       "2          Curling  beijing-2022  Mixed Doubles        Mixed     SILVER   \n",
       "3          Curling  beijing-2022  Mixed Doubles        Mixed     SILVER   \n",
       "4          Curling  beijing-2022  Mixed Doubles        Mixed     BRONZE   \n",
       "\n",
       "  participant_type participant_title   \n",
       "0         GameTeam             Italy  \\\n",
       "1         GameTeam             Italy   \n",
       "2         GameTeam            Norway   \n",
       "3         GameTeam            Norway   \n",
       "4         GameTeam            Sweden   \n",
       "\n",
       "                                         athlete_url     athlete_full_name   \n",
       "0  https://olympics.com/en/athletes/stefania-cons...  Stefania CONSTANTINI  \\\n",
       "1      https://olympics.com/en/athletes/amos-mosaner          Amos MOSANER   \n",
       "2  https://olympics.com/en/athletes/kristin-skaslien      Kristin SKASLIEN   \n",
       "3  https://olympics.com/en/athletes/magnus-nedreg...    Magnus NEDREGOTTEN   \n",
       "4     https://olympics.com/en/athletes/almida-de-val         Almida DE VAL   \n",
       "\n",
       "  country_name country_code country_3_letter_code  \n",
       "0        Italy           IT                   ITA  \n",
       "1        Italy           IT                   ITA  \n",
       "2       Norway           NO                   NOR  \n",
       "3       Norway           NO                   NOR  \n",
       "4       Sweden           SE                   SWE  "
      ]
     },
     "execution_count": 2,
     "metadata": {},
     "output_type": "execute_result"
    }
   ],
   "source": [
    "medal = pd.read_csv('file.csv')\n",
    "medal.head()"
   ]
  },
  {
   "cell_type": "code",
   "execution_count": 3,
   "metadata": {},
   "outputs": [
    {
     "name": "stdout",
     "output_type": "stream",
     "text": [
      "<class 'pandas.core.frame.DataFrame'>\n",
      "RangeIndex: 21697 entries, 0 to 21696\n",
      "Data columns (total 12 columns):\n",
      " #   Column                 Non-Null Count  Dtype \n",
      "---  ------                 --------------  ----- \n",
      " 0   discipline_title       21697 non-null  object\n",
      " 1   slug_game              21697 non-null  object\n",
      " 2   event_title            21697 non-null  object\n",
      " 3   event_gender           21697 non-null  object\n",
      " 4   medal_type             21697 non-null  object\n",
      " 5   participant_type       21697 non-null  object\n",
      " 6   participant_title      6584 non-null   object\n",
      " 7   athlete_url            17027 non-null  object\n",
      " 8   athlete_full_name      18073 non-null  object\n",
      " 9   country_name           21697 non-null  object\n",
      " 10  country_code           20195 non-null  object\n",
      " 11  country_3_letter_code  21697 non-null  object\n",
      "dtypes: object(12)\n",
      "memory usage: 2.0+ MB\n"
     ]
    }
   ],
   "source": [
    "medal.info()"
   ]
  },
  {
   "cell_type": "code",
   "execution_count": 4,
   "metadata": {},
   "outputs": [
    {
     "data": {
      "text/html": [
       "<div>\n",
       "<style scoped>\n",
       "    .dataframe tbody tr th:only-of-type {\n",
       "        vertical-align: middle;\n",
       "    }\n",
       "\n",
       "    .dataframe tbody tr th {\n",
       "        vertical-align: top;\n",
       "    }\n",
       "\n",
       "    .dataframe thead th {\n",
       "        text-align: right;\n",
       "    }\n",
       "</style>\n",
       "<table border=\"1\" class=\"dataframe\">\n",
       "  <thead>\n",
       "    <tr style=\"text-align: right;\">\n",
       "      <th></th>\n",
       "      <th>discipline_title</th>\n",
       "      <th>slug_game</th>\n",
       "      <th>event_title</th>\n",
       "      <th>event_gender</th>\n",
       "      <th>medal_type</th>\n",
       "      <th>participant_type</th>\n",
       "      <th>participant_title</th>\n",
       "      <th>athlete_url</th>\n",
       "      <th>athlete_full_name</th>\n",
       "      <th>country_name</th>\n",
       "      <th>country_code</th>\n",
       "      <th>country_3_letter_code</th>\n",
       "    </tr>\n",
       "  </thead>\n",
       "  <tbody>\n",
       "    <tr>\n",
       "      <th>count</th>\n",
       "      <td>21697</td>\n",
       "      <td>21697</td>\n",
       "      <td>21697</td>\n",
       "      <td>21697</td>\n",
       "      <td>21697</td>\n",
       "      <td>21697</td>\n",
       "      <td>6584</td>\n",
       "      <td>17027</td>\n",
       "      <td>18073</td>\n",
       "      <td>21697</td>\n",
       "      <td>20195</td>\n",
       "      <td>21697</td>\n",
       "    </tr>\n",
       "    <tr>\n",
       "      <th>unique</th>\n",
       "      <td>86</td>\n",
       "      <td>53</td>\n",
       "      <td>1436</td>\n",
       "      <td>4</td>\n",
       "      <td>3</td>\n",
       "      <td>2</td>\n",
       "      <td>493</td>\n",
       "      <td>12116</td>\n",
       "      <td>12895</td>\n",
       "      <td>154</td>\n",
       "      <td>143</td>\n",
       "      <td>154</td>\n",
       "    </tr>\n",
       "    <tr>\n",
       "      <th>top</th>\n",
       "      <td>Athletics</td>\n",
       "      <td>tokyo-2020</td>\n",
       "      <td>Individual men</td>\n",
       "      <td>Men</td>\n",
       "      <td>BRONZE</td>\n",
       "      <td>Athlete</td>\n",
       "      <td>United States team</td>\n",
       "      <td>https://olympics.com/en/athletes/michael-phelp...</td>\n",
       "      <td>Michael PHELPS</td>\n",
       "      <td>United States of America</td>\n",
       "      <td>US</td>\n",
       "      <td>USA</td>\n",
       "    </tr>\n",
       "    <tr>\n",
       "      <th>freq</th>\n",
       "      <td>3080</td>\n",
       "      <td>1188</td>\n",
       "      <td>215</td>\n",
       "      <td>13932</td>\n",
       "      <td>7529</td>\n",
       "      <td>15113</td>\n",
       "      <td>523</td>\n",
       "      <td>16</td>\n",
       "      <td>16</td>\n",
       "      <td>3094</td>\n",
       "      <td>3094</td>\n",
       "      <td>3094</td>\n",
       "    </tr>\n",
       "  </tbody>\n",
       "</table>\n",
       "</div>"
      ],
      "text/plain": [
       "       discipline_title   slug_game     event_title event_gender medal_type   \n",
       "count             21697       21697           21697        21697      21697  \\\n",
       "unique               86          53            1436            4          3   \n",
       "top           Athletics  tokyo-2020  Individual men          Men     BRONZE   \n",
       "freq               3080        1188             215        13932       7529   \n",
       "\n",
       "       participant_type   participant_title   \n",
       "count             21697                6584  \\\n",
       "unique                2                 493   \n",
       "top             Athlete  United States team   \n",
       "freq              15113                 523   \n",
       "\n",
       "                                              athlete_url athlete_full_name   \n",
       "count                                               17027             18073  \\\n",
       "unique                                              12116             12895   \n",
       "top     https://olympics.com/en/athletes/michael-phelp...    Michael PHELPS   \n",
       "freq                                                   16                16   \n",
       "\n",
       "                    country_name country_code country_3_letter_code  \n",
       "count                      21697        20195                 21697  \n",
       "unique                       154          143                   154  \n",
       "top     United States of America           US                   USA  \n",
       "freq                        3094         3094                  3094  "
      ]
     },
     "execution_count": 4,
     "metadata": {},
     "output_type": "execute_result"
    }
   ],
   "source": [
    "medal.describe()"
   ]
  },
  {
   "cell_type": "markdown",
   "metadata": {},
   "source": [
    "Performing **Data Analysis and Data Visualization**"
   ]
  },
  {
   "cell_type": "code",
   "execution_count": 5,
   "metadata": {},
   "outputs": [],
   "source": [
    "import plotly.express as px"
   ]
  },
  {
   "cell_type": "code",
   "execution_count": 6,
   "metadata": {},
   "outputs": [
    {
     "data": {
      "text/plain": [
       "country_name\n",
       "United States of America    3094\n",
       "Soviet Union                1272\n",
       "Germany                     1167\n",
       "Great Britain               1045\n",
       "France                       952\n",
       "                            ... \n",
       "Eritrea                        1\n",
       "Paraguay                       1\n",
       "Burkina Faso                   1\n",
       "Tonga                          1\n",
       "Turkmenistan                   1\n",
       "Name: count, Length: 154, dtype: int64"
      ]
     },
     "execution_count": 6,
     "metadata": {},
     "output_type": "execute_result"
    }
   ],
   "source": [
    "s1 = medal.country_name.value_counts()\n",
    "s1"
   ]
  },
  {
   "cell_type": "code",
   "execution_count": 7,
   "metadata": {},
   "outputs": [
    {
     "data": {
      "text/html": [
       "<div>\n",
       "<style scoped>\n",
       "    .dataframe tbody tr th:only-of-type {\n",
       "        vertical-align: middle;\n",
       "    }\n",
       "\n",
       "    .dataframe tbody tr th {\n",
       "        vertical-align: top;\n",
       "    }\n",
       "\n",
       "    .dataframe thead th {\n",
       "        text-align: right;\n",
       "    }\n",
       "</style>\n",
       "<table border=\"1\" class=\"dataframe\">\n",
       "  <thead>\n",
       "    <tr style=\"text-align: right;\">\n",
       "      <th></th>\n",
       "      <th>country_name</th>\n",
       "      <th>count</th>\n",
       "    </tr>\n",
       "  </thead>\n",
       "  <tbody>\n",
       "    <tr>\n",
       "      <th>0</th>\n",
       "      <td>United States of America</td>\n",
       "      <td>3094</td>\n",
       "    </tr>\n",
       "    <tr>\n",
       "      <th>1</th>\n",
       "      <td>Soviet Union</td>\n",
       "      <td>1272</td>\n",
       "    </tr>\n",
       "    <tr>\n",
       "      <th>2</th>\n",
       "      <td>Germany</td>\n",
       "      <td>1167</td>\n",
       "    </tr>\n",
       "    <tr>\n",
       "      <th>3</th>\n",
       "      <td>Great Britain</td>\n",
       "      <td>1045</td>\n",
       "    </tr>\n",
       "    <tr>\n",
       "      <th>4</th>\n",
       "      <td>France</td>\n",
       "      <td>952</td>\n",
       "    </tr>\n",
       "    <tr>\n",
       "      <th>...</th>\n",
       "      <td>...</td>\n",
       "      <td>...</td>\n",
       "    </tr>\n",
       "    <tr>\n",
       "      <th>149</th>\n",
       "      <td>Eritrea</td>\n",
       "      <td>1</td>\n",
       "    </tr>\n",
       "    <tr>\n",
       "      <th>150</th>\n",
       "      <td>Paraguay</td>\n",
       "      <td>1</td>\n",
       "    </tr>\n",
       "    <tr>\n",
       "      <th>151</th>\n",
       "      <td>Burkina Faso</td>\n",
       "      <td>1</td>\n",
       "    </tr>\n",
       "    <tr>\n",
       "      <th>152</th>\n",
       "      <td>Tonga</td>\n",
       "      <td>1</td>\n",
       "    </tr>\n",
       "    <tr>\n",
       "      <th>153</th>\n",
       "      <td>Turkmenistan</td>\n",
       "      <td>1</td>\n",
       "    </tr>\n",
       "  </tbody>\n",
       "</table>\n",
       "<p>154 rows × 2 columns</p>\n",
       "</div>"
      ],
      "text/plain": [
       "                 country_name  count\n",
       "0    United States of America   3094\n",
       "1                Soviet Union   1272\n",
       "2                     Germany   1167\n",
       "3               Great Britain   1045\n",
       "4                      France    952\n",
       "..                        ...    ...\n",
       "149                   Eritrea      1\n",
       "150                  Paraguay      1\n",
       "151              Burkina Faso      1\n",
       "152                     Tonga      1\n",
       "153              Turkmenistan      1\n",
       "\n",
       "[154 rows x 2 columns]"
      ]
     },
     "execution_count": 7,
     "metadata": {},
     "output_type": "execute_result"
    }
   ],
   "source": [
    "new1 = pd.DataFrame({'country_name' : s1.index , 'count' : s1.values})\n",
    "new1\n"
   ]
  },
  {
   "cell_type": "code",
   "execution_count": 8,
   "metadata": {},
   "outputs": [
    {
     "data": {
      "application/vnd.plotly.v1+json": {
       "config": {
        "plotlyServerURL": "https://plot.ly"
       },
       "data": [
        {
         "geo": "geo",
         "hovertemplate": "country_name=%{location}<br>count=%{marker.size}<extra></extra>",
         "legendgroup": "United States of America",
         "locationmode": "country names",
         "locations": [
          "United States of America"
         ],
         "marker": {
          "color": "#636efa",
          "size": [
           3094
          ],
          "sizemode": "area",
          "sizeref": 7.735,
          "symbol": "circle"
         },
         "mode": "markers",
         "name": "United States of America",
         "showlegend": true,
         "type": "scattergeo"
        },
        {
         "geo": "geo",
         "hovertemplate": "country_name=%{location}<br>count=%{marker.size}<extra></extra>",
         "legendgroup": "Soviet Union",
         "locationmode": "country names",
         "locations": [
          "Soviet Union"
         ],
         "marker": {
          "color": "#EF553B",
          "size": [
           1272
          ],
          "sizemode": "area",
          "sizeref": 7.735,
          "symbol": "circle"
         },
         "mode": "markers",
         "name": "Soviet Union",
         "showlegend": true,
         "type": "scattergeo"
        },
        {
         "geo": "geo",
         "hovertemplate": "country_name=%{location}<br>count=%{marker.size}<extra></extra>",
         "legendgroup": "Germany",
         "locationmode": "country names",
         "locations": [
          "Germany"
         ],
         "marker": {
          "color": "#00cc96",
          "size": [
           1167
          ],
          "sizemode": "area",
          "sizeref": 7.735,
          "symbol": "circle"
         },
         "mode": "markers",
         "name": "Germany",
         "showlegend": true,
         "type": "scattergeo"
        },
        {
         "geo": "geo",
         "hovertemplate": "country_name=%{location}<br>count=%{marker.size}<extra></extra>",
         "legendgroup": "Great Britain",
         "locationmode": "country names",
         "locations": [
          "Great Britain"
         ],
         "marker": {
          "color": "#ab63fa",
          "size": [
           1045
          ],
          "sizemode": "area",
          "sizeref": 7.735,
          "symbol": "circle"
         },
         "mode": "markers",
         "name": "Great Britain",
         "showlegend": true,
         "type": "scattergeo"
        },
        {
         "geo": "geo",
         "hovertemplate": "country_name=%{location}<br>count=%{marker.size}<extra></extra>",
         "legendgroup": "France",
         "locationmode": "country names",
         "locations": [
          "France"
         ],
         "marker": {
          "color": "#FFA15A",
          "size": [
           952
          ],
          "sizemode": "area",
          "sizeref": 7.735,
          "symbol": "circle"
         },
         "mode": "markers",
         "name": "France",
         "showlegend": true,
         "type": "scattergeo"
        },
        {
         "geo": "geo",
         "hovertemplate": "country_name=%{location}<br>count=%{marker.size}<extra></extra>",
         "legendgroup": "People's Republic of China",
         "locationmode": "country names",
         "locations": [
          "People's Republic of China"
         ],
         "marker": {
          "color": "#19d3f3",
          "size": [
           807
          ],
          "sizemode": "area",
          "sizeref": 7.735,
          "symbol": "circle"
         },
         "mode": "markers",
         "name": "People's Republic of China",
         "showlegend": true,
         "type": "scattergeo"
        },
        {
         "geo": "geo",
         "hovertemplate": "country_name=%{location}<br>count=%{marker.size}<extra></extra>",
         "legendgroup": "Italy",
         "locationmode": "country names",
         "locations": [
          "Italy"
         ],
         "marker": {
          "color": "#FF6692",
          "size": [
           805
          ],
          "sizemode": "area",
          "sizeref": 7.735,
          "symbol": "circle"
         },
         "mode": "markers",
         "name": "Italy",
         "showlegend": true,
         "type": "scattergeo"
        },
        {
         "geo": "geo",
         "hovertemplate": "country_name=%{location}<br>count=%{marker.size}<extra></extra>",
         "legendgroup": "Sweden",
         "locationmode": "country names",
         "locations": [
          "Sweden"
         ],
         "marker": {
          "color": "#B6E880",
          "size": [
           709
          ],
          "sizemode": "area",
          "sizeref": 7.735,
          "symbol": "circle"
         },
         "mode": "markers",
         "name": "Sweden",
         "showlegend": true,
         "type": "scattergeo"
        },
        {
         "geo": "geo",
         "hovertemplate": "country_name=%{location}<br>count=%{marker.size}<extra></extra>",
         "legendgroup": "Australia",
         "locationmode": "country names",
         "locations": [
          "Australia"
         ],
         "marker": {
          "color": "#FF97FF",
          "size": [
           627
          ],
          "sizemode": "area",
          "sizeref": 7.735,
          "symbol": "circle"
         },
         "mode": "markers",
         "name": "Australia",
         "showlegend": true,
         "type": "scattergeo"
        },
        {
         "geo": "geo",
         "hovertemplate": "country_name=%{location}<br>count=%{marker.size}<extra></extra>",
         "legendgroup": "Canada",
         "locationmode": "country names",
         "locations": [
          "Canada"
         ],
         "marker": {
          "color": "#FECB52",
          "size": [
           602
          ],
          "sizemode": "area",
          "sizeref": 7.735,
          "symbol": "circle"
         },
         "mode": "markers",
         "name": "Canada",
         "showlegend": true,
         "type": "scattergeo"
        },
        {
         "geo": "geo",
         "hovertemplate": "country_name=%{location}<br>count=%{marker.size}<extra></extra>",
         "legendgroup": "Russian Federation",
         "locationmode": "country names",
         "locations": [
          "Russian Federation"
         ],
         "marker": {
          "color": "#636efa",
          "size": [
           599
          ],
          "sizemode": "area",
          "sizeref": 7.735,
          "symbol": "circle"
         },
         "mode": "markers",
         "name": "Russian Federation",
         "showlegend": true,
         "type": "scattergeo"
        },
        {
         "geo": "geo",
         "hovertemplate": "country_name=%{location}<br>count=%{marker.size}<extra></extra>",
         "legendgroup": "Norway",
         "locationmode": "country names",
         "locations": [
          "Norway"
         ],
         "marker": {
          "color": "#EF553B",
          "size": [
           589
          ],
          "sizemode": "area",
          "sizeref": 7.735,
          "symbol": "circle"
         },
         "mode": "markers",
         "name": "Norway",
         "showlegend": true,
         "type": "scattergeo"
        },
        {
         "geo": "geo",
         "hovertemplate": "country_name=%{location}<br>count=%{marker.size}<extra></extra>",
         "legendgroup": "Japan",
         "locationmode": "country names",
         "locations": [
          "Japan"
         ],
         "marker": {
          "color": "#00cc96",
          "size": [
           587
          ],
          "sizemode": "area",
          "sizeref": 7.735,
          "symbol": "circle"
         },
         "mode": "markers",
         "name": "Japan",
         "showlegend": true,
         "type": "scattergeo"
        },
        {
         "geo": "geo",
         "hovertemplate": "country_name=%{location}<br>count=%{marker.size}<extra></extra>",
         "legendgroup": "German Democratic Republic (Germany)",
         "locationmode": "country names",
         "locations": [
          "German Democratic Republic (Germany)"
         ],
         "marker": {
          "color": "#ab63fa",
          "size": [
           562
          ],
          "sizemode": "area",
          "sizeref": 7.735,
          "symbol": "circle"
         },
         "mode": "markers",
         "name": "German Democratic Republic (Germany)",
         "showlegend": true,
         "type": "scattergeo"
        },
        {
         "geo": "geo",
         "hovertemplate": "country_name=%{location}<br>count=%{marker.size}<extra></extra>",
         "legendgroup": "Hungary",
         "locationmode": "country names",
         "locations": [
          "Hungary"
         ],
         "marker": {
          "color": "#FFA15A",
          "size": [
           559
          ],
          "sizemode": "area",
          "sizeref": 7.735,
          "symbol": "circle"
         },
         "mode": "markers",
         "name": "Hungary",
         "showlegend": true,
         "type": "scattergeo"
        },
        {
         "geo": "geo",
         "hovertemplate": "country_name=%{location}<br>count=%{marker.size}<extra></extra>",
         "legendgroup": "Netherlands",
         "locationmode": "country names",
         "locations": [
          "Netherlands"
         ],
         "marker": {
          "color": "#19d3f3",
          "size": [
           501
          ],
          "sizemode": "area",
          "sizeref": 7.735,
          "symbol": "circle"
         },
         "mode": "markers",
         "name": "Netherlands",
         "showlegend": true,
         "type": "scattergeo"
        },
        {
         "geo": "geo",
         "hovertemplate": "country_name=%{location}<br>count=%{marker.size}<extra></extra>",
         "legendgroup": "Finland",
         "locationmode": "country names",
         "locations": [
          "Finland"
         ],
         "marker": {
          "color": "#FF6692",
          "size": [
           490
          ],
          "sizemode": "area",
          "sizeref": 7.735,
          "symbol": "circle"
         },
         "mode": "markers",
         "name": "Finland",
         "showlegend": true,
         "type": "scattergeo"
        },
        {
         "geo": "geo",
         "hovertemplate": "country_name=%{location}<br>count=%{marker.size}<extra></extra>",
         "legendgroup": "Switzerland",
         "locationmode": "country names",
         "locations": [
          "Switzerland"
         ],
         "marker": {
          "color": "#B6E880",
          "size": [
           402
          ],
          "sizemode": "area",
          "sizeref": 7.735,
          "symbol": "circle"
         },
         "mode": "markers",
         "name": "Switzerland",
         "showlegend": true,
         "type": "scattergeo"
        },
        {
         "geo": "geo",
         "hovertemplate": "country_name=%{location}<br>count=%{marker.size}<extra></extra>",
         "legendgroup": "Republic of Korea",
         "locationmode": "country names",
         "locations": [
          "Republic of Korea"
         ],
         "marker": {
          "color": "#FF97FF",
          "size": [
           393
          ],
          "sizemode": "area",
          "sizeref": 7.735,
          "symbol": "circle"
         },
         "mode": "markers",
         "name": "Republic of Korea",
         "showlegend": true,
         "type": "scattergeo"
        },
        {
         "geo": "geo",
         "hovertemplate": "country_name=%{location}<br>count=%{marker.size}<extra></extra>",
         "legendgroup": "Austria",
         "locationmode": "country names",
         "locations": [
          "Austria"
         ],
         "marker": {
          "color": "#FECB52",
          "size": [
           371
          ],
          "sizemode": "area",
          "sizeref": 7.735,
          "symbol": "circle"
         },
         "mode": "markers",
         "name": "Austria",
         "showlegend": true,
         "type": "scattergeo"
        },
        {
         "geo": "geo",
         "hovertemplate": "country_name=%{location}<br>count=%{marker.size}<extra></extra>",
         "legendgroup": "Poland",
         "locationmode": "country names",
         "locations": [
          "Poland"
         ],
         "marker": {
          "color": "#636efa",
          "size": [
           345
          ],
          "sizemode": "area",
          "sizeref": 7.735,
          "symbol": "circle"
         },
         "mode": "markers",
         "name": "Poland",
         "showlegend": true,
         "type": "scattergeo"
        },
        {
         "geo": "geo",
         "hovertemplate": "country_name=%{location}<br>count=%{marker.size}<extra></extra>",
         "legendgroup": "Romania",
         "locationmode": "country names",
         "locations": [
          "Romania"
         ],
         "marker": {
          "color": "#EF553B",
          "size": [
           341
          ],
          "sizemode": "area",
          "sizeref": 7.735,
          "symbol": "circle"
         },
         "mode": "markers",
         "name": "Romania",
         "showlegend": true,
         "type": "scattergeo"
        },
        {
         "geo": "geo",
         "hovertemplate": "country_name=%{location}<br>count=%{marker.size}<extra></extra>",
         "legendgroup": "Federal Republic of Germany",
         "locationmode": "country names",
         "locations": [
          "Federal Republic of Germany"
         ],
         "marker": {
          "color": "#00cc96",
          "size": [
           266
          ],
          "sizemode": "area",
          "sizeref": 7.735,
          "symbol": "circle"
         },
         "mode": "markers",
         "name": "Federal Republic of Germany",
         "showlegend": true,
         "type": "scattergeo"
        },
        {
         "geo": "geo",
         "hovertemplate": "country_name=%{location}<br>count=%{marker.size}<extra></extra>",
         "legendgroup": "Bulgaria",
         "locationmode": "country names",
         "locations": [
          "Bulgaria"
         ],
         "marker": {
          "color": "#ab63fa",
          "size": [
           240
          ],
          "sizemode": "area",
          "sizeref": 7.735,
          "symbol": "circle"
         },
         "mode": "markers",
         "name": "Bulgaria",
         "showlegend": true,
         "type": "scattergeo"
        },
        {
         "geo": "geo",
         "hovertemplate": "country_name=%{location}<br>count=%{marker.size}<extra></extra>",
         "legendgroup": "Cuba",
         "locationmode": "country names",
         "locations": [
          "Cuba"
         ],
         "marker": {
          "color": "#FFA15A",
          "size": [
           239
          ],
          "sizemode": "area",
          "sizeref": 7.735,
          "symbol": "circle"
         },
         "mode": "markers",
         "name": "Cuba",
         "showlegend": true,
         "type": "scattergeo"
        },
        {
         "geo": "geo",
         "hovertemplate": "country_name=%{location}<br>count=%{marker.size}<extra></extra>",
         "legendgroup": "Denmark",
         "locationmode": "country names",
         "locations": [
          "Denmark"
         ],
         "marker": {
          "color": "#19d3f3",
          "size": [
           233
          ],
          "sizemode": "area",
          "sizeref": 7.735,
          "symbol": "circle"
         },
         "mode": "markers",
         "name": "Denmark",
         "showlegend": true,
         "type": "scattergeo"
        },
        {
         "geo": "geo",
         "hovertemplate": "country_name=%{location}<br>count=%{marker.size}<extra></extra>",
         "legendgroup": "Spain",
         "locationmode": "country names",
         "locations": [
          "Spain"
         ],
         "marker": {
          "color": "#FF6692",
          "size": [
           206
          ],
          "sizemode": "area",
          "sizeref": 7.735,
          "symbol": "circle"
         },
         "mode": "markers",
         "name": "Spain",
         "showlegend": true,
         "type": "scattergeo"
        },
        {
         "geo": "geo",
         "hovertemplate": "country_name=%{location}<br>count=%{marker.size}<extra></extra>",
         "legendgroup": "Brazil",
         "locationmode": "country names",
         "locations": [
          "Brazil"
         ],
         "marker": {
          "color": "#B6E880",
          "size": [
           180
          ],
          "sizemode": "area",
          "sizeref": 7.735,
          "symbol": "circle"
         },
         "mode": "markers",
         "name": "Brazil",
         "showlegend": true,
         "type": "scattergeo"
        },
        {
         "geo": "geo",
         "hovertemplate": "country_name=%{location}<br>count=%{marker.size}<extra></extra>",
         "legendgroup": "Czechoslovakia",
         "locationmode": "country names",
         "locations": [
          "Czechoslovakia"
         ],
         "marker": {
          "color": "#FF97FF",
          "size": [
           178
          ],
          "sizemode": "area",
          "sizeref": 7.735,
          "symbol": "circle"
         },
         "mode": "markers",
         "name": "Czechoslovakia",
         "showlegend": true,
         "type": "scattergeo"
        },
        {
         "geo": "geo",
         "hovertemplate": "country_name=%{location}<br>count=%{marker.size}<extra></extra>",
         "legendgroup": "New Zealand",
         "locationmode": "country names",
         "locations": [
          "New Zealand"
         ],
         "marker": {
          "color": "#FECB52",
          "size": [
           173
          ],
          "sizemode": "area",
          "sizeref": 7.735,
          "symbol": "circle"
         },
         "mode": "markers",
         "name": "New Zealand",
         "showlegend": true,
         "type": "scattergeo"
        },
        {
         "geo": "geo",
         "hovertemplate": "country_name=%{location}<br>count=%{marker.size}<extra></extra>",
         "legendgroup": "Belgium",
         "locationmode": "country names",
         "locations": [
          "Belgium"
         ],
         "marker": {
          "color": "#636efa",
          "size": [
           170
          ],
          "sizemode": "area",
          "sizeref": 7.735,
          "symbol": "circle"
         },
         "mode": "markers",
         "name": "Belgium",
         "showlegend": true,
         "type": "scattergeo"
        },
        {
         "geo": "geo",
         "hovertemplate": "country_name=%{location}<br>count=%{marker.size}<extra></extra>",
         "legendgroup": "Ukraine",
         "locationmode": "country names",
         "locations": [
          "Ukraine"
         ],
         "marker": {
          "color": "#EF553B",
          "size": [
           159
          ],
          "sizemode": "area",
          "sizeref": 7.735,
          "symbol": "circle"
         },
         "mode": "markers",
         "name": "Ukraine",
         "showlegend": true,
         "type": "scattergeo"
        },
        {
         "geo": "geo",
         "hovertemplate": "country_name=%{location}<br>count=%{marker.size}<extra></extra>",
         "legendgroup": "Unified Team",
         "locationmode": "country names",
         "locations": [
          "Unified Team"
         ],
         "marker": {
          "color": "#00cc96",
          "size": [
           141
          ],
          "sizemode": "area",
          "sizeref": 7.735,
          "symbol": "circle"
         },
         "mode": "markers",
         "name": "Unified Team",
         "showlegend": true,
         "type": "scattergeo"
        },
        {
         "geo": "geo",
         "hovertemplate": "country_name=%{location}<br>count=%{marker.size}<extra></extra>",
         "legendgroup": "Greece",
         "locationmode": "country names",
         "locations": [
          "Greece"
         ],
         "marker": {
          "color": "#ab63fa",
          "size": [
           129
          ],
          "sizemode": "area",
          "sizeref": 7.735,
          "symbol": "circle"
         },
         "mode": "markers",
         "name": "Greece",
         "showlegend": true,
         "type": "scattergeo"
        },
        {
         "geo": "geo",
         "hovertemplate": "country_name=%{location}<br>count=%{marker.size}<extra></extra>",
         "legendgroup": "ROC",
         "locationmode": "country names",
         "locations": [
          "ROC"
         ],
         "marker": {
          "color": "#FFA15A",
          "size": [
           119
          ],
          "sizemode": "area",
          "sizeref": 7.735,
          "symbol": "circle"
         },
         "mode": "markers",
         "name": "ROC",
         "showlegend": true,
         "type": "scattergeo"
        },
        {
         "geo": "geo",
         "hovertemplate": "country_name=%{location}<br>count=%{marker.size}<extra></extra>",
         "legendgroup": "Belarus",
         "locationmode": "country names",
         "locations": [
          "Belarus"
         ],
         "marker": {
          "color": "#19d3f3",
          "size": [
           113
          ],
          "sizemode": "area",
          "sizeref": 7.735,
          "symbol": "circle"
         },
         "mode": "markers",
         "name": "Belarus",
         "showlegend": true,
         "type": "scattergeo"
        },
        {
         "geo": "geo",
         "hovertemplate": "country_name=%{location}<br>count=%{marker.size}<extra></extra>",
         "legendgroup": "Kenya",
         "locationmode": "country names",
         "locations": [
          "Kenya"
         ],
         "marker": {
          "color": "#FF6692",
          "size": [
           112
          ],
          "sizemode": "area",
          "sizeref": 7.735,
          "symbol": "circle"
         },
         "mode": "markers",
         "name": "Kenya",
         "showlegend": true,
         "type": "scattergeo"
        },
        {
         "geo": "geo",
         "hovertemplate": "country_name=%{location}<br>count=%{marker.size}<extra></extra>",
         "legendgroup": "Czech Republic",
         "locationmode": "country names",
         "locations": [
          "Czech Republic"
         ],
         "marker": {
          "color": "#B6E880",
          "size": [
           110
          ],
          "sizemode": "area",
          "sizeref": 7.735,
          "symbol": "circle"
         },
         "mode": "markers",
         "name": "Czech Republic",
         "showlegend": true,
         "type": "scattergeo"
        },
        {
         "geo": "geo",
         "hovertemplate": "country_name=%{location}<br>count=%{marker.size}<extra></extra>",
         "legendgroup": "Turkey",
         "locationmode": "country names",
         "locations": [
          "Turkey"
         ],
         "marker": {
          "color": "#FF97FF",
          "size": [
           103
          ],
          "sizemode": "area",
          "sizeref": 7.735,
          "symbol": "circle"
         },
         "mode": "markers",
         "name": "Turkey",
         "showlegend": true,
         "type": "scattergeo"
        },
        {
         "geo": "geo",
         "hovertemplate": "country_name=%{location}<br>count=%{marker.size}<extra></extra>",
         "legendgroup": "South Africa",
         "locationmode": "country names",
         "locations": [
          "South Africa"
         ],
         "marker": {
          "color": "#FECB52",
          "size": [
           95
          ],
          "sizemode": "area",
          "sizeref": 7.735,
          "symbol": "circle"
         },
         "mode": "markers",
         "name": "South Africa",
         "showlegend": true,
         "type": "scattergeo"
        },
        {
         "geo": "geo",
         "hovertemplate": "country_name=%{location}<br>count=%{marker.size}<extra></extra>",
         "legendgroup": "Yugoslavia",
         "locationmode": "country names",
         "locations": [
          "Yugoslavia"
         ],
         "marker": {
          "color": "#636efa",
          "size": [
           94
          ],
          "sizemode": "area",
          "sizeref": 7.735,
          "symbol": "circle"
         },
         "mode": "markers",
         "name": "Yugoslavia",
         "showlegend": true,
         "type": "scattergeo"
        },
        {
         "geo": "geo",
         "hovertemplate": "country_name=%{location}<br>count=%{marker.size}<extra></extra>",
         "legendgroup": "Argentina",
         "locationmode": "country names",
         "locations": [
          "Argentina"
         ],
         "marker": {
          "color": "#EF553B",
          "size": [
           87
          ],
          "sizemode": "area",
          "sizeref": 7.735,
          "symbol": "circle"
         },
         "mode": "markers",
         "name": "Argentina",
         "showlegend": true,
         "type": "scattergeo"
        },
        {
         "geo": "geo",
         "hovertemplate": "country_name=%{location}<br>count=%{marker.size}<extra></extra>",
         "legendgroup": "Jamaica",
         "locationmode": "country names",
         "locations": [
          "Jamaica"
         ],
         "marker": {
          "color": "#00cc96",
          "size": [
           86
          ],
          "sizemode": "area",
          "sizeref": 7.735,
          "symbol": "circle"
         },
         "mode": "markers",
         "name": "Jamaica",
         "showlegend": true,
         "type": "scattergeo"
        },
        {
         "geo": "geo",
         "hovertemplate": "country_name=%{location}<br>count=%{marker.size}<extra></extra>",
         "legendgroup": "Kazakhstan",
         "locationmode": "country names",
         "locations": [
          "Kazakhstan"
         ],
         "marker": {
          "color": "#ab63fa",
          "size": [
           80
          ],
          "sizemode": "area",
          "sizeref": 7.735,
          "symbol": "circle"
         },
         "mode": "markers",
         "name": "Kazakhstan",
         "showlegend": true,
         "type": "scattergeo"
        },
        {
         "geo": "geo",
         "hovertemplate": "country_name=%{location}<br>count=%{marker.size}<extra></extra>",
         "legendgroup": "Mexico",
         "locationmode": "country names",
         "locations": [
          "Mexico"
         ],
         "marker": {
          "color": "#FFA15A",
          "size": [
           77
          ],
          "sizemode": "area",
          "sizeref": 7.735,
          "symbol": "circle"
         },
         "mode": "markers",
         "name": "Mexico",
         "showlegend": true,
         "type": "scattergeo"
        },
        {
         "geo": "geo",
         "hovertemplate": "country_name=%{location}<br>count=%{marker.size}<extra></extra>",
         "legendgroup": "Islamic Republic of Iran",
         "locationmode": "country names",
         "locations": [
          "Islamic Republic of Iran"
         ],
         "marker": {
          "color": "#19d3f3",
          "size": [
           76
          ],
          "sizemode": "area",
          "sizeref": 7.735,
          "symbol": "circle"
         },
         "mode": "markers",
         "name": "Islamic Republic of Iran",
         "showlegend": true,
         "type": "scattergeo"
        },
        {
         "geo": "geo",
         "hovertemplate": "country_name=%{location}<br>count=%{marker.size}<extra></extra>",
         "legendgroup": "Croatia",
         "locationmode": "country names",
         "locations": [
          "Croatia"
         ],
         "marker": {
          "color": "#FF6692",
          "size": [
           60
          ],
          "sizemode": "area",
          "sizeref": 7.735,
          "symbol": "circle"
         },
         "mode": "markers",
         "name": "Croatia",
         "showlegend": true,
         "type": "scattergeo"
        },
        {
         "geo": "geo",
         "hovertemplate": "country_name=%{location}<br>count=%{marker.size}<extra></extra>",
         "legendgroup": "Democratic People's Republic of Korea",
         "locationmode": "country names",
         "locations": [
          "Democratic People's Republic of Korea"
         ],
         "marker": {
          "color": "#B6E880",
          "size": [
           58
          ],
          "sizemode": "area",
          "sizeref": 7.735,
          "symbol": "circle"
         },
         "mode": "markers",
         "name": "Democratic People's Republic of Korea",
         "showlegend": true,
         "type": "scattergeo"
        },
        {
         "geo": "geo",
         "hovertemplate": "country_name=%{location}<br>count=%{marker.size}<extra></extra>",
         "legendgroup": "Ethiopia",
         "locationmode": "country names",
         "locations": [
          "Ethiopia"
         ],
         "marker": {
          "color": "#FF97FF",
          "size": [
           57
          ],
          "sizemode": "area",
          "sizeref": 7.735,
          "symbol": "circle"
         },
         "mode": "markers",
         "name": "Ethiopia",
         "showlegend": true,
         "type": "scattergeo"
        },
        {
         "geo": "geo",
         "hovertemplate": "country_name=%{location}<br>count=%{marker.size}<extra></extra>",
         "legendgroup": "Slovenia",
         "locationmode": "country names",
         "locations": [
          "Slovenia"
         ],
         "marker": {
          "color": "#FECB52",
          "size": [
           56
          ],
          "sizemode": "area",
          "sizeref": 7.735,
          "symbol": "circle"
         },
         "mode": "markers",
         "name": "Slovenia",
         "showlegend": true,
         "type": "scattergeo"
        },
        {
         "geo": "geo",
         "hovertemplate": "country_name=%{location}<br>count=%{marker.size}<extra></extra>",
         "legendgroup": "Azerbaijan",
         "locationmode": "country names",
         "locations": [
          "Azerbaijan"
         ],
         "marker": {
          "color": "#636efa",
          "size": [
           50
          ],
          "sizemode": "area",
          "sizeref": 7.735,
          "symbol": "circle"
         },
         "mode": "markers",
         "name": "Azerbaijan",
         "showlegend": true,
         "type": "scattergeo"
        },
        {
         "geo": "geo",
         "hovertemplate": "country_name=%{location}<br>count=%{marker.size}<extra></extra>",
         "legendgroup": "Indonesia",
         "locationmode": "country names",
         "locations": [
          "Indonesia"
         ],
         "marker": {
          "color": "#EF553B",
          "size": [
           47
          ],
          "sizemode": "area",
          "sizeref": 7.735,
          "symbol": "circle"
         },
         "mode": "markers",
         "name": "Indonesia",
         "showlegend": true,
         "type": "scattergeo"
        },
        {
         "geo": "geo",
         "hovertemplate": "country_name=%{location}<br>count=%{marker.size}<extra></extra>",
         "legendgroup": "Slovakia",
         "locationmode": "country names",
         "locations": [
          "Slovakia"
         ],
         "marker": {
          "color": "#00cc96",
          "size": [
           47
          ],
          "sizemode": "area",
          "sizeref": 7.735,
          "symbol": "circle"
         },
         "mode": "markers",
         "name": "Slovakia",
         "showlegend": true,
         "type": "scattergeo"
        },
        {
         "geo": "geo",
         "hovertemplate": "country_name=%{location}<br>count=%{marker.size}<extra></extra>",
         "legendgroup": "Estonia",
         "locationmode": "country names",
         "locations": [
          "Estonia"
         ],
         "marker": {
          "color": "#ab63fa",
          "size": [
           46
          ],
          "sizemode": "area",
          "sizeref": 7.735,
          "symbol": "circle"
         },
         "mode": "markers",
         "name": "Estonia",
         "showlegend": true,
         "type": "scattergeo"
        },
        {
         "geo": "geo",
         "hovertemplate": "country_name=%{location}<br>count=%{marker.size}<extra></extra>",
         "legendgroup": "Georgia",
         "locationmode": "country names",
         "locations": [
          "Georgia"
         ],
         "marker": {
          "color": "#FFA15A",
          "size": [
           40
          ],
          "sizemode": "area",
          "sizeref": 7.735,
          "symbol": "circle"
         },
         "mode": "markers",
         "name": "Georgia",
         "showlegend": true,
         "type": "scattergeo"
        },
        {
         "geo": "geo",
         "hovertemplate": "country_name=%{location}<br>count=%{marker.size}<extra></extra>",
         "legendgroup": "Chinese Taipei",
         "locationmode": "country names",
         "locations": [
          "Chinese Taipei"
         ],
         "marker": {
          "color": "#19d3f3",
          "size": [
           38
          ],
          "sizemode": "area",
          "sizeref": 7.735,
          "symbol": "circle"
         },
         "mode": "markers",
         "name": "Chinese Taipei",
         "showlegend": true,
         "type": "scattergeo"
        },
        {
         "geo": "geo",
         "hovertemplate": "country_name=%{location}<br>count=%{marker.size}<extra></extra>",
         "legendgroup": "Ireland",
         "locationmode": "country names",
         "locations": [
          "Ireland"
         ],
         "marker": {
          "color": "#FF6692",
          "size": [
           38
          ],
          "sizemode": "area",
          "sizeref": 7.735,
          "symbol": "circle"
         },
         "mode": "markers",
         "name": "Ireland",
         "showlegend": true,
         "type": "scattergeo"
        },
        {
         "geo": "geo",
         "hovertemplate": "country_name=%{location}<br>count=%{marker.size}<extra></extra>",
         "legendgroup": "Egypt",
         "locationmode": "country names",
         "locations": [
          "Egypt"
         ],
         "marker": {
          "color": "#B6E880",
          "size": [
           36
          ],
          "sizemode": "area",
          "sizeref": 7.735,
          "symbol": "circle"
         },
         "mode": "markers",
         "name": "Egypt",
         "showlegend": true,
         "type": "scattergeo"
        },
        {
         "geo": "geo",
         "hovertemplate": "country_name=%{location}<br>count=%{marker.size}<extra></extra>",
         "legendgroup": "Latvia",
         "locationmode": "country names",
         "locations": [
          "Latvia"
         ],
         "marker": {
          "color": "#FF97FF",
          "size": [
           36
          ],
          "sizemode": "area",
          "sizeref": 7.735,
          "symbol": "circle"
         },
         "mode": "markers",
         "name": "Latvia",
         "showlegend": true,
         "type": "scattergeo"
        },
        {
         "geo": "geo",
         "hovertemplate": "country_name=%{location}<br>count=%{marker.size}<extra></extra>",
         "legendgroup": "Uzbekistan",
         "locationmode": "country names",
         "locations": [
          "Uzbekistan"
         ],
         "marker": {
          "color": "#FECB52",
          "size": [
           36
          ],
          "sizemode": "area",
          "sizeref": 7.735,
          "symbol": "circle"
         },
         "mode": "markers",
         "name": "Uzbekistan",
         "showlegend": true,
         "type": "scattergeo"
        },
        {
         "geo": "geo",
         "hovertemplate": "country_name=%{location}<br>count=%{marker.size}<extra></extra>",
         "legendgroup": "India",
         "locationmode": "country names",
         "locations": [
          "India"
         ],
         "marker": {
          "color": "#636efa",
          "size": [
           35
          ],
          "sizemode": "area",
          "sizeref": 7.735,
          "symbol": "circle"
         },
         "mode": "markers",
         "name": "India",
         "showlegend": true,
         "type": "scattergeo"
        },
        {
         "geo": "geo",
         "hovertemplate": "country_name=%{location}<br>count=%{marker.size}<extra></extra>",
         "legendgroup": "Thailand",
         "locationmode": "country names",
         "locations": [
          "Thailand"
         ],
         "marker": {
          "color": "#EF553B",
          "size": [
           35
          ],
          "sizemode": "area",
          "sizeref": 7.735,
          "symbol": "circle"
         },
         "mode": "markers",
         "name": "Thailand",
         "showlegend": true,
         "type": "scattergeo"
        },
        {
         "geo": "geo",
         "hovertemplate": "country_name=%{location}<br>count=%{marker.size}<extra></extra>",
         "legendgroup": "Colombia",
         "locationmode": "country names",
         "locations": [
          "Colombia"
         ],
         "marker": {
          "color": "#00cc96",
          "size": [
           34
          ],
          "sizemode": "area",
          "sizeref": 7.735,
          "symbol": "circle"
         },
         "mode": "markers",
         "name": "Colombia",
         "showlegend": true,
         "type": "scattergeo"
        },
        {
         "geo": "geo",
         "hovertemplate": "country_name=%{location}<br>count=%{marker.size}<extra></extra>",
         "legendgroup": "Portugal",
         "locationmode": "country names",
         "locations": [
          "Portugal"
         ],
         "marker": {
          "color": "#ab63fa",
          "size": [
           33
          ],
          "sizemode": "area",
          "sizeref": 7.735,
          "symbol": "circle"
         },
         "mode": "markers",
         "name": "Portugal",
         "showlegend": true,
         "type": "scattergeo"
        },
        {
         "geo": "geo",
         "hovertemplate": "country_name=%{location}<br>count=%{marker.size}<extra></extra>",
         "legendgroup": "MIX",
         "locationmode": "country names",
         "locations": [
          "MIX"
         ],
         "marker": {
          "color": "#FFA15A",
          "size": [
           31
          ],
          "sizemode": "area",
          "sizeref": 7.735,
          "symbol": "circle"
         },
         "mode": "markers",
         "name": "MIX",
         "showlegend": true,
         "type": "scattergeo"
        },
        {
         "geo": "geo",
         "hovertemplate": "country_name=%{location}<br>count=%{marker.size}<extra></extra>",
         "legendgroup": "Lithuania",
         "locationmode": "country names",
         "locations": [
          "Lithuania"
         ],
         "marker": {
          "color": "#19d3f3",
          "size": [
           30
          ],
          "sizemode": "area",
          "sizeref": 7.735,
          "symbol": "circle"
         },
         "mode": "markers",
         "name": "Lithuania",
         "showlegend": true,
         "type": "scattergeo"
        },
        {
         "geo": "geo",
         "hovertemplate": "country_name=%{location}<br>count=%{marker.size}<extra></extra>",
         "legendgroup": "Mongolia",
         "locationmode": "country names",
         "locations": [
          "Mongolia"
         ],
         "marker": {
          "color": "#FF6692",
          "size": [
           30
          ],
          "sizemode": "area",
          "sizeref": 7.735,
          "symbol": "circle"
         },
         "mode": "markers",
         "name": "Mongolia",
         "showlegend": true,
         "type": "scattergeo"
        },
        {
         "geo": "geo",
         "hovertemplate": "country_name=%{location}<br>count=%{marker.size}<extra></extra>",
         "legendgroup": "Nigeria",
         "locationmode": "country names",
         "locations": [
          "Nigeria"
         ],
         "marker": {
          "color": "#B6E880",
          "size": [
           27
          ],
          "sizemode": "area",
          "sizeref": 7.735,
          "symbol": "circle"
         },
         "mode": "markers",
         "name": "Nigeria",
         "showlegend": true,
         "type": "scattergeo"
        },
        {
         "geo": "geo",
         "hovertemplate": "country_name=%{location}<br>count=%{marker.size}<extra></extra>",
         "legendgroup": "Serbia",
         "locationmode": "country names",
         "locations": [
          "Serbia"
         ],
         "marker": {
          "color": "#FF97FF",
          "size": [
           25
          ],
          "sizemode": "area",
          "sizeref": 7.735,
          "symbol": "circle"
         },
         "mode": "markers",
         "name": "Serbia",
         "showlegend": true,
         "type": "scattergeo"
        },
        {
         "geo": "geo",
         "hovertemplate": "country_name=%{location}<br>count=%{marker.size}<extra></extra>",
         "legendgroup": "Morocco",
         "locationmode": "country names",
         "locations": [
          "Morocco"
         ],
         "marker": {
          "color": "#FECB52",
          "size": [
           24
          ],
          "sizemode": "area",
          "sizeref": 7.735,
          "symbol": "circle"
         },
         "mode": "markers",
         "name": "Morocco",
         "showlegend": true,
         "type": "scattergeo"
        },
        {
         "geo": "geo",
         "hovertemplate": "country_name=%{location}<br>count=%{marker.size}<extra></extra>",
         "legendgroup": "Trinidad and Tobago",
         "locationmode": "country names",
         "locations": [
          "Trinidad and Tobago"
         ],
         "marker": {
          "color": "#636efa",
          "size": [
           19
          ],
          "sizemode": "area",
          "sizeref": 7.735,
          "symbol": "circle"
         },
         "mode": "markers",
         "name": "Trinidad and Tobago",
         "showlegend": true,
         "type": "scattergeo"
        },
        {
         "geo": "geo",
         "hovertemplate": "country_name=%{location}<br>count=%{marker.size}<extra></extra>",
         "legendgroup": "Venezuela",
         "locationmode": "country names",
         "locations": [
          "Venezuela"
         ],
         "marker": {
          "color": "#EF553B",
          "size": [
           19
          ],
          "sizemode": "area",
          "sizeref": 7.735,
          "symbol": "circle"
         },
         "mode": "markers",
         "name": "Venezuela",
         "showlegend": true,
         "type": "scattergeo"
        },
        {
         "geo": "geo",
         "hovertemplate": "country_name=%{location}<br>count=%{marker.size}<extra></extra>",
         "legendgroup": "Malaysia",
         "locationmode": "country names",
         "locations": [
          "Malaysia"
         ],
         "marker": {
          "color": "#00cc96",
          "size": [
           19
          ],
          "sizemode": "area",
          "sizeref": 7.735,
          "symbol": "circle"
         },
         "mode": "markers",
         "name": "Malaysia",
         "showlegend": true,
         "type": "scattergeo"
        },
        {
         "geo": "geo",
         "hovertemplate": "country_name=%{location}<br>count=%{marker.size}<extra></extra>",
         "legendgroup": "Olympic Athletes from Russia",
         "locationmode": "country names",
         "locations": [
          "Olympic Athletes from Russia"
         ],
         "marker": {
          "color": "#ab63fa",
          "size": [
           18
          ],
          "sizemode": "area",
          "sizeref": 7.735,
          "symbol": "circle"
         },
         "mode": "markers",
         "name": "Olympic Athletes from Russia",
         "showlegend": true,
         "type": "scattergeo"
        },
        {
         "geo": "geo",
         "hovertemplate": "country_name=%{location}<br>count=%{marker.size}<extra></extra>",
         "legendgroup": "Armenia",
         "locationmode": "country names",
         "locations": [
          "Armenia"
         ],
         "marker": {
          "color": "#FFA15A",
          "size": [
           18
          ],
          "sizemode": "area",
          "sizeref": 7.735,
          "symbol": "circle"
         },
         "mode": "markers",
         "name": "Armenia",
         "showlegend": true,
         "type": "scattergeo"
        },
        {
         "geo": "geo",
         "hovertemplate": "country_name=%{location}<br>count=%{marker.size}<extra></extra>",
         "legendgroup": "Bahamas",
         "locationmode": "country names",
         "locations": [
          "Bahamas"
         ],
         "marker": {
          "color": "#19d3f3",
          "size": [
           18
          ],
          "sizemode": "area",
          "sizeref": 7.735,
          "symbol": "circle"
         },
         "mode": "markers",
         "name": "Bahamas",
         "showlegend": true,
         "type": "scattergeo"
        },
        {
         "geo": "geo",
         "hovertemplate": "country_name=%{location}<br>count=%{marker.size}<extra></extra>",
         "legendgroup": "Algeria",
         "locationmode": "country names",
         "locations": [
          "Algeria"
         ],
         "marker": {
          "color": "#FF6692",
          "size": [
           17
          ],
          "sizemode": "area",
          "sizeref": 7.735,
          "symbol": "circle"
         },
         "mode": "markers",
         "name": "Algeria",
         "showlegend": true,
         "type": "scattergeo"
        },
        {
         "geo": "geo",
         "hovertemplate": "country_name=%{location}<br>count=%{marker.size}<extra></extra>",
         "legendgroup": "Tunisia",
         "locationmode": "country names",
         "locations": [
          "Tunisia"
         ],
         "marker": {
          "color": "#B6E880",
          "size": [
           15
          ],
          "sizemode": "area",
          "sizeref": 7.735,
          "symbol": "circle"
         },
         "mode": "markers",
         "name": "Tunisia",
         "showlegend": true,
         "type": "scattergeo"
        },
        {
         "geo": "geo",
         "hovertemplate": "country_name=%{location}<br>count=%{marker.size}<extra></extra>",
         "legendgroup": "Philippines",
         "locationmode": "country names",
         "locations": [
          "Philippines"
         ],
         "marker": {
          "color": "#FF97FF",
          "size": [
           14
          ],
          "sizemode": "area",
          "sizeref": 7.735,
          "symbol": "circle"
         },
         "mode": "markers",
         "name": "Philippines",
         "showlegend": true,
         "type": "scattergeo"
        },
        {
         "geo": "geo",
         "hovertemplate": "country_name=%{location}<br>count=%{marker.size}<extra></extra>",
         "legendgroup": "Chile",
         "locationmode": "country names",
         "locations": [
          "Chile"
         ],
         "marker": {
          "color": "#FECB52",
          "size": [
           14
          ],
          "sizemode": "area",
          "sizeref": 7.735,
          "symbol": "circle"
         },
         "mode": "markers",
         "name": "Chile",
         "showlegend": true,
         "type": "scattergeo"
        },
        {
         "geo": "geo",
         "hovertemplate": "country_name=%{location}<br>count=%{marker.size}<extra></extra>",
         "legendgroup": "Israel",
         "locationmode": "country names",
         "locations": [
          "Israel"
         ],
         "marker": {
          "color": "#636efa",
          "size": [
           13
          ],
          "sizemode": "area",
          "sizeref": 7.735,
          "symbol": "circle"
         },
         "mode": "markers",
         "name": "Israel",
         "showlegend": true,
         "type": "scattergeo"
        },
        {
         "geo": "geo",
         "hovertemplate": "country_name=%{location}<br>count=%{marker.size}<extra></extra>",
         "legendgroup": "Dominican Republic",
         "locationmode": "country names",
         "locations": [
          "Dominican Republic"
         ],
         "marker": {
          "color": "#EF553B",
          "size": [
           12
          ],
          "sizemode": "area",
          "sizeref": 7.735,
          "symbol": "circle"
         },
         "mode": "markers",
         "name": "Dominican Republic",
         "showlegend": true,
         "type": "scattergeo"
        },
        {
         "geo": "geo",
         "hovertemplate": "country_name=%{location}<br>count=%{marker.size}<extra></extra>",
         "legendgroup": "Uruguay",
         "locationmode": "country names",
         "locations": [
          "Uruguay"
         ],
         "marker": {
          "color": "#00cc96",
          "size": [
           12
          ],
          "sizemode": "area",
          "sizeref": 7.735,
          "symbol": "circle"
         },
         "mode": "markers",
         "name": "Uruguay",
         "showlegend": true,
         "type": "scattergeo"
        },
        {
         "geo": "geo",
         "hovertemplate": "country_name=%{location}<br>count=%{marker.size}<extra></extra>",
         "legendgroup": "Australasia",
         "locationmode": "country names",
         "locations": [
          "Australasia"
         ],
         "marker": {
          "color": "#ab63fa",
          "size": [
           12
          ],
          "sizemode": "area",
          "sizeref": 7.735,
          "symbol": "circle"
         },
         "mode": "markers",
         "name": "Australasia",
         "showlegend": true,
         "type": "scattergeo"
        },
        {
         "geo": "geo",
         "hovertemplate": "country_name=%{location}<br>count=%{marker.size}<extra></extra>",
         "legendgroup": "Uganda",
         "locationmode": "country names",
         "locations": [
          "Uganda"
         ],
         "marker": {
          "color": "#FFA15A",
          "size": [
           11
          ],
          "sizemode": "area",
          "sizeref": 7.735,
          "symbol": "circle"
         },
         "mode": "markers",
         "name": "Uganda",
         "showlegend": true,
         "type": "scattergeo"
        },
        {
         "geo": "geo",
         "hovertemplate": "country_name=%{location}<br>count=%{marker.size}<extra></extra>",
         "legendgroup": "Pakistan",
         "locationmode": "country names",
         "locations": [
          "Pakistan"
         ],
         "marker": {
          "color": "#19d3f3",
          "size": [
           10
          ],
          "sizemode": "area",
          "sizeref": 7.735,
          "symbol": "circle"
         },
         "mode": "markers",
         "name": "Pakistan",
         "showlegend": true,
         "type": "scattergeo"
        },
        {
         "geo": "geo",
         "hovertemplate": "country_name=%{location}<br>count=%{marker.size}<extra></extra>",
         "legendgroup": "Liechtenstein",
         "locationmode": "country names",
         "locations": [
          "Liechtenstein"
         ],
         "marker": {
          "color": "#FF6692",
          "size": [
           10
          ],
          "sizemode": "area",
          "sizeref": 7.735,
          "symbol": "circle"
         },
         "mode": "markers",
         "name": "Liechtenstein",
         "showlegend": true,
         "type": "scattergeo"
        },
        {
         "geo": "geo",
         "hovertemplate": "country_name=%{location}<br>count=%{marker.size}<extra></extra>",
         "legendgroup": "Hong Kong, China",
         "locationmode": "country names",
         "locations": [
          "Hong Kong, China"
         ],
         "marker": {
          "color": "#B6E880",
          "size": [
           10
          ],
          "sizemode": "area",
          "sizeref": 7.735,
          "symbol": "circle"
         },
         "mode": "markers",
         "name": "Hong Kong, China",
         "showlegend": true,
         "type": "scattergeo"
        },
        {
         "geo": "geo",
         "hovertemplate": "country_name=%{location}<br>count=%{marker.size}<extra></extra>",
         "legendgroup": "Puerto Rico",
         "locationmode": "country names",
         "locations": [
          "Puerto Rico"
         ],
         "marker": {
          "color": "#FF97FF",
          "size": [
           10
          ],
          "sizemode": "area",
          "sizeref": 7.735,
          "symbol": "circle"
         },
         "mode": "markers",
         "name": "Puerto Rico",
         "showlegend": true,
         "type": "scattergeo"
        },
        {
         "geo": "geo",
         "hovertemplate": "country_name=%{location}<br>count=%{marker.size}<extra></extra>",
         "legendgroup": "Serbia and Montenegro",
         "locationmode": "country names",
         "locations": [
          "Serbia and Montenegro"
         ],
         "marker": {
          "color": "#FECB52",
          "size": [
           9
          ],
          "sizemode": "area",
          "sizeref": 7.735,
          "symbol": "circle"
         },
         "mode": "markers",
         "name": "Serbia and Montenegro",
         "showlegend": true,
         "type": "scattergeo"
        },
        {
         "geo": "geo",
         "hovertemplate": "country_name=%{location}<br>count=%{marker.size}<extra></extra>",
         "legendgroup": "Qatar",
         "locationmode": "country names",
         "locations": [
          "Qatar"
         ],
         "marker": {
          "color": "#636efa",
          "size": [
           9
          ],
          "sizemode": "area",
          "sizeref": 7.735,
          "symbol": "circle"
         },
         "mode": "markers",
         "name": "Qatar",
         "showlegend": true,
         "type": "scattergeo"
        },
        {
         "geo": "geo",
         "hovertemplate": "country_name=%{location}<br>count=%{marker.size}<extra></extra>",
         "legendgroup": "Zimbabwe",
         "locationmode": "country names",
         "locations": [
          "Zimbabwe"
         ],
         "marker": {
          "color": "#EF553B",
          "size": [
           8
          ],
          "sizemode": "area",
          "sizeref": 7.735,
          "symbol": "circle"
         },
         "mode": "markers",
         "name": "Zimbabwe",
         "showlegend": true,
         "type": "scattergeo"
        },
        {
         "geo": "geo",
         "hovertemplate": "country_name=%{location}<br>count=%{marker.size}<extra></extra>",
         "legendgroup": "Republic of Moldova",
         "locationmode": "country names",
         "locations": [
          "Republic of Moldova"
         ],
         "marker": {
          "color": "#00cc96",
          "size": [
           7
          ],
          "sizemode": "area",
          "sizeref": 7.735,
          "symbol": "circle"
         },
         "mode": "markers",
         "name": "Republic of Moldova",
         "showlegend": true,
         "type": "scattergeo"
        },
        {
         "geo": "geo",
         "hovertemplate": "country_name=%{location}<br>count=%{marker.size}<extra></extra>",
         "legendgroup": "Kyrgyzstan",
         "locationmode": "country names",
         "locations": [
          "Kyrgyzstan"
         ],
         "marker": {
          "color": "#ab63fa",
          "size": [
           7
          ],
          "sizemode": "area",
          "sizeref": 7.735,
          "symbol": "circle"
         },
         "mode": "markers",
         "name": "Kyrgyzstan",
         "showlegend": true,
         "type": "scattergeo"
        },
        {
         "geo": "geo",
         "hovertemplate": "country_name=%{location}<br>count=%{marker.size}<extra></extra>",
         "legendgroup": "Cameroon",
         "locationmode": "country names",
         "locations": [
          "Cameroon"
         ],
         "marker": {
          "color": "#FFA15A",
          "size": [
           6
          ],
          "sizemode": "area",
          "sizeref": 7.735,
          "symbol": "circle"
         },
         "mode": "markers",
         "name": "Cameroon",
         "showlegend": true,
         "type": "scattergeo"
        },
        {
         "geo": "geo",
         "hovertemplate": "country_name=%{location}<br>count=%{marker.size}<extra></extra>",
         "legendgroup": "Namibia",
         "locationmode": "country names",
         "locations": [
          "Namibia"
         ],
         "marker": {
          "color": "#19d3f3",
          "size": [
           5
          ],
          "sizemode": "area",
          "sizeref": 7.735,
          "symbol": "circle"
         },
         "mode": "markers",
         "name": "Namibia",
         "showlegend": true,
         "type": "scattergeo"
        },
        {
         "geo": "geo",
         "hovertemplate": "country_name=%{location}<br>count=%{marker.size}<extra></extra>",
         "legendgroup": "Ghana",
         "locationmode": "country names",
         "locations": [
          "Ghana"
         ],
         "marker": {
          "color": "#FF6692",
          "size": [
           5
          ],
          "sizemode": "area",
          "sizeref": 7.735,
          "symbol": "circle"
         },
         "mode": "markers",
         "name": "Ghana",
         "showlegend": true,
         "type": "scattergeo"
        },
        {
         "geo": "geo",
         "hovertemplate": "country_name=%{location}<br>count=%{marker.size}<extra></extra>",
         "legendgroup": "Independent Olympic Athletes",
         "locationmode": "country names",
         "locations": [
          "Independent Olympic Athletes"
         ],
         "marker": {
          "color": "#B6E880",
          "size": [
           5
          ],
          "sizemode": "area",
          "sizeref": 7.735,
          "symbol": "circle"
         },
         "mode": "markers",
         "name": "Independent Olympic Athletes",
         "showlegend": true,
         "type": "scattergeo"
        },
        {
         "geo": "geo",
         "hovertemplate": "country_name=%{location}<br>count=%{marker.size}<extra></extra>",
         "legendgroup": "Ecuador",
         "locationmode": "country names",
         "locations": [
          "Ecuador"
         ],
         "marker": {
          "color": "#FF97FF",
          "size": [
           5
          ],
          "sizemode": "area",
          "sizeref": 7.735,
          "symbol": "circle"
         },
         "mode": "markers",
         "name": "Ecuador",
         "showlegend": true,
         "type": "scattergeo"
        },
        {
         "geo": "geo",
         "hovertemplate": "country_name=%{location}<br>count=%{marker.size}<extra></extra>",
         "legendgroup": "Luxembourg",
         "locationmode": "country names",
         "locations": [
          "Luxembourg"
         ],
         "marker": {
          "color": "#FECB52",
          "size": [
           5
          ],
          "sizemode": "area",
          "sizeref": 7.735,
          "symbol": "circle"
         },
         "mode": "markers",
         "name": "Luxembourg",
         "showlegend": true,
         "type": "scattergeo"
        },
        {
         "geo": "geo",
         "hovertemplate": "country_name=%{location}<br>count=%{marker.size}<extra></extra>",
         "legendgroup": "Singapore",
         "locationmode": "country names",
         "locations": [
          "Singapore"
         ],
         "marker": {
          "color": "#636efa",
          "size": [
           5
          ],
          "sizemode": "area",
          "sizeref": 7.735,
          "symbol": "circle"
         },
         "mode": "markers",
         "name": "Singapore",
         "showlegend": true,
         "type": "scattergeo"
        },
        {
         "geo": "geo",
         "hovertemplate": "country_name=%{location}<br>count=%{marker.size}<extra></extra>",
         "legendgroup": "Saudi Arabia",
         "locationmode": "country names",
         "locations": [
          "Saudi Arabia"
         ],
         "marker": {
          "color": "#EF553B",
          "size": [
           4
          ],
          "sizemode": "area",
          "sizeref": 7.735,
          "symbol": "circle"
         },
         "mode": "markers",
         "name": "Saudi Arabia",
         "showlegend": true,
         "type": "scattergeo"
        },
        {
         "geo": "geo",
         "hovertemplate": "country_name=%{location}<br>count=%{marker.size}<extra></extra>",
         "legendgroup": "Vietnam",
         "locationmode": "country names",
         "locations": [
          "Vietnam"
         ],
         "marker": {
          "color": "#00cc96",
          "size": [
           4
          ],
          "sizemode": "area",
          "sizeref": 7.735,
          "symbol": "circle"
         },
         "mode": "markers",
         "name": "Vietnam",
         "showlegend": true,
         "type": "scattergeo"
        },
        {
         "geo": "geo",
         "hovertemplate": "country_name=%{location}<br>count=%{marker.size}<extra></extra>",
         "legendgroup": "Syrian Arab Republic",
         "locationmode": "country names",
         "locations": [
          "Syrian Arab Republic"
         ],
         "marker": {
          "color": "#ab63fa",
          "size": [
           4
          ],
          "sizemode": "area",
          "sizeref": 7.735,
          "symbol": "circle"
         },
         "mode": "markers",
         "name": "Syrian Arab Republic",
         "showlegend": true,
         "type": "scattergeo"
        },
        {
         "geo": "geo",
         "hovertemplate": "country_name=%{location}<br>count=%{marker.size}<extra></extra>",
         "legendgroup": "Peru",
         "locationmode": "country names",
         "locations": [
          "Peru"
         ],
         "marker": {
          "color": "#FFA15A",
          "size": [
           4
          ],
          "sizemode": "area",
          "sizeref": 7.735,
          "symbol": "circle"
         },
         "mode": "markers",
         "name": "Peru",
         "showlegend": true,
         "type": "scattergeo"
        },
        {
         "geo": "geo",
         "hovertemplate": "country_name=%{location}<br>count=%{marker.size}<extra></extra>",
         "legendgroup": "Bahrain",
         "locationmode": "country names",
         "locations": [
          "Bahrain"
         ],
         "marker": {
          "color": "#19d3f3",
          "size": [
           4
          ],
          "sizemode": "area",
          "sizeref": 7.735,
          "symbol": "circle"
         },
         "mode": "markers",
         "name": "Bahrain",
         "showlegend": true,
         "type": "scattergeo"
        },
        {
         "geo": "geo",
         "hovertemplate": "country_name=%{location}<br>count=%{marker.size}<extra></extra>",
         "legendgroup": "Iceland",
         "locationmode": "country names",
         "locations": [
          "Iceland"
         ],
         "marker": {
          "color": "#FF6692",
          "size": [
           4
          ],
          "sizemode": "area",
          "sizeref": 7.735,
          "symbol": "circle"
         },
         "mode": "markers",
         "name": "Iceland",
         "showlegend": true,
         "type": "scattergeo"
        },
        {
         "geo": "geo",
         "hovertemplate": "country_name=%{location}<br>count=%{marker.size}<extra></extra>",
         "legendgroup": "Costa Rica",
         "locationmode": "country names",
         "locations": [
          "Costa Rica"
         ],
         "marker": {
          "color": "#B6E880",
          "size": [
           4
          ],
          "sizemode": "area",
          "sizeref": 7.735,
          "symbol": "circle"
         },
         "mode": "markers",
         "name": "Costa Rica",
         "showlegend": true,
         "type": "scattergeo"
        },
        {
         "geo": "geo",
         "hovertemplate": "country_name=%{location}<br>count=%{marker.size}<extra></extra>",
         "legendgroup": "San Marino",
         "locationmode": "country names",
         "locations": [
          "San Marino"
         ],
         "marker": {
          "color": "#FF97FF",
          "size": [
           4
          ],
          "sizemode": "area",
          "sizeref": 7.735,
          "symbol": "circle"
         },
         "mode": "markers",
         "name": "San Marino",
         "showlegend": true,
         "type": "scattergeo"
        },
        {
         "geo": "geo",
         "hovertemplate": "country_name=%{location}<br>count=%{marker.size}<extra></extra>",
         "legendgroup": "Lebanon",
         "locationmode": "country names",
         "locations": [
          "Lebanon"
         ],
         "marker": {
          "color": "#FECB52",
          "size": [
           4
          ],
          "sizemode": "area",
          "sizeref": 7.735,
          "symbol": "circle"
         },
         "mode": "markers",
         "name": "Lebanon",
         "showlegend": true,
         "type": "scattergeo"
        },
        {
         "geo": "geo",
         "hovertemplate": "country_name=%{location}<br>count=%{marker.size}<extra></extra>",
         "legendgroup": "Côte d'Ivoire",
         "locationmode": "country names",
         "locations": [
          "Côte d'Ivoire"
         ],
         "marker": {
          "color": "#636efa",
          "size": [
           4
          ],
          "sizemode": "area",
          "sizeref": 7.735,
          "symbol": "circle"
         },
         "mode": "markers",
         "name": "Côte d'Ivoire",
         "showlegend": true,
         "type": "scattergeo"
        },
        {
         "geo": "geo",
         "hovertemplate": "country_name=%{location}<br>count=%{marker.size}<extra></extra>",
         "legendgroup": "Tajikistan",
         "locationmode": "country names",
         "locations": [
          "Tajikistan"
         ],
         "marker": {
          "color": "#EF553B",
          "size": [
           4
          ],
          "sizemode": "area",
          "sizeref": 7.735,
          "symbol": "circle"
         },
         "mode": "markers",
         "name": "Tajikistan",
         "showlegend": true,
         "type": "scattergeo"
        },
        {
         "geo": "geo",
         "hovertemplate": "country_name=%{location}<br>count=%{marker.size}<extra></extra>",
         "legendgroup": "Bohemia",
         "locationmode": "country names",
         "locations": [
          "Bohemia"
         ],
         "marker": {
          "color": "#00cc96",
          "size": [
           4
          ],
          "sizemode": "area",
          "sizeref": 7.735,
          "symbol": "circle"
         },
         "mode": "markers",
         "name": "Bohemia",
         "showlegend": true,
         "type": "scattergeo"
        },
        {
         "geo": "geo",
         "hovertemplate": "country_name=%{location}<br>count=%{marker.size}<extra></extra>",
         "legendgroup": "Kuwait",
         "locationmode": "country names",
         "locations": [
          "Kuwait"
         ],
         "marker": {
          "color": "#ab63fa",
          "size": [
           3
          ],
          "sizemode": "area",
          "sizeref": 7.735,
          "symbol": "circle"
         },
         "mode": "markers",
         "name": "Kuwait",
         "showlegend": true,
         "type": "scattergeo"
        },
        {
         "geo": "geo",
         "hovertemplate": "country_name=%{location}<br>count=%{marker.size}<extra></extra>",
         "legendgroup": "Jordan",
         "locationmode": "country names",
         "locations": [
          "Jordan"
         ],
         "marker": {
          "color": "#FFA15A",
          "size": [
           3
          ],
          "sizemode": "area",
          "sizeref": 7.735,
          "symbol": "circle"
         },
         "mode": "markers",
         "name": "Jordan",
         "showlegend": true,
         "type": "scattergeo"
        },
        {
         "geo": "geo",
         "hovertemplate": "country_name=%{location}<br>count=%{marker.size}<extra></extra>",
         "legendgroup": "Kosovo",
         "locationmode": "country names",
         "locations": [
          "Kosovo"
         ],
         "marker": {
          "color": "#19d3f3",
          "size": [
           3
          ],
          "sizemode": "area",
          "sizeref": 7.735,
          "symbol": "circle"
         },
         "mode": "markers",
         "name": "Kosovo",
         "showlegend": true,
         "type": "scattergeo"
        },
        {
         "geo": "geo",
         "hovertemplate": "country_name=%{location}<br>count=%{marker.size}<extra></extra>",
         "legendgroup": "Panama",
         "locationmode": "country names",
         "locations": [
          "Panama"
         ],
         "marker": {
          "color": "#FF6692",
          "size": [
           3
          ],
          "sizemode": "area",
          "sizeref": 7.735,
          "symbol": "circle"
         },
         "mode": "markers",
         "name": "Panama",
         "showlegend": true,
         "type": "scattergeo"
        },
        {
         "geo": "geo",
         "hovertemplate": "country_name=%{location}<br>count=%{marker.size}<extra></extra>",
         "legendgroup": "Grenada",
         "locationmode": "country names",
         "locations": [
          "Grenada"
         ],
         "marker": {
          "color": "#B6E880",
          "size": [
           3
          ],
          "sizemode": "area",
          "sizeref": 7.735,
          "symbol": "circle"
         },
         "mode": "markers",
         "name": "Grenada",
         "showlegend": true,
         "type": "scattergeo"
        },
        {
         "geo": "geo",
         "hovertemplate": "country_name=%{location}<br>count=%{marker.size}<extra></extra>",
         "legendgroup": "Fiji",
         "locationmode": "country names",
         "locations": [
          "Fiji"
         ],
         "marker": {
          "color": "#FF97FF",
          "size": [
           3
          ],
          "sizemode": "area",
          "sizeref": 7.735,
          "symbol": "circle"
         },
         "mode": "markers",
         "name": "Fiji",
         "showlegend": true,
         "type": "scattergeo"
        },
        {
         "geo": "geo",
         "hovertemplate": "country_name=%{location}<br>count=%{marker.size}<extra></extra>",
         "legendgroup": "Haiti",
         "locationmode": "country names",
         "locations": [
          "Haiti"
         ],
         "marker": {
          "color": "#FECB52",
          "size": [
           2
          ],
          "sizemode": "area",
          "sizeref": 7.735,
          "symbol": "circle"
         },
         "mode": "markers",
         "name": "Haiti",
         "showlegend": true,
         "type": "scattergeo"
        },
        {
         "geo": "geo",
         "hovertemplate": "country_name=%{location}<br>count=%{marker.size}<extra></extra>",
         "legendgroup": "Suriname",
         "locationmode": "country names",
         "locations": [
          "Suriname"
         ],
         "marker": {
          "color": "#636efa",
          "size": [
           2
          ],
          "sizemode": "area",
          "sizeref": 7.735,
          "symbol": "circle"
         },
         "mode": "markers",
         "name": "Suriname",
         "showlegend": true,
         "type": "scattergeo"
        },
        {
         "geo": "geo",
         "hovertemplate": "country_name=%{location}<br>count=%{marker.size}<extra></extra>",
         "legendgroup": "United Republic of Tanzania",
         "locationmode": "country names",
         "locations": [
          "United Republic of Tanzania"
         ],
         "marker": {
          "color": "#EF553B",
          "size": [
           2
          ],
          "sizemode": "area",
          "sizeref": 7.735,
          "symbol": "circle"
         },
         "mode": "markers",
         "name": "United Republic of Tanzania",
         "showlegend": true,
         "type": "scattergeo"
        },
        {
         "geo": "geo",
         "hovertemplate": "country_name=%{location}<br>count=%{marker.size}<extra></extra>",
         "legendgroup": "United Arab Republic",
         "locationmode": "country names",
         "locations": [
          "United Arab Republic"
         ],
         "marker": {
          "color": "#00cc96",
          "size": [
           2
          ],
          "sizemode": "area",
          "sizeref": 7.735,
          "symbol": "circle"
         },
         "mode": "markers",
         "name": "United Arab Republic",
         "showlegend": true,
         "type": "scattergeo"
        },
        {
         "geo": "geo",
         "hovertemplate": "country_name=%{location}<br>count=%{marker.size}<extra></extra>",
         "legendgroup": "West Indies Federation",
         "locationmode": "country names",
         "locations": [
          "West Indies Federation"
         ],
         "marker": {
          "color": "#ab63fa",
          "size": [
           2
          ],
          "sizemode": "area",
          "sizeref": 7.735,
          "symbol": "circle"
         },
         "mode": "markers",
         "name": "West Indies Federation",
         "showlegend": true,
         "type": "scattergeo"
        },
        {
         "geo": "geo",
         "hovertemplate": "country_name=%{location}<br>count=%{marker.size}<extra></extra>",
         "legendgroup": "North Macedonia",
         "locationmode": "country names",
         "locations": [
          "North Macedonia"
         ],
         "marker": {
          "color": "#FFA15A",
          "size": [
           2
          ],
          "sizemode": "area",
          "sizeref": 7.735,
          "symbol": "circle"
         },
         "mode": "markers",
         "name": "North Macedonia",
         "showlegend": true,
         "type": "scattergeo"
        },
        {
         "geo": "geo",
         "hovertemplate": "country_name=%{location}<br>count=%{marker.size}<extra></extra>",
         "legendgroup": "Zambia",
         "locationmode": "country names",
         "locations": [
          "Zambia"
         ],
         "marker": {
          "color": "#19d3f3",
          "size": [
           2
          ],
          "sizemode": "area",
          "sizeref": 7.735,
          "symbol": "circle"
         },
         "mode": "markers",
         "name": "Zambia",
         "showlegend": true,
         "type": "scattergeo"
        },
        {
         "geo": "geo",
         "hovertemplate": "country_name=%{location}<br>count=%{marker.size}<extra></extra>",
         "legendgroup": "Mozambique",
         "locationmode": "country names",
         "locations": [
          "Mozambique"
         ],
         "marker": {
          "color": "#FF6692",
          "size": [
           2
          ],
          "sizemode": "area",
          "sizeref": 7.735,
          "symbol": "circle"
         },
         "mode": "markers",
         "name": "Mozambique",
         "showlegend": true,
         "type": "scattergeo"
        },
        {
         "geo": "geo",
         "hovertemplate": "country_name=%{location}<br>count=%{marker.size}<extra></extra>",
         "legendgroup": "Botswana",
         "locationmode": "country names",
         "locations": [
          "Botswana"
         ],
         "marker": {
          "color": "#B6E880",
          "size": [
           2
          ],
          "sizemode": "area",
          "sizeref": 7.735,
          "symbol": "circle"
         },
         "mode": "markers",
         "name": "Botswana",
         "showlegend": true,
         "type": "scattergeo"
        },
        {
         "geo": "geo",
         "hovertemplate": "country_name=%{location}<br>count=%{marker.size}<extra></extra>",
         "legendgroup": "Burundi",
         "locationmode": "country names",
         "locations": [
          "Burundi"
         ],
         "marker": {
          "color": "#FF97FF",
          "size": [
           2
          ],
          "sizemode": "area",
          "sizeref": 7.735,
          "symbol": "circle"
         },
         "mode": "markers",
         "name": "Burundi",
         "showlegend": true,
         "type": "scattergeo"
        },
        {
         "geo": "geo",
         "hovertemplate": "country_name=%{location}<br>count=%{marker.size}<extra></extra>",
         "legendgroup": "Bermuda",
         "locationmode": "country names",
         "locations": [
          "Bermuda"
         ],
         "marker": {
          "color": "#FECB52",
          "size": [
           2
          ],
          "sizemode": "area",
          "sizeref": 7.735,
          "symbol": "circle"
         },
         "mode": "markers",
         "name": "Bermuda",
         "showlegend": true,
         "type": "scattergeo"
        },
        {
         "geo": "geo",
         "hovertemplate": "country_name=%{location}<br>count=%{marker.size}<extra></extra>",
         "legendgroup": "United Arab Emirates",
         "locationmode": "country names",
         "locations": [
          "United Arab Emirates"
         ],
         "marker": {
          "color": "#636efa",
          "size": [
           2
          ],
          "sizemode": "area",
          "sizeref": 7.735,
          "symbol": "circle"
         },
         "mode": "markers",
         "name": "United Arab Emirates",
         "showlegend": true,
         "type": "scattergeo"
        },
        {
         "geo": "geo",
         "hovertemplate": "country_name=%{location}<br>count=%{marker.size}<extra></extra>",
         "legendgroup": "Niger",
         "locationmode": "country names",
         "locations": [
          "Niger"
         ],
         "marker": {
          "color": "#EF553B",
          "size": [
           2
          ],
          "sizemode": "area",
          "sizeref": 7.735,
          "symbol": "circle"
         },
         "mode": "markers",
         "name": "Niger",
         "showlegend": true,
         "type": "scattergeo"
        },
        {
         "geo": "geo",
         "hovertemplate": "country_name=%{location}<br>count=%{marker.size}<extra></extra>",
         "legendgroup": "Afghanistan",
         "locationmode": "country names",
         "locations": [
          "Afghanistan"
         ],
         "marker": {
          "color": "#00cc96",
          "size": [
           2
          ],
          "sizemode": "area",
          "sizeref": 7.735,
          "symbol": "circle"
         },
         "mode": "markers",
         "name": "Afghanistan",
         "showlegend": true,
         "type": "scattergeo"
        },
        {
         "geo": "geo",
         "hovertemplate": "country_name=%{location}<br>count=%{marker.size}<extra></extra>",
         "legendgroup": "Sri Lanka",
         "locationmode": "country names",
         "locations": [
          "Sri Lanka"
         ],
         "marker": {
          "color": "#ab63fa",
          "size": [
           2
          ],
          "sizemode": "area",
          "sizeref": 7.735,
          "symbol": "circle"
         },
         "mode": "markers",
         "name": "Sri Lanka",
         "showlegend": true,
         "type": "scattergeo"
        },
        {
         "geo": "geo",
         "hovertemplate": "country_name=%{location}<br>count=%{marker.size}<extra></extra>",
         "legendgroup": "Barbados",
         "locationmode": "country names",
         "locations": [
          "Barbados"
         ],
         "marker": {
          "color": "#FFA15A",
          "size": [
           1
          ],
          "sizemode": "area",
          "sizeref": 7.735,
          "symbol": "circle"
         },
         "mode": "markers",
         "name": "Barbados",
         "showlegend": true,
         "type": "scattergeo"
        },
        {
         "geo": "geo",
         "hovertemplate": "country_name=%{location}<br>count=%{marker.size}<extra></extra>",
         "legendgroup": "Netherlands Antilles",
         "locationmode": "country names",
         "locations": [
          "Netherlands Antilles"
         ],
         "marker": {
          "color": "#19d3f3",
          "size": [
           1
          ],
          "sizemode": "area",
          "sizeref": 7.735,
          "symbol": "circle"
         },
         "mode": "markers",
         "name": "Netherlands Antilles",
         "showlegend": true,
         "type": "scattergeo"
        },
        {
         "geo": "geo",
         "hovertemplate": "country_name=%{location}<br>count=%{marker.size}<extra></extra>",
         "legendgroup": "Iraq",
         "locationmode": "country names",
         "locations": [
          "Iraq"
         ],
         "marker": {
          "color": "#FF6692",
          "size": [
           1
          ],
          "sizemode": "area",
          "sizeref": 7.735,
          "symbol": "circle"
         },
         "mode": "markers",
         "name": "Iraq",
         "showlegend": true,
         "type": "scattergeo"
        },
        {
         "geo": "geo",
         "hovertemplate": "country_name=%{location}<br>count=%{marker.size}<extra></extra>",
         "legendgroup": "Montenegro",
         "locationmode": "country names",
         "locations": [
          "Montenegro"
         ],
         "marker": {
          "color": "#B6E880",
          "size": [
           1
          ],
          "sizemode": "area",
          "sizeref": 7.735,
          "symbol": "circle"
         },
         "mode": "markers",
         "name": "Montenegro",
         "showlegend": true,
         "type": "scattergeo"
        },
        {
         "geo": "geo",
         "hovertemplate": "country_name=%{location}<br>count=%{marker.size}<extra></extra>",
         "legendgroup": "Guyana",
         "locationmode": "country names",
         "locations": [
          "Guyana"
         ],
         "marker": {
          "color": "#FF97FF",
          "size": [
           1
          ],
          "sizemode": "area",
          "sizeref": 7.735,
          "symbol": "circle"
         },
         "mode": "markers",
         "name": "Guyana",
         "showlegend": true,
         "type": "scattergeo"
        },
        {
         "geo": "geo",
         "hovertemplate": "country_name=%{location}<br>count=%{marker.size}<extra></extra>",
         "legendgroup": "Cyprus",
         "locationmode": "country names",
         "locations": [
          "Cyprus"
         ],
         "marker": {
          "color": "#FECB52",
          "size": [
           1
          ],
          "sizemode": "area",
          "sizeref": 7.735,
          "symbol": "circle"
         },
         "mode": "markers",
         "name": "Cyprus",
         "showlegend": true,
         "type": "scattergeo"
        },
        {
         "geo": "geo",
         "hovertemplate": "country_name=%{location}<br>count=%{marker.size}<extra></extra>",
         "legendgroup": "Guatemala",
         "locationmode": "country names",
         "locations": [
          "Guatemala"
         ],
         "marker": {
          "color": "#636efa",
          "size": [
           1
          ],
          "sizemode": "area",
          "sizeref": 7.735,
          "symbol": "circle"
         },
         "mode": "markers",
         "name": "Guatemala",
         "showlegend": true,
         "type": "scattergeo"
        },
        {
         "geo": "geo",
         "hovertemplate": "country_name=%{location}<br>count=%{marker.size}<extra></extra>",
         "legendgroup": "Virgin Islands, US",
         "locationmode": "country names",
         "locations": [
          "Virgin Islands, US"
         ],
         "marker": {
          "color": "#EF553B",
          "size": [
           1
          ],
          "sizemode": "area",
          "sizeref": 7.735,
          "symbol": "circle"
         },
         "mode": "markers",
         "name": "Virgin Islands, US",
         "showlegend": true,
         "type": "scattergeo"
        },
        {
         "geo": "geo",
         "hovertemplate": "country_name=%{location}<br>count=%{marker.size}<extra></extra>",
         "legendgroup": "Djibouti",
         "locationmode": "country names",
         "locations": [
          "Djibouti"
         ],
         "marker": {
          "color": "#00cc96",
          "size": [
           1
          ],
          "sizemode": "area",
          "sizeref": 7.735,
          "symbol": "circle"
         },
         "mode": "markers",
         "name": "Djibouti",
         "showlegend": true,
         "type": "scattergeo"
        },
        {
         "geo": "geo",
         "hovertemplate": "country_name=%{location}<br>count=%{marker.size}<extra></extra>",
         "legendgroup": "Gabon",
         "locationmode": "country names",
         "locations": [
          "Gabon"
         ],
         "marker": {
          "color": "#ab63fa",
          "size": [
           1
          ],
          "sizemode": "area",
          "sizeref": 7.735,
          "symbol": "circle"
         },
         "mode": "markers",
         "name": "Gabon",
         "showlegend": true,
         "type": "scattergeo"
        },
        {
         "geo": "geo",
         "hovertemplate": "country_name=%{location}<br>count=%{marker.size}<extra></extra>",
         "legendgroup": "Senegal",
         "locationmode": "country names",
         "locations": [
          "Senegal"
         ],
         "marker": {
          "color": "#FFA15A",
          "size": [
           1
          ],
          "sizemode": "area",
          "sizeref": 7.735,
          "symbol": "circle"
         },
         "mode": "markers",
         "name": "Senegal",
         "showlegend": true,
         "type": "scattergeo"
        },
        {
         "geo": "geo",
         "hovertemplate": "country_name=%{location}<br>count=%{marker.size}<extra></extra>",
         "legendgroup": "Mauritius",
         "locationmode": "country names",
         "locations": [
          "Mauritius"
         ],
         "marker": {
          "color": "#19d3f3",
          "size": [
           1
          ],
          "sizemode": "area",
          "sizeref": 7.735,
          "symbol": "circle"
         },
         "mode": "markers",
         "name": "Mauritius",
         "showlegend": true,
         "type": "scattergeo"
        },
        {
         "geo": "geo",
         "hovertemplate": "country_name=%{location}<br>count=%{marker.size}<extra></extra>",
         "legendgroup": "Sudan",
         "locationmode": "country names",
         "locations": [
          "Sudan"
         ],
         "marker": {
          "color": "#FF6692",
          "size": [
           1
          ],
          "sizemode": "area",
          "sizeref": 7.735,
          "symbol": "circle"
         },
         "mode": "markers",
         "name": "Sudan",
         "showlegend": true,
         "type": "scattergeo"
        },
        {
         "geo": "geo",
         "hovertemplate": "country_name=%{location}<br>count=%{marker.size}<extra></extra>",
         "legendgroup": "Samoa",
         "locationmode": "country names",
         "locations": [
          "Samoa"
         ],
         "marker": {
          "color": "#B6E880",
          "size": [
           1
          ],
          "sizemode": "area",
          "sizeref": 7.735,
          "symbol": "circle"
         },
         "mode": "markers",
         "name": "Samoa",
         "showlegend": true,
         "type": "scattergeo"
        },
        {
         "geo": "geo",
         "hovertemplate": "country_name=%{location}<br>count=%{marker.size}<extra></extra>",
         "legendgroup": "Togo",
         "locationmode": "country names",
         "locations": [
          "Togo"
         ],
         "marker": {
          "color": "#FF97FF",
          "size": [
           1
          ],
          "sizemode": "area",
          "sizeref": 7.735,
          "symbol": "circle"
         },
         "mode": "markers",
         "name": "Togo",
         "showlegend": true,
         "type": "scattergeo"
        },
        {
         "geo": "geo",
         "hovertemplate": "country_name=%{location}<br>count=%{marker.size}<extra></extra>",
         "legendgroup": "Eritrea",
         "locationmode": "country names",
         "locations": [
          "Eritrea"
         ],
         "marker": {
          "color": "#FECB52",
          "size": [
           1
          ],
          "sizemode": "area",
          "sizeref": 7.735,
          "symbol": "circle"
         },
         "mode": "markers",
         "name": "Eritrea",
         "showlegend": true,
         "type": "scattergeo"
        },
        {
         "geo": "geo",
         "hovertemplate": "country_name=%{location}<br>count=%{marker.size}<extra></extra>",
         "legendgroup": "Paraguay",
         "locationmode": "country names",
         "locations": [
          "Paraguay"
         ],
         "marker": {
          "color": "#636efa",
          "size": [
           1
          ],
          "sizemode": "area",
          "sizeref": 7.735,
          "symbol": "circle"
         },
         "mode": "markers",
         "name": "Paraguay",
         "showlegend": true,
         "type": "scattergeo"
        },
        {
         "geo": "geo",
         "hovertemplate": "country_name=%{location}<br>count=%{marker.size}<extra></extra>",
         "legendgroup": "Burkina Faso",
         "locationmode": "country names",
         "locations": [
          "Burkina Faso"
         ],
         "marker": {
          "color": "#EF553B",
          "size": [
           1
          ],
          "sizemode": "area",
          "sizeref": 7.735,
          "symbol": "circle"
         },
         "mode": "markers",
         "name": "Burkina Faso",
         "showlegend": true,
         "type": "scattergeo"
        },
        {
         "geo": "geo",
         "hovertemplate": "country_name=%{location}<br>count=%{marker.size}<extra></extra>",
         "legendgroup": "Tonga",
         "locationmode": "country names",
         "locations": [
          "Tonga"
         ],
         "marker": {
          "color": "#00cc96",
          "size": [
           1
          ],
          "sizemode": "area",
          "sizeref": 7.735,
          "symbol": "circle"
         },
         "mode": "markers",
         "name": "Tonga",
         "showlegend": true,
         "type": "scattergeo"
        },
        {
         "geo": "geo",
         "hovertemplate": "country_name=%{location}<br>count=%{marker.size}<extra></extra>",
         "legendgroup": "Turkmenistan",
         "locationmode": "country names",
         "locations": [
          "Turkmenistan"
         ],
         "marker": {
          "color": "#ab63fa",
          "size": [
           1
          ],
          "sizemode": "area",
          "sizeref": 7.735,
          "symbol": "circle"
         },
         "mode": "markers",
         "name": "Turkmenistan",
         "showlegend": true,
         "type": "scattergeo"
        }
       ],
       "layout": {
        "geo": {
         "center": {},
         "domain": {
          "x": [
           0,
           1
          ],
          "y": [
           0,
           1
          ]
         }
        },
        "legend": {
         "itemsizing": "constant",
         "title": {
          "text": "country_name"
         },
         "tracegroupgap": 0
        },
        "template": {
         "data": {
          "bar": [
           {
            "error_x": {
             "color": "#2a3f5f"
            },
            "error_y": {
             "color": "#2a3f5f"
            },
            "marker": {
             "line": {
              "color": "#E5ECF6",
              "width": 0.5
             },
             "pattern": {
              "fillmode": "overlay",
              "size": 10,
              "solidity": 0.2
             }
            },
            "type": "bar"
           }
          ],
          "barpolar": [
           {
            "marker": {
             "line": {
              "color": "#E5ECF6",
              "width": 0.5
             },
             "pattern": {
              "fillmode": "overlay",
              "size": 10,
              "solidity": 0.2
             }
            },
            "type": "barpolar"
           }
          ],
          "carpet": [
           {
            "aaxis": {
             "endlinecolor": "#2a3f5f",
             "gridcolor": "white",
             "linecolor": "white",
             "minorgridcolor": "white",
             "startlinecolor": "#2a3f5f"
            },
            "baxis": {
             "endlinecolor": "#2a3f5f",
             "gridcolor": "white",
             "linecolor": "white",
             "minorgridcolor": "white",
             "startlinecolor": "#2a3f5f"
            },
            "type": "carpet"
           }
          ],
          "choropleth": [
           {
            "colorbar": {
             "outlinewidth": 0,
             "ticks": ""
            },
            "type": "choropleth"
           }
          ],
          "contour": [
           {
            "colorbar": {
             "outlinewidth": 0,
             "ticks": ""
            },
            "colorscale": [
             [
              0,
              "#0d0887"
             ],
             [
              0.1111111111111111,
              "#46039f"
             ],
             [
              0.2222222222222222,
              "#7201a8"
             ],
             [
              0.3333333333333333,
              "#9c179e"
             ],
             [
              0.4444444444444444,
              "#bd3786"
             ],
             [
              0.5555555555555556,
              "#d8576b"
             ],
             [
              0.6666666666666666,
              "#ed7953"
             ],
             [
              0.7777777777777778,
              "#fb9f3a"
             ],
             [
              0.8888888888888888,
              "#fdca26"
             ],
             [
              1,
              "#f0f921"
             ]
            ],
            "type": "contour"
           }
          ],
          "contourcarpet": [
           {
            "colorbar": {
             "outlinewidth": 0,
             "ticks": ""
            },
            "type": "contourcarpet"
           }
          ],
          "heatmap": [
           {
            "colorbar": {
             "outlinewidth": 0,
             "ticks": ""
            },
            "colorscale": [
             [
              0,
              "#0d0887"
             ],
             [
              0.1111111111111111,
              "#46039f"
             ],
             [
              0.2222222222222222,
              "#7201a8"
             ],
             [
              0.3333333333333333,
              "#9c179e"
             ],
             [
              0.4444444444444444,
              "#bd3786"
             ],
             [
              0.5555555555555556,
              "#d8576b"
             ],
             [
              0.6666666666666666,
              "#ed7953"
             ],
             [
              0.7777777777777778,
              "#fb9f3a"
             ],
             [
              0.8888888888888888,
              "#fdca26"
             ],
             [
              1,
              "#f0f921"
             ]
            ],
            "type": "heatmap"
           }
          ],
          "heatmapgl": [
           {
            "colorbar": {
             "outlinewidth": 0,
             "ticks": ""
            },
            "colorscale": [
             [
              0,
              "#0d0887"
             ],
             [
              0.1111111111111111,
              "#46039f"
             ],
             [
              0.2222222222222222,
              "#7201a8"
             ],
             [
              0.3333333333333333,
              "#9c179e"
             ],
             [
              0.4444444444444444,
              "#bd3786"
             ],
             [
              0.5555555555555556,
              "#d8576b"
             ],
             [
              0.6666666666666666,
              "#ed7953"
             ],
             [
              0.7777777777777778,
              "#fb9f3a"
             ],
             [
              0.8888888888888888,
              "#fdca26"
             ],
             [
              1,
              "#f0f921"
             ]
            ],
            "type": "heatmapgl"
           }
          ],
          "histogram": [
           {
            "marker": {
             "pattern": {
              "fillmode": "overlay",
              "size": 10,
              "solidity": 0.2
             }
            },
            "type": "histogram"
           }
          ],
          "histogram2d": [
           {
            "colorbar": {
             "outlinewidth": 0,
             "ticks": ""
            },
            "colorscale": [
             [
              0,
              "#0d0887"
             ],
             [
              0.1111111111111111,
              "#46039f"
             ],
             [
              0.2222222222222222,
              "#7201a8"
             ],
             [
              0.3333333333333333,
              "#9c179e"
             ],
             [
              0.4444444444444444,
              "#bd3786"
             ],
             [
              0.5555555555555556,
              "#d8576b"
             ],
             [
              0.6666666666666666,
              "#ed7953"
             ],
             [
              0.7777777777777778,
              "#fb9f3a"
             ],
             [
              0.8888888888888888,
              "#fdca26"
             ],
             [
              1,
              "#f0f921"
             ]
            ],
            "type": "histogram2d"
           }
          ],
          "histogram2dcontour": [
           {
            "colorbar": {
             "outlinewidth": 0,
             "ticks": ""
            },
            "colorscale": [
             [
              0,
              "#0d0887"
             ],
             [
              0.1111111111111111,
              "#46039f"
             ],
             [
              0.2222222222222222,
              "#7201a8"
             ],
             [
              0.3333333333333333,
              "#9c179e"
             ],
             [
              0.4444444444444444,
              "#bd3786"
             ],
             [
              0.5555555555555556,
              "#d8576b"
             ],
             [
              0.6666666666666666,
              "#ed7953"
             ],
             [
              0.7777777777777778,
              "#fb9f3a"
             ],
             [
              0.8888888888888888,
              "#fdca26"
             ],
             [
              1,
              "#f0f921"
             ]
            ],
            "type": "histogram2dcontour"
           }
          ],
          "mesh3d": [
           {
            "colorbar": {
             "outlinewidth": 0,
             "ticks": ""
            },
            "type": "mesh3d"
           }
          ],
          "parcoords": [
           {
            "line": {
             "colorbar": {
              "outlinewidth": 0,
              "ticks": ""
             }
            },
            "type": "parcoords"
           }
          ],
          "pie": [
           {
            "automargin": true,
            "type": "pie"
           }
          ],
          "scatter": [
           {
            "fillpattern": {
             "fillmode": "overlay",
             "size": 10,
             "solidity": 0.2
            },
            "type": "scatter"
           }
          ],
          "scatter3d": [
           {
            "line": {
             "colorbar": {
              "outlinewidth": 0,
              "ticks": ""
             }
            },
            "marker": {
             "colorbar": {
              "outlinewidth": 0,
              "ticks": ""
             }
            },
            "type": "scatter3d"
           }
          ],
          "scattercarpet": [
           {
            "marker": {
             "colorbar": {
              "outlinewidth": 0,
              "ticks": ""
             }
            },
            "type": "scattercarpet"
           }
          ],
          "scattergeo": [
           {
            "marker": {
             "colorbar": {
              "outlinewidth": 0,
              "ticks": ""
             }
            },
            "type": "scattergeo"
           }
          ],
          "scattergl": [
           {
            "marker": {
             "colorbar": {
              "outlinewidth": 0,
              "ticks": ""
             }
            },
            "type": "scattergl"
           }
          ],
          "scattermapbox": [
           {
            "marker": {
             "colorbar": {
              "outlinewidth": 0,
              "ticks": ""
             }
            },
            "type": "scattermapbox"
           }
          ],
          "scatterpolar": [
           {
            "marker": {
             "colorbar": {
              "outlinewidth": 0,
              "ticks": ""
             }
            },
            "type": "scatterpolar"
           }
          ],
          "scatterpolargl": [
           {
            "marker": {
             "colorbar": {
              "outlinewidth": 0,
              "ticks": ""
             }
            },
            "type": "scatterpolargl"
           }
          ],
          "scatterternary": [
           {
            "marker": {
             "colorbar": {
              "outlinewidth": 0,
              "ticks": ""
             }
            },
            "type": "scatterternary"
           }
          ],
          "surface": [
           {
            "colorbar": {
             "outlinewidth": 0,
             "ticks": ""
            },
            "colorscale": [
             [
              0,
              "#0d0887"
             ],
             [
              0.1111111111111111,
              "#46039f"
             ],
             [
              0.2222222222222222,
              "#7201a8"
             ],
             [
              0.3333333333333333,
              "#9c179e"
             ],
             [
              0.4444444444444444,
              "#bd3786"
             ],
             [
              0.5555555555555556,
              "#d8576b"
             ],
             [
              0.6666666666666666,
              "#ed7953"
             ],
             [
              0.7777777777777778,
              "#fb9f3a"
             ],
             [
              0.8888888888888888,
              "#fdca26"
             ],
             [
              1,
              "#f0f921"
             ]
            ],
            "type": "surface"
           }
          ],
          "table": [
           {
            "cells": {
             "fill": {
              "color": "#EBF0F8"
             },
             "line": {
              "color": "white"
             }
            },
            "header": {
             "fill": {
              "color": "#C8D4E3"
             },
             "line": {
              "color": "white"
             }
            },
            "type": "table"
           }
          ]
         },
         "layout": {
          "annotationdefaults": {
           "arrowcolor": "#2a3f5f",
           "arrowhead": 0,
           "arrowwidth": 1
          },
          "autotypenumbers": "strict",
          "coloraxis": {
           "colorbar": {
            "outlinewidth": 0,
            "ticks": ""
           }
          },
          "colorscale": {
           "diverging": [
            [
             0,
             "#8e0152"
            ],
            [
             0.1,
             "#c51b7d"
            ],
            [
             0.2,
             "#de77ae"
            ],
            [
             0.3,
             "#f1b6da"
            ],
            [
             0.4,
             "#fde0ef"
            ],
            [
             0.5,
             "#f7f7f7"
            ],
            [
             0.6,
             "#e6f5d0"
            ],
            [
             0.7,
             "#b8e186"
            ],
            [
             0.8,
             "#7fbc41"
            ],
            [
             0.9,
             "#4d9221"
            ],
            [
             1,
             "#276419"
            ]
           ],
           "sequential": [
            [
             0,
             "#0d0887"
            ],
            [
             0.1111111111111111,
             "#46039f"
            ],
            [
             0.2222222222222222,
             "#7201a8"
            ],
            [
             0.3333333333333333,
             "#9c179e"
            ],
            [
             0.4444444444444444,
             "#bd3786"
            ],
            [
             0.5555555555555556,
             "#d8576b"
            ],
            [
             0.6666666666666666,
             "#ed7953"
            ],
            [
             0.7777777777777778,
             "#fb9f3a"
            ],
            [
             0.8888888888888888,
             "#fdca26"
            ],
            [
             1,
             "#f0f921"
            ]
           ],
           "sequentialminus": [
            [
             0,
             "#0d0887"
            ],
            [
             0.1111111111111111,
             "#46039f"
            ],
            [
             0.2222222222222222,
             "#7201a8"
            ],
            [
             0.3333333333333333,
             "#9c179e"
            ],
            [
             0.4444444444444444,
             "#bd3786"
            ],
            [
             0.5555555555555556,
             "#d8576b"
            ],
            [
             0.6666666666666666,
             "#ed7953"
            ],
            [
             0.7777777777777778,
             "#fb9f3a"
            ],
            [
             0.8888888888888888,
             "#fdca26"
            ],
            [
             1,
             "#f0f921"
            ]
           ]
          },
          "colorway": [
           "#636efa",
           "#EF553B",
           "#00cc96",
           "#ab63fa",
           "#FFA15A",
           "#19d3f3",
           "#FF6692",
           "#B6E880",
           "#FF97FF",
           "#FECB52"
          ],
          "font": {
           "color": "#2a3f5f"
          },
          "geo": {
           "bgcolor": "white",
           "lakecolor": "white",
           "landcolor": "#E5ECF6",
           "showlakes": true,
           "showland": true,
           "subunitcolor": "white"
          },
          "hoverlabel": {
           "align": "left"
          },
          "hovermode": "closest",
          "mapbox": {
           "style": "light"
          },
          "paper_bgcolor": "white",
          "plot_bgcolor": "#E5ECF6",
          "polar": {
           "angularaxis": {
            "gridcolor": "white",
            "linecolor": "white",
            "ticks": ""
           },
           "bgcolor": "#E5ECF6",
           "radialaxis": {
            "gridcolor": "white",
            "linecolor": "white",
            "ticks": ""
           }
          },
          "scene": {
           "xaxis": {
            "backgroundcolor": "#E5ECF6",
            "gridcolor": "white",
            "gridwidth": 2,
            "linecolor": "white",
            "showbackground": true,
            "ticks": "",
            "zerolinecolor": "white"
           },
           "yaxis": {
            "backgroundcolor": "#E5ECF6",
            "gridcolor": "white",
            "gridwidth": 2,
            "linecolor": "white",
            "showbackground": true,
            "ticks": "",
            "zerolinecolor": "white"
           },
           "zaxis": {
            "backgroundcolor": "#E5ECF6",
            "gridcolor": "white",
            "gridwidth": 2,
            "linecolor": "white",
            "showbackground": true,
            "ticks": "",
            "zerolinecolor": "white"
           }
          },
          "shapedefaults": {
           "line": {
            "color": "#2a3f5f"
           }
          },
          "ternary": {
           "aaxis": {
            "gridcolor": "white",
            "linecolor": "white",
            "ticks": ""
           },
           "baxis": {
            "gridcolor": "white",
            "linecolor": "white",
            "ticks": ""
           },
           "bgcolor": "#E5ECF6",
           "caxis": {
            "gridcolor": "white",
            "linecolor": "white",
            "ticks": ""
           }
          },
          "title": {
           "x": 0.05
          },
          "xaxis": {
           "automargin": true,
           "gridcolor": "white",
           "linecolor": "white",
           "ticks": "",
           "title": {
            "standoff": 15
           },
           "zerolinecolor": "white",
           "zerolinewidth": 2
          },
          "yaxis": {
           "automargin": true,
           "gridcolor": "white",
           "linecolor": "white",
           "ticks": "",
           "title": {
            "standoff": 15
           },
           "zerolinecolor": "white",
           "zerolinewidth": 2
          }
         }
        },
        "title": {
         "text": "Country with Medal counts"
        }
       }
      }
     },
     "metadata": {},
     "output_type": "display_data"
    }
   ],
   "source": [
    "fig = px.scatter_geo(new1,locations='country_name',locationmode='country names',\n",
    "                     size=\"count\",color='country_name',title=\"Country with Medal counts\"\n",
    "                     )\n",
    "\n",
    "fig.show()"
   ]
  },
  {
   "cell_type": "code",
   "execution_count": 9,
   "metadata": {},
   "outputs": [
    {
     "data": {
      "text/plain": [
       "medal_type\n",
       "BRONZE    7529\n",
       "GOLD      7109\n",
       "SILVER    7059\n",
       "Name: count, dtype: int64"
      ]
     },
     "execution_count": 9,
     "metadata": {},
     "output_type": "execute_result"
    }
   ],
   "source": [
    "\n",
    "s2 = medal.medal_type.value_counts()\n",
    "s2"
   ]
  },
  {
   "cell_type": "code",
   "execution_count": 10,
   "metadata": {},
   "outputs": [
    {
     "data": {
      "text/html": [
       "<div>\n",
       "<style scoped>\n",
       "    .dataframe tbody tr th:only-of-type {\n",
       "        vertical-align: middle;\n",
       "    }\n",
       "\n",
       "    .dataframe tbody tr th {\n",
       "        vertical-align: top;\n",
       "    }\n",
       "\n",
       "    .dataframe thead th {\n",
       "        text-align: right;\n",
       "    }\n",
       "</style>\n",
       "<table border=\"1\" class=\"dataframe\">\n",
       "  <thead>\n",
       "    <tr style=\"text-align: right;\">\n",
       "      <th></th>\n",
       "      <th>medal_type</th>\n",
       "      <th>count</th>\n",
       "    </tr>\n",
       "  </thead>\n",
       "  <tbody>\n",
       "    <tr>\n",
       "      <th>0</th>\n",
       "      <td>BRONZE</td>\n",
       "      <td>7529</td>\n",
       "    </tr>\n",
       "    <tr>\n",
       "      <th>1</th>\n",
       "      <td>GOLD</td>\n",
       "      <td>7109</td>\n",
       "    </tr>\n",
       "    <tr>\n",
       "      <th>2</th>\n",
       "      <td>SILVER</td>\n",
       "      <td>7059</td>\n",
       "    </tr>\n",
       "  </tbody>\n",
       "</table>\n",
       "</div>"
      ],
      "text/plain": [
       "  medal_type  count\n",
       "0     BRONZE   7529\n",
       "1       GOLD   7109\n",
       "2     SILVER   7059"
      ]
     },
     "execution_count": 10,
     "metadata": {},
     "output_type": "execute_result"
    }
   ],
   "source": [
    "new2 = pd.DataFrame({'medal_type' : s2.index , 'count' : s2.values})\n",
    "new2"
   ]
  },
  {
   "cell_type": "code",
   "execution_count": 36,
   "metadata": {},
   "outputs": [
    {
     "data": {
      "application/vnd.plotly.v1+json": {
       "config": {
        "plotlyServerURL": "https://plot.ly"
       },
       "data": [
        {
         "customdata": [
          [
           "BRONZE"
          ],
          [
           "GOLD"
          ],
          [
           "SILVER"
          ]
         ],
         "domain": {
          "x": [
           0,
           1
          ],
          "y": [
           0,
           1
          ]
         },
         "hole": 0.7,
         "hovertemplate": "medal_type=%{customdata[0]}<br>count=%{value}<extra></extra>",
         "labels": [
          "BRONZE",
          "GOLD",
          "SILVER"
         ],
         "legendgroup": "",
         "marker": {
          "colors": [
           "brown",
           "gold",
           "silver"
          ]
         },
         "name": "",
         "showlegend": true,
         "type": "pie",
         "values": [
          7529,
          7109,
          7059
         ]
        }
       ],
       "layout": {
        "annotations": [
         {
          "align": "center",
          "font": {
           "size": 22
          },
          "showarrow": false,
          "text": "Medals",
          "x": 0.5,
          "xref": "paper",
          "y": 0.5,
          "yref": "paper"
         }
        ],
        "legend": {
         "tracegroupgap": 0
        },
        "template": {
         "data": {
          "bar": [
           {
            "error_x": {
             "color": "#2a3f5f"
            },
            "error_y": {
             "color": "#2a3f5f"
            },
            "marker": {
             "line": {
              "color": "#E5ECF6",
              "width": 0.5
             },
             "pattern": {
              "fillmode": "overlay",
              "size": 10,
              "solidity": 0.2
             }
            },
            "type": "bar"
           }
          ],
          "barpolar": [
           {
            "marker": {
             "line": {
              "color": "#E5ECF6",
              "width": 0.5
             },
             "pattern": {
              "fillmode": "overlay",
              "size": 10,
              "solidity": 0.2
             }
            },
            "type": "barpolar"
           }
          ],
          "carpet": [
           {
            "aaxis": {
             "endlinecolor": "#2a3f5f",
             "gridcolor": "white",
             "linecolor": "white",
             "minorgridcolor": "white",
             "startlinecolor": "#2a3f5f"
            },
            "baxis": {
             "endlinecolor": "#2a3f5f",
             "gridcolor": "white",
             "linecolor": "white",
             "minorgridcolor": "white",
             "startlinecolor": "#2a3f5f"
            },
            "type": "carpet"
           }
          ],
          "choropleth": [
           {
            "colorbar": {
             "outlinewidth": 0,
             "ticks": ""
            },
            "type": "choropleth"
           }
          ],
          "contour": [
           {
            "colorbar": {
             "outlinewidth": 0,
             "ticks": ""
            },
            "colorscale": [
             [
              0,
              "#0d0887"
             ],
             [
              0.1111111111111111,
              "#46039f"
             ],
             [
              0.2222222222222222,
              "#7201a8"
             ],
             [
              0.3333333333333333,
              "#9c179e"
             ],
             [
              0.4444444444444444,
              "#bd3786"
             ],
             [
              0.5555555555555556,
              "#d8576b"
             ],
             [
              0.6666666666666666,
              "#ed7953"
             ],
             [
              0.7777777777777778,
              "#fb9f3a"
             ],
             [
              0.8888888888888888,
              "#fdca26"
             ],
             [
              1,
              "#f0f921"
             ]
            ],
            "type": "contour"
           }
          ],
          "contourcarpet": [
           {
            "colorbar": {
             "outlinewidth": 0,
             "ticks": ""
            },
            "type": "contourcarpet"
           }
          ],
          "heatmap": [
           {
            "colorbar": {
             "outlinewidth": 0,
             "ticks": ""
            },
            "colorscale": [
             [
              0,
              "#0d0887"
             ],
             [
              0.1111111111111111,
              "#46039f"
             ],
             [
              0.2222222222222222,
              "#7201a8"
             ],
             [
              0.3333333333333333,
              "#9c179e"
             ],
             [
              0.4444444444444444,
              "#bd3786"
             ],
             [
              0.5555555555555556,
              "#d8576b"
             ],
             [
              0.6666666666666666,
              "#ed7953"
             ],
             [
              0.7777777777777778,
              "#fb9f3a"
             ],
             [
              0.8888888888888888,
              "#fdca26"
             ],
             [
              1,
              "#f0f921"
             ]
            ],
            "type": "heatmap"
           }
          ],
          "heatmapgl": [
           {
            "colorbar": {
             "outlinewidth": 0,
             "ticks": ""
            },
            "colorscale": [
             [
              0,
              "#0d0887"
             ],
             [
              0.1111111111111111,
              "#46039f"
             ],
             [
              0.2222222222222222,
              "#7201a8"
             ],
             [
              0.3333333333333333,
              "#9c179e"
             ],
             [
              0.4444444444444444,
              "#bd3786"
             ],
             [
              0.5555555555555556,
              "#d8576b"
             ],
             [
              0.6666666666666666,
              "#ed7953"
             ],
             [
              0.7777777777777778,
              "#fb9f3a"
             ],
             [
              0.8888888888888888,
              "#fdca26"
             ],
             [
              1,
              "#f0f921"
             ]
            ],
            "type": "heatmapgl"
           }
          ],
          "histogram": [
           {
            "marker": {
             "pattern": {
              "fillmode": "overlay",
              "size": 10,
              "solidity": 0.2
             }
            },
            "type": "histogram"
           }
          ],
          "histogram2d": [
           {
            "colorbar": {
             "outlinewidth": 0,
             "ticks": ""
            },
            "colorscale": [
             [
              0,
              "#0d0887"
             ],
             [
              0.1111111111111111,
              "#46039f"
             ],
             [
              0.2222222222222222,
              "#7201a8"
             ],
             [
              0.3333333333333333,
              "#9c179e"
             ],
             [
              0.4444444444444444,
              "#bd3786"
             ],
             [
              0.5555555555555556,
              "#d8576b"
             ],
             [
              0.6666666666666666,
              "#ed7953"
             ],
             [
              0.7777777777777778,
              "#fb9f3a"
             ],
             [
              0.8888888888888888,
              "#fdca26"
             ],
             [
              1,
              "#f0f921"
             ]
            ],
            "type": "histogram2d"
           }
          ],
          "histogram2dcontour": [
           {
            "colorbar": {
             "outlinewidth": 0,
             "ticks": ""
            },
            "colorscale": [
             [
              0,
              "#0d0887"
             ],
             [
              0.1111111111111111,
              "#46039f"
             ],
             [
              0.2222222222222222,
              "#7201a8"
             ],
             [
              0.3333333333333333,
              "#9c179e"
             ],
             [
              0.4444444444444444,
              "#bd3786"
             ],
             [
              0.5555555555555556,
              "#d8576b"
             ],
             [
              0.6666666666666666,
              "#ed7953"
             ],
             [
              0.7777777777777778,
              "#fb9f3a"
             ],
             [
              0.8888888888888888,
              "#fdca26"
             ],
             [
              1,
              "#f0f921"
             ]
            ],
            "type": "histogram2dcontour"
           }
          ],
          "mesh3d": [
           {
            "colorbar": {
             "outlinewidth": 0,
             "ticks": ""
            },
            "type": "mesh3d"
           }
          ],
          "parcoords": [
           {
            "line": {
             "colorbar": {
              "outlinewidth": 0,
              "ticks": ""
             }
            },
            "type": "parcoords"
           }
          ],
          "pie": [
           {
            "automargin": true,
            "type": "pie"
           }
          ],
          "scatter": [
           {
            "fillpattern": {
             "fillmode": "overlay",
             "size": 10,
             "solidity": 0.2
            },
            "type": "scatter"
           }
          ],
          "scatter3d": [
           {
            "line": {
             "colorbar": {
              "outlinewidth": 0,
              "ticks": ""
             }
            },
            "marker": {
             "colorbar": {
              "outlinewidth": 0,
              "ticks": ""
             }
            },
            "type": "scatter3d"
           }
          ],
          "scattercarpet": [
           {
            "marker": {
             "colorbar": {
              "outlinewidth": 0,
              "ticks": ""
             }
            },
            "type": "scattercarpet"
           }
          ],
          "scattergeo": [
           {
            "marker": {
             "colorbar": {
              "outlinewidth": 0,
              "ticks": ""
             }
            },
            "type": "scattergeo"
           }
          ],
          "scattergl": [
           {
            "marker": {
             "colorbar": {
              "outlinewidth": 0,
              "ticks": ""
             }
            },
            "type": "scattergl"
           }
          ],
          "scattermapbox": [
           {
            "marker": {
             "colorbar": {
              "outlinewidth": 0,
              "ticks": ""
             }
            },
            "type": "scattermapbox"
           }
          ],
          "scatterpolar": [
           {
            "marker": {
             "colorbar": {
              "outlinewidth": 0,
              "ticks": ""
             }
            },
            "type": "scatterpolar"
           }
          ],
          "scatterpolargl": [
           {
            "marker": {
             "colorbar": {
              "outlinewidth": 0,
              "ticks": ""
             }
            },
            "type": "scatterpolargl"
           }
          ],
          "scatterternary": [
           {
            "marker": {
             "colorbar": {
              "outlinewidth": 0,
              "ticks": ""
             }
            },
            "type": "scatterternary"
           }
          ],
          "surface": [
           {
            "colorbar": {
             "outlinewidth": 0,
             "ticks": ""
            },
            "colorscale": [
             [
              0,
              "#0d0887"
             ],
             [
              0.1111111111111111,
              "#46039f"
             ],
             [
              0.2222222222222222,
              "#7201a8"
             ],
             [
              0.3333333333333333,
              "#9c179e"
             ],
             [
              0.4444444444444444,
              "#bd3786"
             ],
             [
              0.5555555555555556,
              "#d8576b"
             ],
             [
              0.6666666666666666,
              "#ed7953"
             ],
             [
              0.7777777777777778,
              "#fb9f3a"
             ],
             [
              0.8888888888888888,
              "#fdca26"
             ],
             [
              1,
              "#f0f921"
             ]
            ],
            "type": "surface"
           }
          ],
          "table": [
           {
            "cells": {
             "fill": {
              "color": "#EBF0F8"
             },
             "line": {
              "color": "white"
             }
            },
            "header": {
             "fill": {
              "color": "#C8D4E3"
             },
             "line": {
              "color": "white"
             }
            },
            "type": "table"
           }
          ]
         },
         "layout": {
          "annotationdefaults": {
           "arrowcolor": "#2a3f5f",
           "arrowhead": 0,
           "arrowwidth": 1
          },
          "autotypenumbers": "strict",
          "coloraxis": {
           "colorbar": {
            "outlinewidth": 0,
            "ticks": ""
           }
          },
          "colorscale": {
           "diverging": [
            [
             0,
             "#8e0152"
            ],
            [
             0.1,
             "#c51b7d"
            ],
            [
             0.2,
             "#de77ae"
            ],
            [
             0.3,
             "#f1b6da"
            ],
            [
             0.4,
             "#fde0ef"
            ],
            [
             0.5,
             "#f7f7f7"
            ],
            [
             0.6,
             "#e6f5d0"
            ],
            [
             0.7,
             "#b8e186"
            ],
            [
             0.8,
             "#7fbc41"
            ],
            [
             0.9,
             "#4d9221"
            ],
            [
             1,
             "#276419"
            ]
           ],
           "sequential": [
            [
             0,
             "#0d0887"
            ],
            [
             0.1111111111111111,
             "#46039f"
            ],
            [
             0.2222222222222222,
             "#7201a8"
            ],
            [
             0.3333333333333333,
             "#9c179e"
            ],
            [
             0.4444444444444444,
             "#bd3786"
            ],
            [
             0.5555555555555556,
             "#d8576b"
            ],
            [
             0.6666666666666666,
             "#ed7953"
            ],
            [
             0.7777777777777778,
             "#fb9f3a"
            ],
            [
             0.8888888888888888,
             "#fdca26"
            ],
            [
             1,
             "#f0f921"
            ]
           ],
           "sequentialminus": [
            [
             0,
             "#0d0887"
            ],
            [
             0.1111111111111111,
             "#46039f"
            ],
            [
             0.2222222222222222,
             "#7201a8"
            ],
            [
             0.3333333333333333,
             "#9c179e"
            ],
            [
             0.4444444444444444,
             "#bd3786"
            ],
            [
             0.5555555555555556,
             "#d8576b"
            ],
            [
             0.6666666666666666,
             "#ed7953"
            ],
            [
             0.7777777777777778,
             "#fb9f3a"
            ],
            [
             0.8888888888888888,
             "#fdca26"
            ],
            [
             1,
             "#f0f921"
            ]
           ]
          },
          "colorway": [
           "#636efa",
           "#EF553B",
           "#00cc96",
           "#ab63fa",
           "#FFA15A",
           "#19d3f3",
           "#FF6692",
           "#B6E880",
           "#FF97FF",
           "#FECB52"
          ],
          "font": {
           "color": "#2a3f5f"
          },
          "geo": {
           "bgcolor": "white",
           "lakecolor": "white",
           "landcolor": "#E5ECF6",
           "showlakes": true,
           "showland": true,
           "subunitcolor": "white"
          },
          "hoverlabel": {
           "align": "left"
          },
          "hovermode": "closest",
          "mapbox": {
           "style": "light"
          },
          "paper_bgcolor": "white",
          "plot_bgcolor": "#E5ECF6",
          "polar": {
           "angularaxis": {
            "gridcolor": "white",
            "linecolor": "white",
            "ticks": ""
           },
           "bgcolor": "#E5ECF6",
           "radialaxis": {
            "gridcolor": "white",
            "linecolor": "white",
            "ticks": ""
           }
          },
          "scene": {
           "xaxis": {
            "backgroundcolor": "#E5ECF6",
            "gridcolor": "white",
            "gridwidth": 2,
            "linecolor": "white",
            "showbackground": true,
            "ticks": "",
            "zerolinecolor": "white"
           },
           "yaxis": {
            "backgroundcolor": "#E5ECF6",
            "gridcolor": "white",
            "gridwidth": 2,
            "linecolor": "white",
            "showbackground": true,
            "ticks": "",
            "zerolinecolor": "white"
           },
           "zaxis": {
            "backgroundcolor": "#E5ECF6",
            "gridcolor": "white",
            "gridwidth": 2,
            "linecolor": "white",
            "showbackground": true,
            "ticks": "",
            "zerolinecolor": "white"
           }
          },
          "shapedefaults": {
           "line": {
            "color": "#2a3f5f"
           }
          },
          "ternary": {
           "aaxis": {
            "gridcolor": "white",
            "linecolor": "white",
            "ticks": ""
           },
           "baxis": {
            "gridcolor": "white",
            "linecolor": "white",
            "ticks": ""
           },
           "bgcolor": "#E5ECF6",
           "caxis": {
            "gridcolor": "white",
            "linecolor": "white",
            "ticks": ""
           }
          },
          "title": {
           "x": 0.05
          },
          "xaxis": {
           "automargin": true,
           "gridcolor": "white",
           "linecolor": "white",
           "ticks": "",
           "title": {
            "standoff": 15
           },
           "zerolinecolor": "white",
           "zerolinewidth": 2
          },
          "yaxis": {
           "automargin": true,
           "gridcolor": "white",
           "linecolor": "white",
           "ticks": "",
           "title": {
            "standoff": 15
           },
           "zerolinecolor": "white",
           "zerolinewidth": 2
          }
         }
        },
        "title": {
         "text": "Different medal type won"
        }
       }
      }
     },
     "metadata": {},
     "output_type": "display_data"
    }
   ],
   "source": [
    "\n",
    "fig = px.pie(new2, values='count', names='medal_type', title='Different medal type won', color='medal_type',hole=0.7,\n",
    "              color_discrete_map={'GOLD':'gold',\n",
    "                                 'BRONZE':'brown',\n",
    "                                 'SILVER':'silver'})\n",
    "fig.add_annotation(dict(x=0.5, y=0.5,  align='center',\n",
    "                        xref = \"paper\", yref = \"paper\",\n",
    "                        showarrow = False, font_size=22,\n",
    "                        text=\"Medals\"))\n",
    "\n",
    "\n",
    "# data:image/jpeg;base64,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\n",
    "\n",
    "fig.show()"
   ]
  },
  {
   "cell_type": "code",
   "execution_count": 12,
   "metadata": {},
   "outputs": [],
   "source": [
    "s3= medal.event_title.value_counts()"
   ]
  },
  {
   "cell_type": "code",
   "execution_count": 13,
   "metadata": {},
   "outputs": [
    {
     "data": {
      "text/html": [
       "<div>\n",
       "<style scoped>\n",
       "    .dataframe tbody tr th:only-of-type {\n",
       "        vertical-align: middle;\n",
       "    }\n",
       "\n",
       "    .dataframe tbody tr th {\n",
       "        vertical-align: top;\n",
       "    }\n",
       "\n",
       "    .dataframe thead th {\n",
       "        text-align: right;\n",
       "    }\n",
       "</style>\n",
       "<table border=\"1\" class=\"dataframe\">\n",
       "  <thead>\n",
       "    <tr style=\"text-align: right;\">\n",
       "      <th></th>\n",
       "      <th>event_title</th>\n",
       "      <th>players</th>\n",
       "    </tr>\n",
       "  </thead>\n",
       "  <tbody>\n",
       "    <tr>\n",
       "      <th>0</th>\n",
       "      <td>Individual men</td>\n",
       "      <td>215</td>\n",
       "    </tr>\n",
       "    <tr>\n",
       "      <th>1</th>\n",
       "      <td>individual mixed</td>\n",
       "      <td>192</td>\n",
       "    </tr>\n",
       "    <tr>\n",
       "      <th>2</th>\n",
       "      <td>team mixed</td>\n",
       "      <td>176</td>\n",
       "    </tr>\n",
       "    <tr>\n",
       "      <th>3</th>\n",
       "      <td>doubles men</td>\n",
       "      <td>168</td>\n",
       "    </tr>\n",
       "    <tr>\n",
       "      <th>4</th>\n",
       "      <td>1500m men</td>\n",
       "      <td>162</td>\n",
       "    </tr>\n",
       "    <tr>\n",
       "      <th>5</th>\n",
       "      <td>Pairs mixed</td>\n",
       "      <td>146</td>\n",
       "    </tr>\n",
       "    <tr>\n",
       "      <th>6</th>\n",
       "      <td>5000m men</td>\n",
       "      <td>141</td>\n",
       "    </tr>\n",
       "    <tr>\n",
       "      <th>7</th>\n",
       "      <td>doubles women</td>\n",
       "      <td>140</td>\n",
       "    </tr>\n",
       "    <tr>\n",
       "      <th>8</th>\n",
       "      <td>Singles men</td>\n",
       "      <td>139</td>\n",
       "    </tr>\n",
       "    <tr>\n",
       "      <th>9</th>\n",
       "      <td>double sculls 2x men</td>\n",
       "      <td>138</td>\n",
       "    </tr>\n",
       "    <tr>\n",
       "      <th>10</th>\n",
       "      <td>10000m men</td>\n",
       "      <td>135</td>\n",
       "    </tr>\n",
       "    <tr>\n",
       "      <th>11</th>\n",
       "      <td>Singles women</td>\n",
       "      <td>131</td>\n",
       "    </tr>\n",
       "    <tr>\n",
       "      <th>12</th>\n",
       "      <td>pair without coxswain 2 men</td>\n",
       "      <td>130</td>\n",
       "    </tr>\n",
       "    <tr>\n",
       "      <th>13</th>\n",
       "      <td>Individual women</td>\n",
       "      <td>126</td>\n",
       "    </tr>\n",
       "    <tr>\n",
       "      <th>14</th>\n",
       "      <td>Doubles mixed</td>\n",
       "      <td>120</td>\n",
       "    </tr>\n",
       "    <tr>\n",
       "      <th>15</th>\n",
       "      <td>K2 1000m kayak double men</td>\n",
       "      <td>108</td>\n",
       "    </tr>\n",
       "    <tr>\n",
       "      <th>16</th>\n",
       "      <td>C2 1000m canoe double men</td>\n",
       "      <td>108</td>\n",
       "    </tr>\n",
       "    <tr>\n",
       "      <th>17</th>\n",
       "      <td>two-man men</td>\n",
       "      <td>102</td>\n",
       "    </tr>\n",
       "  </tbody>\n",
       "</table>\n",
       "</div>"
      ],
      "text/plain": [
       "                    event_title  players\n",
       "0                Individual men      215\n",
       "1              individual mixed      192\n",
       "2                    team mixed      176\n",
       "3                   doubles men      168\n",
       "4                     1500m men      162\n",
       "5                   Pairs mixed      146\n",
       "6                     5000m men      141\n",
       "7                 doubles women      140\n",
       "8                   Singles men      139\n",
       "9          double sculls 2x men      138\n",
       "10                   10000m men      135\n",
       "11                Singles women      131\n",
       "12  pair without coxswain 2 men      130\n",
       "13             Individual women      126\n",
       "14                Doubles mixed      120\n",
       "15    K2 1000m kayak double men      108\n",
       "16    C2 1000m canoe double men      108\n",
       "17                  two-man men      102"
      ]
     },
     "execution_count": 13,
     "metadata": {},
     "output_type": "execute_result"
    }
   ],
   "source": [
    "new3 = pd.DataFrame({'event_title' : s3.index , 'players' : s3.values})\n",
    "new3\n",
    "\n",
    "df3 = new3[new3['players'] > 100]\n",
    "df3\n",
    "\n"
   ]
  },
  {
   "cell_type": "code",
   "execution_count": 14,
   "metadata": {},
   "outputs": [
    {
     "data": {
      "application/vnd.plotly.v1+json": {
       "config": {
        "plotlyServerURL": "https://plot.ly"
       },
       "data": [
        {
         "domain": {
          "x": [
           0,
           1
          ],
          "y": [
           0,
           1
          ]
         },
         "hovertemplate": "event_title=%{label}<br>players=%{value}<extra></extra>",
         "labels": [
          "Individual men",
          "individual mixed",
          "team mixed",
          "doubles men",
          "1500m men",
          "Pairs mixed",
          "5000m men",
          "doubles women",
          "Singles men",
          "double sculls 2x men",
          "10000m men",
          "Singles women",
          "pair without coxswain 2 men",
          "Individual women",
          "Doubles mixed",
          "K2 1000m kayak double men",
          "C2 1000m canoe double men",
          "two-man men"
         ],
         "legendgroup": "",
         "name": "",
         "showlegend": true,
         "type": "pie",
         "values": [
          215,
          192,
          176,
          168,
          162,
          146,
          141,
          140,
          139,
          138,
          135,
          131,
          130,
          126,
          120,
          108,
          108,
          102
         ]
        }
       ],
       "layout": {
        "legend": {
         "tracegroupgap": 0
        },
        "template": {
         "data": {
          "bar": [
           {
            "error_x": {
             "color": "#2a3f5f"
            },
            "error_y": {
             "color": "#2a3f5f"
            },
            "marker": {
             "line": {
              "color": "#E5ECF6",
              "width": 0.5
             },
             "pattern": {
              "fillmode": "overlay",
              "size": 10,
              "solidity": 0.2
             }
            },
            "type": "bar"
           }
          ],
          "barpolar": [
           {
            "marker": {
             "line": {
              "color": "#E5ECF6",
              "width": 0.5
             },
             "pattern": {
              "fillmode": "overlay",
              "size": 10,
              "solidity": 0.2
             }
            },
            "type": "barpolar"
           }
          ],
          "carpet": [
           {
            "aaxis": {
             "endlinecolor": "#2a3f5f",
             "gridcolor": "white",
             "linecolor": "white",
             "minorgridcolor": "white",
             "startlinecolor": "#2a3f5f"
            },
            "baxis": {
             "endlinecolor": "#2a3f5f",
             "gridcolor": "white",
             "linecolor": "white",
             "minorgridcolor": "white",
             "startlinecolor": "#2a3f5f"
            },
            "type": "carpet"
           }
          ],
          "choropleth": [
           {
            "colorbar": {
             "outlinewidth": 0,
             "ticks": ""
            },
            "type": "choropleth"
           }
          ],
          "contour": [
           {
            "colorbar": {
             "outlinewidth": 0,
             "ticks": ""
            },
            "colorscale": [
             [
              0,
              "#0d0887"
             ],
             [
              0.1111111111111111,
              "#46039f"
             ],
             [
              0.2222222222222222,
              "#7201a8"
             ],
             [
              0.3333333333333333,
              "#9c179e"
             ],
             [
              0.4444444444444444,
              "#bd3786"
             ],
             [
              0.5555555555555556,
              "#d8576b"
             ],
             [
              0.6666666666666666,
              "#ed7953"
             ],
             [
              0.7777777777777778,
              "#fb9f3a"
             ],
             [
              0.8888888888888888,
              "#fdca26"
             ],
             [
              1,
              "#f0f921"
             ]
            ],
            "type": "contour"
           }
          ],
          "contourcarpet": [
           {
            "colorbar": {
             "outlinewidth": 0,
             "ticks": ""
            },
            "type": "contourcarpet"
           }
          ],
          "heatmap": [
           {
            "colorbar": {
             "outlinewidth": 0,
             "ticks": ""
            },
            "colorscale": [
             [
              0,
              "#0d0887"
             ],
             [
              0.1111111111111111,
              "#46039f"
             ],
             [
              0.2222222222222222,
              "#7201a8"
             ],
             [
              0.3333333333333333,
              "#9c179e"
             ],
             [
              0.4444444444444444,
              "#bd3786"
             ],
             [
              0.5555555555555556,
              "#d8576b"
             ],
             [
              0.6666666666666666,
              "#ed7953"
             ],
             [
              0.7777777777777778,
              "#fb9f3a"
             ],
             [
              0.8888888888888888,
              "#fdca26"
             ],
             [
              1,
              "#f0f921"
             ]
            ],
            "type": "heatmap"
           }
          ],
          "heatmapgl": [
           {
            "colorbar": {
             "outlinewidth": 0,
             "ticks": ""
            },
            "colorscale": [
             [
              0,
              "#0d0887"
             ],
             [
              0.1111111111111111,
              "#46039f"
             ],
             [
              0.2222222222222222,
              "#7201a8"
             ],
             [
              0.3333333333333333,
              "#9c179e"
             ],
             [
              0.4444444444444444,
              "#bd3786"
             ],
             [
              0.5555555555555556,
              "#d8576b"
             ],
             [
              0.6666666666666666,
              "#ed7953"
             ],
             [
              0.7777777777777778,
              "#fb9f3a"
             ],
             [
              0.8888888888888888,
              "#fdca26"
             ],
             [
              1,
              "#f0f921"
             ]
            ],
            "type": "heatmapgl"
           }
          ],
          "histogram": [
           {
            "marker": {
             "pattern": {
              "fillmode": "overlay",
              "size": 10,
              "solidity": 0.2
             }
            },
            "type": "histogram"
           }
          ],
          "histogram2d": [
           {
            "colorbar": {
             "outlinewidth": 0,
             "ticks": ""
            },
            "colorscale": [
             [
              0,
              "#0d0887"
             ],
             [
              0.1111111111111111,
              "#46039f"
             ],
             [
              0.2222222222222222,
              "#7201a8"
             ],
             [
              0.3333333333333333,
              "#9c179e"
             ],
             [
              0.4444444444444444,
              "#bd3786"
             ],
             [
              0.5555555555555556,
              "#d8576b"
             ],
             [
              0.6666666666666666,
              "#ed7953"
             ],
             [
              0.7777777777777778,
              "#fb9f3a"
             ],
             [
              0.8888888888888888,
              "#fdca26"
             ],
             [
              1,
              "#f0f921"
             ]
            ],
            "type": "histogram2d"
           }
          ],
          "histogram2dcontour": [
           {
            "colorbar": {
             "outlinewidth": 0,
             "ticks": ""
            },
            "colorscale": [
             [
              0,
              "#0d0887"
             ],
             [
              0.1111111111111111,
              "#46039f"
             ],
             [
              0.2222222222222222,
              "#7201a8"
             ],
             [
              0.3333333333333333,
              "#9c179e"
             ],
             [
              0.4444444444444444,
              "#bd3786"
             ],
             [
              0.5555555555555556,
              "#d8576b"
             ],
             [
              0.6666666666666666,
              "#ed7953"
             ],
             [
              0.7777777777777778,
              "#fb9f3a"
             ],
             [
              0.8888888888888888,
              "#fdca26"
             ],
             [
              1,
              "#f0f921"
             ]
            ],
            "type": "histogram2dcontour"
           }
          ],
          "mesh3d": [
           {
            "colorbar": {
             "outlinewidth": 0,
             "ticks": ""
            },
            "type": "mesh3d"
           }
          ],
          "parcoords": [
           {
            "line": {
             "colorbar": {
              "outlinewidth": 0,
              "ticks": ""
             }
            },
            "type": "parcoords"
           }
          ],
          "pie": [
           {
            "automargin": true,
            "type": "pie"
           }
          ],
          "scatter": [
           {
            "fillpattern": {
             "fillmode": "overlay",
             "size": 10,
             "solidity": 0.2
            },
            "type": "scatter"
           }
          ],
          "scatter3d": [
           {
            "line": {
             "colorbar": {
              "outlinewidth": 0,
              "ticks": ""
             }
            },
            "marker": {
             "colorbar": {
              "outlinewidth": 0,
              "ticks": ""
             }
            },
            "type": "scatter3d"
           }
          ],
          "scattercarpet": [
           {
            "marker": {
             "colorbar": {
              "outlinewidth": 0,
              "ticks": ""
             }
            },
            "type": "scattercarpet"
           }
          ],
          "scattergeo": [
           {
            "marker": {
             "colorbar": {
              "outlinewidth": 0,
              "ticks": ""
             }
            },
            "type": "scattergeo"
           }
          ],
          "scattergl": [
           {
            "marker": {
             "colorbar": {
              "outlinewidth": 0,
              "ticks": ""
             }
            },
            "type": "scattergl"
           }
          ],
          "scattermapbox": [
           {
            "marker": {
             "colorbar": {
              "outlinewidth": 0,
              "ticks": ""
             }
            },
            "type": "scattermapbox"
           }
          ],
          "scatterpolar": [
           {
            "marker": {
             "colorbar": {
              "outlinewidth": 0,
              "ticks": ""
             }
            },
            "type": "scatterpolar"
           }
          ],
          "scatterpolargl": [
           {
            "marker": {
             "colorbar": {
              "outlinewidth": 0,
              "ticks": ""
             }
            },
            "type": "scatterpolargl"
           }
          ],
          "scatterternary": [
           {
            "marker": {
             "colorbar": {
              "outlinewidth": 0,
              "ticks": ""
             }
            },
            "type": "scatterternary"
           }
          ],
          "surface": [
           {
            "colorbar": {
             "outlinewidth": 0,
             "ticks": ""
            },
            "colorscale": [
             [
              0,
              "#0d0887"
             ],
             [
              0.1111111111111111,
              "#46039f"
             ],
             [
              0.2222222222222222,
              "#7201a8"
             ],
             [
              0.3333333333333333,
              "#9c179e"
             ],
             [
              0.4444444444444444,
              "#bd3786"
             ],
             [
              0.5555555555555556,
              "#d8576b"
             ],
             [
              0.6666666666666666,
              "#ed7953"
             ],
             [
              0.7777777777777778,
              "#fb9f3a"
             ],
             [
              0.8888888888888888,
              "#fdca26"
             ],
             [
              1,
              "#f0f921"
             ]
            ],
            "type": "surface"
           }
          ],
          "table": [
           {
            "cells": {
             "fill": {
              "color": "#EBF0F8"
             },
             "line": {
              "color": "white"
             }
            },
            "header": {
             "fill": {
              "color": "#C8D4E3"
             },
             "line": {
              "color": "white"
             }
            },
            "type": "table"
           }
          ]
         },
         "layout": {
          "annotationdefaults": {
           "arrowcolor": "#2a3f5f",
           "arrowhead": 0,
           "arrowwidth": 1
          },
          "autotypenumbers": "strict",
          "coloraxis": {
           "colorbar": {
            "outlinewidth": 0,
            "ticks": ""
           }
          },
          "colorscale": {
           "diverging": [
            [
             0,
             "#8e0152"
            ],
            [
             0.1,
             "#c51b7d"
            ],
            [
             0.2,
             "#de77ae"
            ],
            [
             0.3,
             "#f1b6da"
            ],
            [
             0.4,
             "#fde0ef"
            ],
            [
             0.5,
             "#f7f7f7"
            ],
            [
             0.6,
             "#e6f5d0"
            ],
            [
             0.7,
             "#b8e186"
            ],
            [
             0.8,
             "#7fbc41"
            ],
            [
             0.9,
             "#4d9221"
            ],
            [
             1,
             "#276419"
            ]
           ],
           "sequential": [
            [
             0,
             "#0d0887"
            ],
            [
             0.1111111111111111,
             "#46039f"
            ],
            [
             0.2222222222222222,
             "#7201a8"
            ],
            [
             0.3333333333333333,
             "#9c179e"
            ],
            [
             0.4444444444444444,
             "#bd3786"
            ],
            [
             0.5555555555555556,
             "#d8576b"
            ],
            [
             0.6666666666666666,
             "#ed7953"
            ],
            [
             0.7777777777777778,
             "#fb9f3a"
            ],
            [
             0.8888888888888888,
             "#fdca26"
            ],
            [
             1,
             "#f0f921"
            ]
           ],
           "sequentialminus": [
            [
             0,
             "#0d0887"
            ],
            [
             0.1111111111111111,
             "#46039f"
            ],
            [
             0.2222222222222222,
             "#7201a8"
            ],
            [
             0.3333333333333333,
             "#9c179e"
            ],
            [
             0.4444444444444444,
             "#bd3786"
            ],
            [
             0.5555555555555556,
             "#d8576b"
            ],
            [
             0.6666666666666666,
             "#ed7953"
            ],
            [
             0.7777777777777778,
             "#fb9f3a"
            ],
            [
             0.8888888888888888,
             "#fdca26"
            ],
            [
             1,
             "#f0f921"
            ]
           ]
          },
          "colorway": [
           "#636efa",
           "#EF553B",
           "#00cc96",
           "#ab63fa",
           "#FFA15A",
           "#19d3f3",
           "#FF6692",
           "#B6E880",
           "#FF97FF",
           "#FECB52"
          ],
          "font": {
           "color": "#2a3f5f"
          },
          "geo": {
           "bgcolor": "white",
           "lakecolor": "white",
           "landcolor": "#E5ECF6",
           "showlakes": true,
           "showland": true,
           "subunitcolor": "white"
          },
          "hoverlabel": {
           "align": "left"
          },
          "hovermode": "closest",
          "mapbox": {
           "style": "light"
          },
          "paper_bgcolor": "white",
          "plot_bgcolor": "#E5ECF6",
          "polar": {
           "angularaxis": {
            "gridcolor": "white",
            "linecolor": "white",
            "ticks": ""
           },
           "bgcolor": "#E5ECF6",
           "radialaxis": {
            "gridcolor": "white",
            "linecolor": "white",
            "ticks": ""
           }
          },
          "scene": {
           "xaxis": {
            "backgroundcolor": "#E5ECF6",
            "gridcolor": "white",
            "gridwidth": 2,
            "linecolor": "white",
            "showbackground": true,
            "ticks": "",
            "zerolinecolor": "white"
           },
           "yaxis": {
            "backgroundcolor": "#E5ECF6",
            "gridcolor": "white",
            "gridwidth": 2,
            "linecolor": "white",
            "showbackground": true,
            "ticks": "",
            "zerolinecolor": "white"
           },
           "zaxis": {
            "backgroundcolor": "#E5ECF6",
            "gridcolor": "white",
            "gridwidth": 2,
            "linecolor": "white",
            "showbackground": true,
            "ticks": "",
            "zerolinecolor": "white"
           }
          },
          "shapedefaults": {
           "line": {
            "color": "#2a3f5f"
           }
          },
          "ternary": {
           "aaxis": {
            "gridcolor": "white",
            "linecolor": "white",
            "ticks": ""
           },
           "baxis": {
            "gridcolor": "white",
            "linecolor": "white",
            "ticks": ""
           },
           "bgcolor": "#E5ECF6",
           "caxis": {
            "gridcolor": "white",
            "linecolor": "white",
            "ticks": ""
           }
          },
          "title": {
           "x": 0.05
          },
          "xaxis": {
           "automargin": true,
           "gridcolor": "white",
           "linecolor": "white",
           "ticks": "",
           "title": {
            "standoff": 15
           },
           "zerolinecolor": "white",
           "zerolinewidth": 2
          },
          "yaxis": {
           "automargin": true,
           "gridcolor": "white",
           "linecolor": "white",
           "ticks": "",
           "title": {
            "standoff": 15
           },
           "zerolinecolor": "white",
           "zerolinewidth": 2
          }
         }
        },
        "title": {
         "text": "Types of Events"
        }
       }
      }
     },
     "metadata": {},
     "output_type": "display_data"
    }
   ],
   "source": [
    "fig = px.pie(df3, values='players', names='event_title', title='Types of Events')\n",
    "fig.show()"
   ]
  },
  {
   "cell_type": "code",
   "execution_count": 15,
   "metadata": {},
   "outputs": [
    {
     "data": {
      "text/html": [
       "<div>\n",
       "<style scoped>\n",
       "    .dataframe tbody tr th:only-of-type {\n",
       "        vertical-align: middle;\n",
       "    }\n",
       "\n",
       "    .dataframe tbody tr th {\n",
       "        vertical-align: top;\n",
       "    }\n",
       "\n",
       "    .dataframe thead th {\n",
       "        text-align: right;\n",
       "    }\n",
       "</style>\n",
       "<table border=\"1\" class=\"dataframe\">\n",
       "  <thead>\n",
       "    <tr style=\"text-align: right;\">\n",
       "      <th></th>\n",
       "      <th>Discipline</th>\n",
       "      <th>players</th>\n",
       "    </tr>\n",
       "  </thead>\n",
       "  <tbody>\n",
       "    <tr>\n",
       "      <th>0</th>\n",
       "      <td>Athletics</td>\n",
       "      <td>3080</td>\n",
       "    </tr>\n",
       "    <tr>\n",
       "      <th>1</th>\n",
       "      <td>Swimming</td>\n",
       "      <td>1763</td>\n",
       "    </tr>\n",
       "    <tr>\n",
       "      <th>2</th>\n",
       "      <td>Wrestling</td>\n",
       "      <td>1356</td>\n",
       "    </tr>\n",
       "    <tr>\n",
       "      <th>3</th>\n",
       "      <td>Rowing</td>\n",
       "      <td>1072</td>\n",
       "    </tr>\n",
       "    <tr>\n",
       "      <th>4</th>\n",
       "      <td>Boxing</td>\n",
       "      <td>996</td>\n",
       "    </tr>\n",
       "    <tr>\n",
       "      <th>5</th>\n",
       "      <td>Gymnastics Artistic</td>\n",
       "      <td>979</td>\n",
       "    </tr>\n",
       "    <tr>\n",
       "      <th>6</th>\n",
       "      <td>Shooting</td>\n",
       "      <td>871</td>\n",
       "    </tr>\n",
       "    <tr>\n",
       "      <th>7</th>\n",
       "      <td>Canoe Sprint</td>\n",
       "      <td>799</td>\n",
       "    </tr>\n",
       "    <tr>\n",
       "      <th>8</th>\n",
       "      <td>Sailing</td>\n",
       "      <td>771</td>\n",
       "    </tr>\n",
       "    <tr>\n",
       "      <th>9</th>\n",
       "      <td>Weightlifting</td>\n",
       "      <td>679</td>\n",
       "    </tr>\n",
       "    <tr>\n",
       "      <th>10</th>\n",
       "      <td>Fencing</td>\n",
       "      <td>668</td>\n",
       "    </tr>\n",
       "    <tr>\n",
       "      <th>11</th>\n",
       "      <td>Speed skating</td>\n",
       "      <td>611</td>\n",
       "    </tr>\n",
       "    <tr>\n",
       "      <th>12</th>\n",
       "      <td>Judo</td>\n",
       "      <td>607</td>\n",
       "    </tr>\n",
       "    <tr>\n",
       "      <th>13</th>\n",
       "      <td>Cycling Track</td>\n",
       "      <td>578</td>\n",
       "    </tr>\n",
       "    <tr>\n",
       "      <th>14</th>\n",
       "      <td>Cross Country Skiing</td>\n",
       "      <td>574</td>\n",
       "    </tr>\n",
       "    <tr>\n",
       "      <th>15</th>\n",
       "      <td>Alpine Skiing</td>\n",
       "      <td>494</td>\n",
       "    </tr>\n",
       "    <tr>\n",
       "      <th>16</th>\n",
       "      <td>Diving</td>\n",
       "      <td>460</td>\n",
       "    </tr>\n",
       "    <tr>\n",
       "      <th>17</th>\n",
       "      <td>Figure skating</td>\n",
       "      <td>405</td>\n",
       "    </tr>\n",
       "    <tr>\n",
       "      <th>18</th>\n",
       "      <td>Tennis</td>\n",
       "      <td>346</td>\n",
       "    </tr>\n",
       "    <tr>\n",
       "      <th>19</th>\n",
       "      <td>Biathlon</td>\n",
       "      <td>286</td>\n",
       "    </tr>\n",
       "    <tr>\n",
       "      <th>20</th>\n",
       "      <td>Bobsleigh</td>\n",
       "      <td>235</td>\n",
       "    </tr>\n",
       "    <tr>\n",
       "      <th>21</th>\n",
       "      <td>Archery</td>\n",
       "      <td>204</td>\n",
       "    </tr>\n",
       "    <tr>\n",
       "      <th>22</th>\n",
       "      <td>Luge</td>\n",
       "      <td>201</td>\n",
       "    </tr>\n",
       "    <tr>\n",
       "      <th>23</th>\n",
       "      <td>Cycling Road</td>\n",
       "      <td>201</td>\n",
       "    </tr>\n",
       "    <tr>\n",
       "      <th>24</th>\n",
       "      <td>Badminton</td>\n",
       "      <td>192</td>\n",
       "    </tr>\n",
       "    <tr>\n",
       "      <th>25</th>\n",
       "      <td>Taekwondo</td>\n",
       "      <td>176</td>\n",
       "    </tr>\n",
       "    <tr>\n",
       "      <th>26</th>\n",
       "      <td>Freestyle Skiing</td>\n",
       "      <td>171</td>\n",
       "    </tr>\n",
       "    <tr>\n",
       "      <th>27</th>\n",
       "      <td>Short Track Speed Skating</td>\n",
       "      <td>171</td>\n",
       "    </tr>\n",
       "    <tr>\n",
       "      <th>28</th>\n",
       "      <td>Ski Jumping</td>\n",
       "      <td>162</td>\n",
       "    </tr>\n",
       "    <tr>\n",
       "      <th>29</th>\n",
       "      <td>Snowboard</td>\n",
       "      <td>156</td>\n",
       "    </tr>\n",
       "    <tr>\n",
       "      <th>30</th>\n",
       "      <td>Table Tennis</td>\n",
       "      <td>150</td>\n",
       "    </tr>\n",
       "    <tr>\n",
       "      <th>31</th>\n",
       "      <td>Equestrian Jumping</td>\n",
       "      <td>144</td>\n",
       "    </tr>\n",
       "    <tr>\n",
       "      <th>32</th>\n",
       "      <td>Equestrian Eventing</td>\n",
       "      <td>137</td>\n",
       "    </tr>\n",
       "    <tr>\n",
       "      <th>33</th>\n",
       "      <td>Canoe Slalom</td>\n",
       "      <td>132</td>\n",
       "    </tr>\n",
       "    <tr>\n",
       "      <th>34</th>\n",
       "      <td>Modern Pentathlon</td>\n",
       "      <td>126</td>\n",
       "    </tr>\n",
       "    <tr>\n",
       "      <th>35</th>\n",
       "      <td>Equestrian Dressage</td>\n",
       "      <td>126</td>\n",
       "    </tr>\n",
       "    <tr>\n",
       "      <th>36</th>\n",
       "      <td>Nordic Combined</td>\n",
       "      <td>120</td>\n",
       "    </tr>\n",
       "    <tr>\n",
       "      <th>37</th>\n",
       "      <td>Hockey</td>\n",
       "      <td>106</td>\n",
       "    </tr>\n",
       "    <tr>\n",
       "      <th>38</th>\n",
       "      <td>Water Polo</td>\n",
       "      <td>103</td>\n",
       "    </tr>\n",
       "    <tr>\n",
       "      <th>39</th>\n",
       "      <td>Football</td>\n",
       "      <td>103</td>\n",
       "    </tr>\n",
       "  </tbody>\n",
       "</table>\n",
       "</div>"
      ],
      "text/plain": [
       "                   Discipline  players\n",
       "0                   Athletics     3080\n",
       "1                    Swimming     1763\n",
       "2                   Wrestling     1356\n",
       "3                      Rowing     1072\n",
       "4                      Boxing      996\n",
       "5         Gymnastics Artistic      979\n",
       "6                    Shooting      871\n",
       "7                Canoe Sprint      799\n",
       "8                     Sailing      771\n",
       "9               Weightlifting      679\n",
       "10                    Fencing      668\n",
       "11              Speed skating      611\n",
       "12                       Judo      607\n",
       "13              Cycling Track      578\n",
       "14       Cross Country Skiing      574\n",
       "15              Alpine Skiing      494\n",
       "16                     Diving      460\n",
       "17             Figure skating      405\n",
       "18                     Tennis      346\n",
       "19                   Biathlon      286\n",
       "20                  Bobsleigh      235\n",
       "21                    Archery      204\n",
       "22                       Luge      201\n",
       "23               Cycling Road      201\n",
       "24                  Badminton      192\n",
       "25                  Taekwondo      176\n",
       "26           Freestyle Skiing      171\n",
       "27  Short Track Speed Skating      171\n",
       "28                Ski Jumping      162\n",
       "29                  Snowboard      156\n",
       "30               Table Tennis      150\n",
       "31         Equestrian Jumping      144\n",
       "32        Equestrian Eventing      137\n",
       "33               Canoe Slalom      132\n",
       "34          Modern Pentathlon      126\n",
       "35        Equestrian Dressage      126\n",
       "36            Nordic Combined      120\n",
       "37                     Hockey      106\n",
       "38                 Water Polo      103\n",
       "39                   Football      103"
      ]
     },
     "execution_count": 15,
     "metadata": {},
     "output_type": "execute_result"
    }
   ],
   "source": [
    "s4 = medal.discipline_title.value_counts()\n",
    "s4\n",
    "new4 = pd.DataFrame({'Discipline' : s4.index , 'players' : s4.values})\n",
    "new4\n",
    "\n",
    "df4 = new4[new4['players'] > 100]\n",
    "df4\n"
   ]
  },
  {
   "cell_type": "code",
   "execution_count": 16,
   "metadata": {},
   "outputs": [
    {
     "data": {
      "application/vnd.plotly.v1+json": {
       "config": {
        "plotlyServerURL": "https://plot.ly"
       },
       "data": [
        {
         "alignmentgroup": "True",
         "hovertemplate": "Discipline=%{x}<br>players=%{y}<extra></extra>",
         "legendgroup": "",
         "marker": {
          "color": "#636efa",
          "pattern": {
           "shape": ""
          }
         },
         "name": "",
         "offsetgroup": "",
         "orientation": "v",
         "showlegend": false,
         "textposition": "auto",
         "type": "bar",
         "x": [
          "Athletics",
          "Swimming",
          "Wrestling",
          "Rowing",
          "Boxing",
          "Gymnastics Artistic",
          "Shooting",
          "Canoe Sprint",
          "Sailing",
          "Weightlifting",
          "Fencing",
          "Speed skating",
          "Judo",
          "Cycling Track",
          "Cross Country Skiing",
          "Alpine Skiing",
          "Diving",
          "Figure skating",
          "Tennis",
          "Biathlon",
          "Bobsleigh",
          "Archery",
          "Luge",
          "Cycling Road",
          "Badminton",
          "Taekwondo",
          "Freestyle Skiing",
          "Short Track Speed Skating",
          "Ski Jumping",
          "Snowboard",
          "Table Tennis",
          "Equestrian Jumping",
          "Equestrian Eventing",
          "Canoe Slalom",
          "Modern Pentathlon",
          "Equestrian Dressage",
          "Nordic Combined",
          "Hockey",
          "Water Polo",
          "Football"
         ],
         "xaxis": "x",
         "y": [
          3080,
          1763,
          1356,
          1072,
          996,
          979,
          871,
          799,
          771,
          679,
          668,
          611,
          607,
          578,
          574,
          494,
          460,
          405,
          346,
          286,
          235,
          204,
          201,
          201,
          192,
          176,
          171,
          171,
          162,
          156,
          150,
          144,
          137,
          132,
          126,
          126,
          120,
          106,
          103,
          103
         ],
         "yaxis": "y"
        }
       ],
       "layout": {
        "barmode": "relative",
        "legend": {
         "tracegroupgap": 0
        },
        "template": {
         "data": {
          "bar": [
           {
            "error_x": {
             "color": "#2a3f5f"
            },
            "error_y": {
             "color": "#2a3f5f"
            },
            "marker": {
             "line": {
              "color": "#E5ECF6",
              "width": 0.5
             },
             "pattern": {
              "fillmode": "overlay",
              "size": 10,
              "solidity": 0.2
             }
            },
            "type": "bar"
           }
          ],
          "barpolar": [
           {
            "marker": {
             "line": {
              "color": "#E5ECF6",
              "width": 0.5
             },
             "pattern": {
              "fillmode": "overlay",
              "size": 10,
              "solidity": 0.2
             }
            },
            "type": "barpolar"
           }
          ],
          "carpet": [
           {
            "aaxis": {
             "endlinecolor": "#2a3f5f",
             "gridcolor": "white",
             "linecolor": "white",
             "minorgridcolor": "white",
             "startlinecolor": "#2a3f5f"
            },
            "baxis": {
             "endlinecolor": "#2a3f5f",
             "gridcolor": "white",
             "linecolor": "white",
             "minorgridcolor": "white",
             "startlinecolor": "#2a3f5f"
            },
            "type": "carpet"
           }
          ],
          "choropleth": [
           {
            "colorbar": {
             "outlinewidth": 0,
             "ticks": ""
            },
            "type": "choropleth"
           }
          ],
          "contour": [
           {
            "colorbar": {
             "outlinewidth": 0,
             "ticks": ""
            },
            "colorscale": [
             [
              0,
              "#0d0887"
             ],
             [
              0.1111111111111111,
              "#46039f"
             ],
             [
              0.2222222222222222,
              "#7201a8"
             ],
             [
              0.3333333333333333,
              "#9c179e"
             ],
             [
              0.4444444444444444,
              "#bd3786"
             ],
             [
              0.5555555555555556,
              "#d8576b"
             ],
             [
              0.6666666666666666,
              "#ed7953"
             ],
             [
              0.7777777777777778,
              "#fb9f3a"
             ],
             [
              0.8888888888888888,
              "#fdca26"
             ],
             [
              1,
              "#f0f921"
             ]
            ],
            "type": "contour"
           }
          ],
          "contourcarpet": [
           {
            "colorbar": {
             "outlinewidth": 0,
             "ticks": ""
            },
            "type": "contourcarpet"
           }
          ],
          "heatmap": [
           {
            "colorbar": {
             "outlinewidth": 0,
             "ticks": ""
            },
            "colorscale": [
             [
              0,
              "#0d0887"
             ],
             [
              0.1111111111111111,
              "#46039f"
             ],
             [
              0.2222222222222222,
              "#7201a8"
             ],
             [
              0.3333333333333333,
              "#9c179e"
             ],
             [
              0.4444444444444444,
              "#bd3786"
             ],
             [
              0.5555555555555556,
              "#d8576b"
             ],
             [
              0.6666666666666666,
              "#ed7953"
             ],
             [
              0.7777777777777778,
              "#fb9f3a"
             ],
             [
              0.8888888888888888,
              "#fdca26"
             ],
             [
              1,
              "#f0f921"
             ]
            ],
            "type": "heatmap"
           }
          ],
          "heatmapgl": [
           {
            "colorbar": {
             "outlinewidth": 0,
             "ticks": ""
            },
            "colorscale": [
             [
              0,
              "#0d0887"
             ],
             [
              0.1111111111111111,
              "#46039f"
             ],
             [
              0.2222222222222222,
              "#7201a8"
             ],
             [
              0.3333333333333333,
              "#9c179e"
             ],
             [
              0.4444444444444444,
              "#bd3786"
             ],
             [
              0.5555555555555556,
              "#d8576b"
             ],
             [
              0.6666666666666666,
              "#ed7953"
             ],
             [
              0.7777777777777778,
              "#fb9f3a"
             ],
             [
              0.8888888888888888,
              "#fdca26"
             ],
             [
              1,
              "#f0f921"
             ]
            ],
            "type": "heatmapgl"
           }
          ],
          "histogram": [
           {
            "marker": {
             "pattern": {
              "fillmode": "overlay",
              "size": 10,
              "solidity": 0.2
             }
            },
            "type": "histogram"
           }
          ],
          "histogram2d": [
           {
            "colorbar": {
             "outlinewidth": 0,
             "ticks": ""
            },
            "colorscale": [
             [
              0,
              "#0d0887"
             ],
             [
              0.1111111111111111,
              "#46039f"
             ],
             [
              0.2222222222222222,
              "#7201a8"
             ],
             [
              0.3333333333333333,
              "#9c179e"
             ],
             [
              0.4444444444444444,
              "#bd3786"
             ],
             [
              0.5555555555555556,
              "#d8576b"
             ],
             [
              0.6666666666666666,
              "#ed7953"
             ],
             [
              0.7777777777777778,
              "#fb9f3a"
             ],
             [
              0.8888888888888888,
              "#fdca26"
             ],
             [
              1,
              "#f0f921"
             ]
            ],
            "type": "histogram2d"
           }
          ],
          "histogram2dcontour": [
           {
            "colorbar": {
             "outlinewidth": 0,
             "ticks": ""
            },
            "colorscale": [
             [
              0,
              "#0d0887"
             ],
             [
              0.1111111111111111,
              "#46039f"
             ],
             [
              0.2222222222222222,
              "#7201a8"
             ],
             [
              0.3333333333333333,
              "#9c179e"
             ],
             [
              0.4444444444444444,
              "#bd3786"
             ],
             [
              0.5555555555555556,
              "#d8576b"
             ],
             [
              0.6666666666666666,
              "#ed7953"
             ],
             [
              0.7777777777777778,
              "#fb9f3a"
             ],
             [
              0.8888888888888888,
              "#fdca26"
             ],
             [
              1,
              "#f0f921"
             ]
            ],
            "type": "histogram2dcontour"
           }
          ],
          "mesh3d": [
           {
            "colorbar": {
             "outlinewidth": 0,
             "ticks": ""
            },
            "type": "mesh3d"
           }
          ],
          "parcoords": [
           {
            "line": {
             "colorbar": {
              "outlinewidth": 0,
              "ticks": ""
             }
            },
            "type": "parcoords"
           }
          ],
          "pie": [
           {
            "automargin": true,
            "type": "pie"
           }
          ],
          "scatter": [
           {
            "fillpattern": {
             "fillmode": "overlay",
             "size": 10,
             "solidity": 0.2
            },
            "type": "scatter"
           }
          ],
          "scatter3d": [
           {
            "line": {
             "colorbar": {
              "outlinewidth": 0,
              "ticks": ""
             }
            },
            "marker": {
             "colorbar": {
              "outlinewidth": 0,
              "ticks": ""
             }
            },
            "type": "scatter3d"
           }
          ],
          "scattercarpet": [
           {
            "marker": {
             "colorbar": {
              "outlinewidth": 0,
              "ticks": ""
             }
            },
            "type": "scattercarpet"
           }
          ],
          "scattergeo": [
           {
            "marker": {
             "colorbar": {
              "outlinewidth": 0,
              "ticks": ""
             }
            },
            "type": "scattergeo"
           }
          ],
          "scattergl": [
           {
            "marker": {
             "colorbar": {
              "outlinewidth": 0,
              "ticks": ""
             }
            },
            "type": "scattergl"
           }
          ],
          "scattermapbox": [
           {
            "marker": {
             "colorbar": {
              "outlinewidth": 0,
              "ticks": ""
             }
            },
            "type": "scattermapbox"
           }
          ],
          "scatterpolar": [
           {
            "marker": {
             "colorbar": {
              "outlinewidth": 0,
              "ticks": ""
             }
            },
            "type": "scatterpolar"
           }
          ],
          "scatterpolargl": [
           {
            "marker": {
             "colorbar": {
              "outlinewidth": 0,
              "ticks": ""
             }
            },
            "type": "scatterpolargl"
           }
          ],
          "scatterternary": [
           {
            "marker": {
             "colorbar": {
              "outlinewidth": 0,
              "ticks": ""
             }
            },
            "type": "scatterternary"
           }
          ],
          "surface": [
           {
            "colorbar": {
             "outlinewidth": 0,
             "ticks": ""
            },
            "colorscale": [
             [
              0,
              "#0d0887"
             ],
             [
              0.1111111111111111,
              "#46039f"
             ],
             [
              0.2222222222222222,
              "#7201a8"
             ],
             [
              0.3333333333333333,
              "#9c179e"
             ],
             [
              0.4444444444444444,
              "#bd3786"
             ],
             [
              0.5555555555555556,
              "#d8576b"
             ],
             [
              0.6666666666666666,
              "#ed7953"
             ],
             [
              0.7777777777777778,
              "#fb9f3a"
             ],
             [
              0.8888888888888888,
              "#fdca26"
             ],
             [
              1,
              "#f0f921"
             ]
            ],
            "type": "surface"
           }
          ],
          "table": [
           {
            "cells": {
             "fill": {
              "color": "#EBF0F8"
             },
             "line": {
              "color": "white"
             }
            },
            "header": {
             "fill": {
              "color": "#C8D4E3"
             },
             "line": {
              "color": "white"
             }
            },
            "type": "table"
           }
          ]
         },
         "layout": {
          "annotationdefaults": {
           "arrowcolor": "#2a3f5f",
           "arrowhead": 0,
           "arrowwidth": 1
          },
          "autotypenumbers": "strict",
          "coloraxis": {
           "colorbar": {
            "outlinewidth": 0,
            "ticks": ""
           }
          },
          "colorscale": {
           "diverging": [
            [
             0,
             "#8e0152"
            ],
            [
             0.1,
             "#c51b7d"
            ],
            [
             0.2,
             "#de77ae"
            ],
            [
             0.3,
             "#f1b6da"
            ],
            [
             0.4,
             "#fde0ef"
            ],
            [
             0.5,
             "#f7f7f7"
            ],
            [
             0.6,
             "#e6f5d0"
            ],
            [
             0.7,
             "#b8e186"
            ],
            [
             0.8,
             "#7fbc41"
            ],
            [
             0.9,
             "#4d9221"
            ],
            [
             1,
             "#276419"
            ]
           ],
           "sequential": [
            [
             0,
             "#0d0887"
            ],
            [
             0.1111111111111111,
             "#46039f"
            ],
            [
             0.2222222222222222,
             "#7201a8"
            ],
            [
             0.3333333333333333,
             "#9c179e"
            ],
            [
             0.4444444444444444,
             "#bd3786"
            ],
            [
             0.5555555555555556,
             "#d8576b"
            ],
            [
             0.6666666666666666,
             "#ed7953"
            ],
            [
             0.7777777777777778,
             "#fb9f3a"
            ],
            [
             0.8888888888888888,
             "#fdca26"
            ],
            [
             1,
             "#f0f921"
            ]
           ],
           "sequentialminus": [
            [
             0,
             "#0d0887"
            ],
            [
             0.1111111111111111,
             "#46039f"
            ],
            [
             0.2222222222222222,
             "#7201a8"
            ],
            [
             0.3333333333333333,
             "#9c179e"
            ],
            [
             0.4444444444444444,
             "#bd3786"
            ],
            [
             0.5555555555555556,
             "#d8576b"
            ],
            [
             0.6666666666666666,
             "#ed7953"
            ],
            [
             0.7777777777777778,
             "#fb9f3a"
            ],
            [
             0.8888888888888888,
             "#fdca26"
            ],
            [
             1,
             "#f0f921"
            ]
           ]
          },
          "colorway": [
           "#636efa",
           "#EF553B",
           "#00cc96",
           "#ab63fa",
           "#FFA15A",
           "#19d3f3",
           "#FF6692",
           "#B6E880",
           "#FF97FF",
           "#FECB52"
          ],
          "font": {
           "color": "#2a3f5f"
          },
          "geo": {
           "bgcolor": "white",
           "lakecolor": "white",
           "landcolor": "#E5ECF6",
           "showlakes": true,
           "showland": true,
           "subunitcolor": "white"
          },
          "hoverlabel": {
           "align": "left"
          },
          "hovermode": "closest",
          "mapbox": {
           "style": "light"
          },
          "paper_bgcolor": "white",
          "plot_bgcolor": "#E5ECF6",
          "polar": {
           "angularaxis": {
            "gridcolor": "white",
            "linecolor": "white",
            "ticks": ""
           },
           "bgcolor": "#E5ECF6",
           "radialaxis": {
            "gridcolor": "white",
            "linecolor": "white",
            "ticks": ""
           }
          },
          "scene": {
           "xaxis": {
            "backgroundcolor": "#E5ECF6",
            "gridcolor": "white",
            "gridwidth": 2,
            "linecolor": "white",
            "showbackground": true,
            "ticks": "",
            "zerolinecolor": "white"
           },
           "yaxis": {
            "backgroundcolor": "#E5ECF6",
            "gridcolor": "white",
            "gridwidth": 2,
            "linecolor": "white",
            "showbackground": true,
            "ticks": "",
            "zerolinecolor": "white"
           },
           "zaxis": {
            "backgroundcolor": "#E5ECF6",
            "gridcolor": "white",
            "gridwidth": 2,
            "linecolor": "white",
            "showbackground": true,
            "ticks": "",
            "zerolinecolor": "white"
           }
          },
          "shapedefaults": {
           "line": {
            "color": "#2a3f5f"
           }
          },
          "ternary": {
           "aaxis": {
            "gridcolor": "white",
            "linecolor": "white",
            "ticks": ""
           },
           "baxis": {
            "gridcolor": "white",
            "linecolor": "white",
            "ticks": ""
           },
           "bgcolor": "#E5ECF6",
           "caxis": {
            "gridcolor": "white",
            "linecolor": "white",
            "ticks": ""
           }
          },
          "title": {
           "x": 0.05
          },
          "xaxis": {
           "automargin": true,
           "gridcolor": "white",
           "linecolor": "white",
           "ticks": "",
           "title": {
            "standoff": 15
           },
           "zerolinecolor": "white",
           "zerolinewidth": 2
          },
          "yaxis": {
           "automargin": true,
           "gridcolor": "white",
           "linecolor": "white",
           "ticks": "",
           "title": {
            "standoff": 15
           },
           "zerolinecolor": "white",
           "zerolinewidth": 2
          }
         }
        },
        "title": {
         "text": "Players according to Discipline"
        },
        "xaxis": {
         "anchor": "y",
         "domain": [
          0,
          1
         ],
         "title": {
          "text": "Discipline"
         }
        },
        "yaxis": {
         "anchor": "x",
         "domain": [
          0,
          1
         ],
         "title": {
          "text": "players"
         }
        }
       }
      }
     },
     "metadata": {},
     "output_type": "display_data"
    }
   ],
   "source": [
    "px.bar(df4 , x = 'Discipline' , y ='players' , title='Players according to Discipline')"
   ]
  },
  {
   "cell_type": "code",
   "execution_count": 17,
   "metadata": {},
   "outputs": [
    {
     "data": {
      "text/html": [
       "<div>\n",
       "<style scoped>\n",
       "    .dataframe tbody tr th:only-of-type {\n",
       "        vertical-align: middle;\n",
       "    }\n",
       "\n",
       "    .dataframe tbody tr th {\n",
       "        vertical-align: top;\n",
       "    }\n",
       "\n",
       "    .dataframe thead th {\n",
       "        text-align: right;\n",
       "    }\n",
       "</style>\n",
       "<table border=\"1\" class=\"dataframe\">\n",
       "  <thead>\n",
       "    <tr style=\"text-align: right;\">\n",
       "      <th></th>\n",
       "      <th>discipline_title</th>\n",
       "      <th>slug_game</th>\n",
       "      <th>event_title</th>\n",
       "      <th>event_gender</th>\n",
       "      <th>medal_type</th>\n",
       "      <th>participant_type</th>\n",
       "      <th>participant_title</th>\n",
       "      <th>athlete_url</th>\n",
       "      <th>athlete_full_name</th>\n",
       "      <th>country_name</th>\n",
       "      <th>country_code</th>\n",
       "      <th>country_3_letter_code</th>\n",
       "    </tr>\n",
       "  </thead>\n",
       "  <tbody>\n",
       "    <tr>\n",
       "      <th>1946</th>\n",
       "      <td>Equestrian Jumping</td>\n",
       "      <td>rio-2016</td>\n",
       "      <td>Jumping Team mixed</td>\n",
       "      <td>Open</td>\n",
       "      <td>GOLD</td>\n",
       "      <td>GameTeam</td>\n",
       "      <td>France team</td>\n",
       "      <td>NaN</td>\n",
       "      <td>NaN</td>\n",
       "      <td>France</td>\n",
       "      <td>FR</td>\n",
       "      <td>FRA</td>\n",
       "    </tr>\n",
       "    <tr>\n",
       "      <th>1947</th>\n",
       "      <td>Equestrian Jumping</td>\n",
       "      <td>rio-2016</td>\n",
       "      <td>Jumping Team mixed</td>\n",
       "      <td>Open</td>\n",
       "      <td>SILVER</td>\n",
       "      <td>GameTeam</td>\n",
       "      <td>United States team</td>\n",
       "      <td>NaN</td>\n",
       "      <td>NaN</td>\n",
       "      <td>United States of America</td>\n",
       "      <td>US</td>\n",
       "      <td>USA</td>\n",
       "    </tr>\n",
       "    <tr>\n",
       "      <th>1948</th>\n",
       "      <td>Equestrian Jumping</td>\n",
       "      <td>rio-2016</td>\n",
       "      <td>Jumping Team mixed</td>\n",
       "      <td>Open</td>\n",
       "      <td>BRONZE</td>\n",
       "      <td>GameTeam</td>\n",
       "      <td>Germany team</td>\n",
       "      <td>NaN</td>\n",
       "      <td>NaN</td>\n",
       "      <td>Germany</td>\n",
       "      <td>DE</td>\n",
       "      <td>GER</td>\n",
       "    </tr>\n",
       "    <tr>\n",
       "      <th>1949</th>\n",
       "      <td>Equestrian Jumping</td>\n",
       "      <td>rio-2016</td>\n",
       "      <td>Jumping Individual mixed</td>\n",
       "      <td>Open</td>\n",
       "      <td>GOLD</td>\n",
       "      <td>Athlete</td>\n",
       "      <td>NaN</td>\n",
       "      <td>https://olympics.com/en/athletes/nick-skelton</td>\n",
       "      <td>Nick SKELTON</td>\n",
       "      <td>Great Britain</td>\n",
       "      <td>GB</td>\n",
       "      <td>GBR</td>\n",
       "    </tr>\n",
       "    <tr>\n",
       "      <th>1950</th>\n",
       "      <td>Equestrian Jumping</td>\n",
       "      <td>rio-2016</td>\n",
       "      <td>Jumping Individual mixed</td>\n",
       "      <td>Open</td>\n",
       "      <td>SILVER</td>\n",
       "      <td>Athlete</td>\n",
       "      <td>NaN</td>\n",
       "      <td>https://olympics.com/en/athletes/peder-fredricson</td>\n",
       "      <td>Peder FREDRICSON</td>\n",
       "      <td>Sweden</td>\n",
       "      <td>SE</td>\n",
       "      <td>SWE</td>\n",
       "    </tr>\n",
       "    <tr>\n",
       "      <th>...</th>\n",
       "      <td>...</td>\n",
       "      <td>...</td>\n",
       "      <td>...</td>\n",
       "      <td>...</td>\n",
       "      <td>...</td>\n",
       "      <td>...</td>\n",
       "      <td>...</td>\n",
       "      <td>...</td>\n",
       "      <td>...</td>\n",
       "      <td>...</td>\n",
       "      <td>...</td>\n",
       "      <td>...</td>\n",
       "    </tr>\n",
       "    <tr>\n",
       "      <th>21541</th>\n",
       "      <td>Tennis</td>\n",
       "      <td>paris-1900</td>\n",
       "      <td>mixed doubles mixed</td>\n",
       "      <td>Mixed</td>\n",
       "      <td>SILVER</td>\n",
       "      <td>GameTeam</td>\n",
       "      <td>Mixed team #1</td>\n",
       "      <td>https://olympics.com/en/athletes/harold-serger...</td>\n",
       "      <td>Harold Sergerson MAHONY</td>\n",
       "      <td>MIX</td>\n",
       "      <td>NaN</td>\n",
       "      <td>MIX</td>\n",
       "    </tr>\n",
       "    <tr>\n",
       "      <th>21542</th>\n",
       "      <td>Tennis</td>\n",
       "      <td>paris-1900</td>\n",
       "      <td>mixed doubles mixed</td>\n",
       "      <td>Mixed</td>\n",
       "      <td>BRONZE</td>\n",
       "      <td>GameTeam</td>\n",
       "      <td>Mixed team #2</td>\n",
       "      <td>NaN</td>\n",
       "      <td>Hedwig Rosenbaum</td>\n",
       "      <td>MIX</td>\n",
       "      <td>NaN</td>\n",
       "      <td>MIX</td>\n",
       "    </tr>\n",
       "    <tr>\n",
       "      <th>21543</th>\n",
       "      <td>Tennis</td>\n",
       "      <td>paris-1900</td>\n",
       "      <td>mixed doubles mixed</td>\n",
       "      <td>Mixed</td>\n",
       "      <td>BRONZE</td>\n",
       "      <td>GameTeam</td>\n",
       "      <td>Mixed team #2</td>\n",
       "      <td>https://olympics.com/en/athletes/archibald-warden</td>\n",
       "      <td>Archibald WARDEN</td>\n",
       "      <td>MIX</td>\n",
       "      <td>NaN</td>\n",
       "      <td>MIX</td>\n",
       "    </tr>\n",
       "    <tr>\n",
       "      <th>21544</th>\n",
       "      <td>Tennis</td>\n",
       "      <td>paris-1900</td>\n",
       "      <td>mixed doubles mixed</td>\n",
       "      <td>Mixed</td>\n",
       "      <td>BRONZE</td>\n",
       "      <td>GameTeam</td>\n",
       "      <td>Mixed team #3</td>\n",
       "      <td>https://olympics.com/en/athletes/marion-jones-1</td>\n",
       "      <td>Marion JONES</td>\n",
       "      <td>MIX</td>\n",
       "      <td>NaN</td>\n",
       "      <td>MIX</td>\n",
       "    </tr>\n",
       "    <tr>\n",
       "      <th>21545</th>\n",
       "      <td>Tennis</td>\n",
       "      <td>paris-1900</td>\n",
       "      <td>mixed doubles mixed</td>\n",
       "      <td>Mixed</td>\n",
       "      <td>BRONZE</td>\n",
       "      <td>GameTeam</td>\n",
       "      <td>Mixed team #3</td>\n",
       "      <td>https://olympics.com/en/athletes/hugh-lawrence...</td>\n",
       "      <td>Hugh Lawrence DOHERTY</td>\n",
       "      <td>MIX</td>\n",
       "      <td>NaN</td>\n",
       "      <td>MIX</td>\n",
       "    </tr>\n",
       "  </tbody>\n",
       "</table>\n",
       "<p>1299 rows × 12 columns</p>\n",
       "</div>"
      ],
      "text/plain": [
       "         discipline_title   slug_game               event_title event_gender   \n",
       "1946   Equestrian Jumping    rio-2016        Jumping Team mixed         Open  \\\n",
       "1947   Equestrian Jumping    rio-2016        Jumping Team mixed         Open   \n",
       "1948   Equestrian Jumping    rio-2016        Jumping Team mixed         Open   \n",
       "1949   Equestrian Jumping    rio-2016  Jumping Individual mixed         Open   \n",
       "1950   Equestrian Jumping    rio-2016  Jumping Individual mixed         Open   \n",
       "...                   ...         ...                       ...          ...   \n",
       "21541              Tennis  paris-1900       mixed doubles mixed        Mixed   \n",
       "21542              Tennis  paris-1900       mixed doubles mixed        Mixed   \n",
       "21543              Tennis  paris-1900       mixed doubles mixed        Mixed   \n",
       "21544              Tennis  paris-1900       mixed doubles mixed        Mixed   \n",
       "21545              Tennis  paris-1900       mixed doubles mixed        Mixed   \n",
       "\n",
       "      medal_type participant_type   participant_title   \n",
       "1946        GOLD         GameTeam         France team  \\\n",
       "1947      SILVER         GameTeam  United States team   \n",
       "1948      BRONZE         GameTeam        Germany team   \n",
       "1949        GOLD          Athlete                 NaN   \n",
       "1950      SILVER          Athlete                 NaN   \n",
       "...          ...              ...                 ...   \n",
       "21541     SILVER         GameTeam       Mixed team #1   \n",
       "21542     BRONZE         GameTeam       Mixed team #2   \n",
       "21543     BRONZE         GameTeam       Mixed team #2   \n",
       "21544     BRONZE         GameTeam       Mixed team #3   \n",
       "21545     BRONZE         GameTeam       Mixed team #3   \n",
       "\n",
       "                                             athlete_url   \n",
       "1946                                                 NaN  \\\n",
       "1947                                                 NaN   \n",
       "1948                                                 NaN   \n",
       "1949       https://olympics.com/en/athletes/nick-skelton   \n",
       "1950   https://olympics.com/en/athletes/peder-fredricson   \n",
       "...                                                  ...   \n",
       "21541  https://olympics.com/en/athletes/harold-serger...   \n",
       "21542                                                NaN   \n",
       "21543  https://olympics.com/en/athletes/archibald-warden   \n",
       "21544    https://olympics.com/en/athletes/marion-jones-1   \n",
       "21545  https://olympics.com/en/athletes/hugh-lawrence...   \n",
       "\n",
       "             athlete_full_name              country_name country_code   \n",
       "1946                       NaN                    France           FR  \\\n",
       "1947                       NaN  United States of America           US   \n",
       "1948                       NaN                   Germany           DE   \n",
       "1949              Nick SKELTON             Great Britain           GB   \n",
       "1950          Peder FREDRICSON                    Sweden           SE   \n",
       "...                        ...                       ...          ...   \n",
       "21541  Harold Sergerson MAHONY                       MIX          NaN   \n",
       "21542         Hedwig Rosenbaum                       MIX          NaN   \n",
       "21543         Archibald WARDEN                       MIX          NaN   \n",
       "21544             Marion JONES                       MIX          NaN   \n",
       "21545    Hugh Lawrence DOHERTY                       MIX          NaN   \n",
       "\n",
       "      country_3_letter_code  \n",
       "1946                    FRA  \n",
       "1947                    USA  \n",
       "1948                    GER  \n",
       "1949                    GBR  \n",
       "1950                    SWE  \n",
       "...                     ...  \n",
       "21541                   MIX  \n",
       "21542                   MIX  \n",
       "21543                   MIX  \n",
       "21544                   MIX  \n",
       "21545                   MIX  \n",
       "\n",
       "[1299 rows x 12 columns]"
      ]
     },
     "execution_count": 17,
     "metadata": {},
     "output_type": "execute_result"
    }
   ],
   "source": [
    "men_medal = medal[medal['event_title'].str.contains(\" men\")]\n",
    "men_medal\n",
    "\n",
    "women_medal = medal[medal['event_title'].str.contains(\"women\")]\n",
    "women_medal\n",
    "\n",
    "event_mixed = medal[medal['event_title'].str.contains(\"mixed\")]\n",
    "event_mixed"
   ]
  },
  {
   "cell_type": "code",
   "execution_count": 18,
   "metadata": {},
   "outputs": [
    {
     "data": {
      "text/html": [
       "<div>\n",
       "<style scoped>\n",
       "    .dataframe tbody tr th:only-of-type {\n",
       "        vertical-align: middle;\n",
       "    }\n",
       "\n",
       "    .dataframe tbody tr th {\n",
       "        vertical-align: top;\n",
       "    }\n",
       "\n",
       "    .dataframe thead th {\n",
       "        text-align: right;\n",
       "    }\n",
       "</style>\n",
       "<table border=\"1\" class=\"dataframe\">\n",
       "  <thead>\n",
       "    <tr style=\"text-align: right;\">\n",
       "      <th></th>\n",
       "      <th>gender</th>\n",
       "      <th>Number of Player</th>\n",
       "    </tr>\n",
       "  </thead>\n",
       "  <tbody>\n",
       "    <tr>\n",
       "      <th>0</th>\n",
       "      <td>Men Medals</td>\n",
       "      <td>11786</td>\n",
       "    </tr>\n",
       "    <tr>\n",
       "      <th>1</th>\n",
       "      <td>Women Medals</td>\n",
       "      <td>5469</td>\n",
       "    </tr>\n",
       "    <tr>\n",
       "      <th>2</th>\n",
       "      <td>Mixed Medals</td>\n",
       "      <td>1299</td>\n",
       "    </tr>\n",
       "  </tbody>\n",
       "</table>\n",
       "</div>"
      ],
      "text/plain": [
       "         gender  Number of Player\n",
       "0    Men Medals             11786\n",
       "1  Women Medals              5469\n",
       "2  Mixed Medals              1299"
      ]
     },
     "execution_count": 18,
     "metadata": {},
     "output_type": "execute_result"
    }
   ],
   "source": [
    "\n",
    "m = men_medal.count()\n",
    "w = women_medal.count()\n",
    "em = event_mixed.count()\n",
    "\n",
    "list1 = [\"Men Medals\" , \"Women Medals\" , \"Mixed Medals\"];\n",
    "list2 = [m.discipline_title,w.discipline_title,em.discipline_title]\n",
    "df5 = pd.DataFrame(list(zip(list1,list2)),columns=[\"gender\" , \"Number of Player\"])\n",
    "df5"
   ]
  },
  {
   "cell_type": "code",
   "execution_count": 19,
   "metadata": {},
   "outputs": [
    {
     "data": {
      "application/vnd.plotly.v1+json": {
       "config": {
        "plotlyServerURL": "https://plot.ly"
       },
       "data": [
        {
         "domain": {
          "x": [
           0,
           1
          ],
          "y": [
           0,
           1
          ]
         },
         "hole": 0.7,
         "hovertemplate": "gender=%{label}<br>Number of Player=%{value}<extra></extra>",
         "labels": [
          "Men Medals",
          "Women Medals",
          "Mixed Medals"
         ],
         "legendgroup": "",
         "name": "",
         "showlegend": true,
         "type": "pie",
         "values": [
          11786,
          5469,
          1299
         ]
        }
       ],
       "layout": {
        "annotations": [
         {
          "align": "center",
          "font": {
           "size": 22
          },
          "showarrow": false,
          "text": "Gender",
          "x": 0.5,
          "xref": "paper",
          "y": 0.3,
          "yref": "paper"
         }
        ],
        "images": [
         {
          "sizex": 0.3,
          "sizey": 0.25,
          "sizing": "contain",
          "source": "https://i.imgur.com/3Cab96Z.jpg",
          "x": 0.48,
          "xanchor": "right",
          "xref": "paper",
          "y": 0.48,
          "yanchor": "bottom",
          "yref": "paper"
         },
         {
          "sizex": 0.3,
          "sizey": 0.25,
          "sizing": "contain",
          "source": "https://i.imgur.com/c6QKoDy.jpg",
          "x": 0.55,
          "xanchor": "right",
          "xref": "paper",
          "y": 0.48,
          "yanchor": "bottom",
          "yref": "paper"
         }
        ],
        "legend": {
         "tracegroupgap": 0
        },
        "template": {
         "data": {
          "bar": [
           {
            "error_x": {
             "color": "#2a3f5f"
            },
            "error_y": {
             "color": "#2a3f5f"
            },
            "marker": {
             "line": {
              "color": "#E5ECF6",
              "width": 0.5
             },
             "pattern": {
              "fillmode": "overlay",
              "size": 10,
              "solidity": 0.2
             }
            },
            "type": "bar"
           }
          ],
          "barpolar": [
           {
            "marker": {
             "line": {
              "color": "#E5ECF6",
              "width": 0.5
             },
             "pattern": {
              "fillmode": "overlay",
              "size": 10,
              "solidity": 0.2
             }
            },
            "type": "barpolar"
           }
          ],
          "carpet": [
           {
            "aaxis": {
             "endlinecolor": "#2a3f5f",
             "gridcolor": "white",
             "linecolor": "white",
             "minorgridcolor": "white",
             "startlinecolor": "#2a3f5f"
            },
            "baxis": {
             "endlinecolor": "#2a3f5f",
             "gridcolor": "white",
             "linecolor": "white",
             "minorgridcolor": "white",
             "startlinecolor": "#2a3f5f"
            },
            "type": "carpet"
           }
          ],
          "choropleth": [
           {
            "colorbar": {
             "outlinewidth": 0,
             "ticks": ""
            },
            "type": "choropleth"
           }
          ],
          "contour": [
           {
            "colorbar": {
             "outlinewidth": 0,
             "ticks": ""
            },
            "colorscale": [
             [
              0,
              "#0d0887"
             ],
             [
              0.1111111111111111,
              "#46039f"
             ],
             [
              0.2222222222222222,
              "#7201a8"
             ],
             [
              0.3333333333333333,
              "#9c179e"
             ],
             [
              0.4444444444444444,
              "#bd3786"
             ],
             [
              0.5555555555555556,
              "#d8576b"
             ],
             [
              0.6666666666666666,
              "#ed7953"
             ],
             [
              0.7777777777777778,
              "#fb9f3a"
             ],
             [
              0.8888888888888888,
              "#fdca26"
             ],
             [
              1,
              "#f0f921"
             ]
            ],
            "type": "contour"
           }
          ],
          "contourcarpet": [
           {
            "colorbar": {
             "outlinewidth": 0,
             "ticks": ""
            },
            "type": "contourcarpet"
           }
          ],
          "heatmap": [
           {
            "colorbar": {
             "outlinewidth": 0,
             "ticks": ""
            },
            "colorscale": [
             [
              0,
              "#0d0887"
             ],
             [
              0.1111111111111111,
              "#46039f"
             ],
             [
              0.2222222222222222,
              "#7201a8"
             ],
             [
              0.3333333333333333,
              "#9c179e"
             ],
             [
              0.4444444444444444,
              "#bd3786"
             ],
             [
              0.5555555555555556,
              "#d8576b"
             ],
             [
              0.6666666666666666,
              "#ed7953"
             ],
             [
              0.7777777777777778,
              "#fb9f3a"
             ],
             [
              0.8888888888888888,
              "#fdca26"
             ],
             [
              1,
              "#f0f921"
             ]
            ],
            "type": "heatmap"
           }
          ],
          "heatmapgl": [
           {
            "colorbar": {
             "outlinewidth": 0,
             "ticks": ""
            },
            "colorscale": [
             [
              0,
              "#0d0887"
             ],
             [
              0.1111111111111111,
              "#46039f"
             ],
             [
              0.2222222222222222,
              "#7201a8"
             ],
             [
              0.3333333333333333,
              "#9c179e"
             ],
             [
              0.4444444444444444,
              "#bd3786"
             ],
             [
              0.5555555555555556,
              "#d8576b"
             ],
             [
              0.6666666666666666,
              "#ed7953"
             ],
             [
              0.7777777777777778,
              "#fb9f3a"
             ],
             [
              0.8888888888888888,
              "#fdca26"
             ],
             [
              1,
              "#f0f921"
             ]
            ],
            "type": "heatmapgl"
           }
          ],
          "histogram": [
           {
            "marker": {
             "pattern": {
              "fillmode": "overlay",
              "size": 10,
              "solidity": 0.2
             }
            },
            "type": "histogram"
           }
          ],
          "histogram2d": [
           {
            "colorbar": {
             "outlinewidth": 0,
             "ticks": ""
            },
            "colorscale": [
             [
              0,
              "#0d0887"
             ],
             [
              0.1111111111111111,
              "#46039f"
             ],
             [
              0.2222222222222222,
              "#7201a8"
             ],
             [
              0.3333333333333333,
              "#9c179e"
             ],
             [
              0.4444444444444444,
              "#bd3786"
             ],
             [
              0.5555555555555556,
              "#d8576b"
             ],
             [
              0.6666666666666666,
              "#ed7953"
             ],
             [
              0.7777777777777778,
              "#fb9f3a"
             ],
             [
              0.8888888888888888,
              "#fdca26"
             ],
             [
              1,
              "#f0f921"
             ]
            ],
            "type": "histogram2d"
           }
          ],
          "histogram2dcontour": [
           {
            "colorbar": {
             "outlinewidth": 0,
             "ticks": ""
            },
            "colorscale": [
             [
              0,
              "#0d0887"
             ],
             [
              0.1111111111111111,
              "#46039f"
             ],
             [
              0.2222222222222222,
              "#7201a8"
             ],
             [
              0.3333333333333333,
              "#9c179e"
             ],
             [
              0.4444444444444444,
              "#bd3786"
             ],
             [
              0.5555555555555556,
              "#d8576b"
             ],
             [
              0.6666666666666666,
              "#ed7953"
             ],
             [
              0.7777777777777778,
              "#fb9f3a"
             ],
             [
              0.8888888888888888,
              "#fdca26"
             ],
             [
              1,
              "#f0f921"
             ]
            ],
            "type": "histogram2dcontour"
           }
          ],
          "mesh3d": [
           {
            "colorbar": {
             "outlinewidth": 0,
             "ticks": ""
            },
            "type": "mesh3d"
           }
          ],
          "parcoords": [
           {
            "line": {
             "colorbar": {
              "outlinewidth": 0,
              "ticks": ""
             }
            },
            "type": "parcoords"
           }
          ],
          "pie": [
           {
            "automargin": true,
            "type": "pie"
           }
          ],
          "scatter": [
           {
            "fillpattern": {
             "fillmode": "overlay",
             "size": 10,
             "solidity": 0.2
            },
            "type": "scatter"
           }
          ],
          "scatter3d": [
           {
            "line": {
             "colorbar": {
              "outlinewidth": 0,
              "ticks": ""
             }
            },
            "marker": {
             "colorbar": {
              "outlinewidth": 0,
              "ticks": ""
             }
            },
            "type": "scatter3d"
           }
          ],
          "scattercarpet": [
           {
            "marker": {
             "colorbar": {
              "outlinewidth": 0,
              "ticks": ""
             }
            },
            "type": "scattercarpet"
           }
          ],
          "scattergeo": [
           {
            "marker": {
             "colorbar": {
              "outlinewidth": 0,
              "ticks": ""
             }
            },
            "type": "scattergeo"
           }
          ],
          "scattergl": [
           {
            "marker": {
             "colorbar": {
              "outlinewidth": 0,
              "ticks": ""
             }
            },
            "type": "scattergl"
           }
          ],
          "scattermapbox": [
           {
            "marker": {
             "colorbar": {
              "outlinewidth": 0,
              "ticks": ""
             }
            },
            "type": "scattermapbox"
           }
          ],
          "scatterpolar": [
           {
            "marker": {
             "colorbar": {
              "outlinewidth": 0,
              "ticks": ""
             }
            },
            "type": "scatterpolar"
           }
          ],
          "scatterpolargl": [
           {
            "marker": {
             "colorbar": {
              "outlinewidth": 0,
              "ticks": ""
             }
            },
            "type": "scatterpolargl"
           }
          ],
          "scatterternary": [
           {
            "marker": {
             "colorbar": {
              "outlinewidth": 0,
              "ticks": ""
             }
            },
            "type": "scatterternary"
           }
          ],
          "surface": [
           {
            "colorbar": {
             "outlinewidth": 0,
             "ticks": ""
            },
            "colorscale": [
             [
              0,
              "#0d0887"
             ],
             [
              0.1111111111111111,
              "#46039f"
             ],
             [
              0.2222222222222222,
              "#7201a8"
             ],
             [
              0.3333333333333333,
              "#9c179e"
             ],
             [
              0.4444444444444444,
              "#bd3786"
             ],
             [
              0.5555555555555556,
              "#d8576b"
             ],
             [
              0.6666666666666666,
              "#ed7953"
             ],
             [
              0.7777777777777778,
              "#fb9f3a"
             ],
             [
              0.8888888888888888,
              "#fdca26"
             ],
             [
              1,
              "#f0f921"
             ]
            ],
            "type": "surface"
           }
          ],
          "table": [
           {
            "cells": {
             "fill": {
              "color": "#EBF0F8"
             },
             "line": {
              "color": "white"
             }
            },
            "header": {
             "fill": {
              "color": "#C8D4E3"
             },
             "line": {
              "color": "white"
             }
            },
            "type": "table"
           }
          ]
         },
         "layout": {
          "annotationdefaults": {
           "arrowcolor": "#2a3f5f",
           "arrowhead": 0,
           "arrowwidth": 1
          },
          "autotypenumbers": "strict",
          "coloraxis": {
           "colorbar": {
            "outlinewidth": 0,
            "ticks": ""
           }
          },
          "colorscale": {
           "diverging": [
            [
             0,
             "#8e0152"
            ],
            [
             0.1,
             "#c51b7d"
            ],
            [
             0.2,
             "#de77ae"
            ],
            [
             0.3,
             "#f1b6da"
            ],
            [
             0.4,
             "#fde0ef"
            ],
            [
             0.5,
             "#f7f7f7"
            ],
            [
             0.6,
             "#e6f5d0"
            ],
            [
             0.7,
             "#b8e186"
            ],
            [
             0.8,
             "#7fbc41"
            ],
            [
             0.9,
             "#4d9221"
            ],
            [
             1,
             "#276419"
            ]
           ],
           "sequential": [
            [
             0,
             "#0d0887"
            ],
            [
             0.1111111111111111,
             "#46039f"
            ],
            [
             0.2222222222222222,
             "#7201a8"
            ],
            [
             0.3333333333333333,
             "#9c179e"
            ],
            [
             0.4444444444444444,
             "#bd3786"
            ],
            [
             0.5555555555555556,
             "#d8576b"
            ],
            [
             0.6666666666666666,
             "#ed7953"
            ],
            [
             0.7777777777777778,
             "#fb9f3a"
            ],
            [
             0.8888888888888888,
             "#fdca26"
            ],
            [
             1,
             "#f0f921"
            ]
           ],
           "sequentialminus": [
            [
             0,
             "#0d0887"
            ],
            [
             0.1111111111111111,
             "#46039f"
            ],
            [
             0.2222222222222222,
             "#7201a8"
            ],
            [
             0.3333333333333333,
             "#9c179e"
            ],
            [
             0.4444444444444444,
             "#bd3786"
            ],
            [
             0.5555555555555556,
             "#d8576b"
            ],
            [
             0.6666666666666666,
             "#ed7953"
            ],
            [
             0.7777777777777778,
             "#fb9f3a"
            ],
            [
             0.8888888888888888,
             "#fdca26"
            ],
            [
             1,
             "#f0f921"
            ]
           ]
          },
          "colorway": [
           "#636efa",
           "#EF553B",
           "#00cc96",
           "#ab63fa",
           "#FFA15A",
           "#19d3f3",
           "#FF6692",
           "#B6E880",
           "#FF97FF",
           "#FECB52"
          ],
          "font": {
           "color": "#2a3f5f"
          },
          "geo": {
           "bgcolor": "white",
           "lakecolor": "white",
           "landcolor": "#E5ECF6",
           "showlakes": true,
           "showland": true,
           "subunitcolor": "white"
          },
          "hoverlabel": {
           "align": "left"
          },
          "hovermode": "closest",
          "mapbox": {
           "style": "light"
          },
          "paper_bgcolor": "white",
          "plot_bgcolor": "#E5ECF6",
          "polar": {
           "angularaxis": {
            "gridcolor": "white",
            "linecolor": "white",
            "ticks": ""
           },
           "bgcolor": "#E5ECF6",
           "radialaxis": {
            "gridcolor": "white",
            "linecolor": "white",
            "ticks": ""
           }
          },
          "scene": {
           "xaxis": {
            "backgroundcolor": "#E5ECF6",
            "gridcolor": "white",
            "gridwidth": 2,
            "linecolor": "white",
            "showbackground": true,
            "ticks": "",
            "zerolinecolor": "white"
           },
           "yaxis": {
            "backgroundcolor": "#E5ECF6",
            "gridcolor": "white",
            "gridwidth": 2,
            "linecolor": "white",
            "showbackground": true,
            "ticks": "",
            "zerolinecolor": "white"
           },
           "zaxis": {
            "backgroundcolor": "#E5ECF6",
            "gridcolor": "white",
            "gridwidth": 2,
            "linecolor": "white",
            "showbackground": true,
            "ticks": "",
            "zerolinecolor": "white"
           }
          },
          "shapedefaults": {
           "line": {
            "color": "#2a3f5f"
           }
          },
          "ternary": {
           "aaxis": {
            "gridcolor": "white",
            "linecolor": "white",
            "ticks": ""
           },
           "baxis": {
            "gridcolor": "white",
            "linecolor": "white",
            "ticks": ""
           },
           "bgcolor": "#E5ECF6",
           "caxis": {
            "gridcolor": "white",
            "linecolor": "white",
            "ticks": ""
           }
          },
          "title": {
           "x": 0.05
          },
          "xaxis": {
           "automargin": true,
           "gridcolor": "white",
           "linecolor": "white",
           "ticks": "",
           "title": {
            "standoff": 15
           },
           "zerolinecolor": "white",
           "zerolinewidth": 2
          },
          "yaxis": {
           "automargin": true,
           "gridcolor": "white",
           "linecolor": "white",
           "ticks": "",
           "title": {
            "standoff": 15
           },
           "zerolinecolor": "white",
           "zerolinewidth": 2
          }
         }
        },
        "title": {
         "text": "Medals respect to Gender"
        }
       }
      }
     },
     "metadata": {},
     "output_type": "display_data"
    }
   ],
   "source": [
    "fig = px.pie(df5, values='Number of Player', names='gender', title='Medals respect to Gender' , hole=0.7)\n",
    "fig.add_annotation(dict(x=0.5, y=0.3,  align='center',\n",
    "                        xref = \"paper\", yref = \"paper\",\n",
    "                        showarrow = False, font_size=22,\n",
    "                        text=\"Gender\"))\n",
    "fig.add_layout_image(\n",
    "    dict(\n",
    "        source=\"https://i.imgur.com/3Cab96Z.jpg\",\n",
    "        xref=\"paper\", yref=\"paper\",\n",
    "        x=0.48, y=0.48,\n",
    "        sizex=0.3, sizey=0.25,\n",
    "        xanchor=\"right\", yanchor=\"bottom\", sizing= \"contain\",\n",
    "    )\n",
    ")\n",
    "fig.add_layout_image(\n",
    "    dict(\n",
    "        source=\"https://i.imgur.com/c6QKoDy.jpg\",\n",
    "        xref=\"paper\", yref=\"paper\",\n",
    "        x=0.55, y=0.48,\n",
    "        sizex=0.3, sizey=0.25,\n",
    "        xanchor=\"right\", yanchor=\"bottom\", sizing= \"contain\",\n",
    "    ))\n",
    "fig.show()"
   ]
  },
  {
   "cell_type": "code",
   "execution_count": null,
   "metadata": {},
   "outputs": [],
   "source": []
  }
 ],
 "metadata": {
  "kernelspec": {
   "display_name": "Python 3",
   "language": "python",
   "name": "python3"
  },
  "language_info": {
   "codemirror_mode": {
    "name": "ipython",
    "version": 3
   },
   "file_extension": ".py",
   "mimetype": "text/x-python",
   "name": "python",
   "nbconvert_exporter": "python",
   "pygments_lexer": "ipython3",
   "version": "3.11.2"
  },
  "orig_nbformat": 4
 },
 "nbformat": 4,
 "nbformat_minor": 2
}
